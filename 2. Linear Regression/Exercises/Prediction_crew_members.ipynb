{
  "nbformat": 4,
  "nbformat_minor": 0,
  "metadata": {
    "colab": {
      "name": "SandraAlonsoPaz-LinearRegressionAssigment.ipynb",
      "provenance": []
    },
    "kernelspec": {
      "name": "python3",
      "display_name": "Python 3"
    },
    "language_info": {
      "name": "python"
    }
  },
  "cells": [
    {
      "cell_type": "code",
      "metadata": {
        "id": "UIKWpmkun-g7"
      },
      "source": [
        "!apt-get install openjdk-8-jdk-headless -qq > /dev/null\n",
        "!wget -q https://mirrors.sonic.net/apache/spark/spark-3.1.2/spark-3.1.2-bin-hadoop3.2.tgz\n",
        "!tar xzf spark-3.1.2-bin-hadoop3.2.tgz\n",
        "!pip install -q findspark\n",
        "\n",
        "\n",
        "import os\n",
        "os.environ[\"JAVA_HOME\"] = \"/usr/lib/jvm/java-8-openjdk-amd64\"\n",
        "os.environ[\"SPARK_HOME\"] = \"/content/spark-3.1.2-bin-hadoop3.2\"\n",
        "\n",
        "\n",
        "import findspark\n",
        "findspark.init()\n",
        "from pyspark.sql import SparkSession\n",
        "spark = SparkSession.builder.master(\"local[*]\").getOrCreate()"
      ],
      "execution_count": 1,
      "outputs": []
    },
    {
      "cell_type": "code",
      "metadata": {
        "colab": {
          "base_uri": "https://localhost:8080/",
          "height": 216
        },
        "id": "LPLqLX-ioBCe",
        "outputId": "f1a7613e-1278-4077-a09d-bc26230537c0"
      },
      "source": [
        "spark"
      ],
      "execution_count": 2,
      "outputs": [
        {
          "output_type": "execute_result",
          "data": {
            "text/html": [
              "\n",
              "            <div>\n",
              "                <p><b>SparkSession - in-memory</b></p>\n",
              "                \n",
              "        <div>\n",
              "            <p><b>SparkContext</b></p>\n",
              "\n",
              "            <p><a href=\"http://5ea7579a28ce:4040\">Spark UI</a></p>\n",
              "\n",
              "            <dl>\n",
              "              <dt>Version</dt>\n",
              "                <dd><code>v3.1.2</code></dd>\n",
              "              <dt>Master</dt>\n",
              "                <dd><code>local[*]</code></dd>\n",
              "              <dt>AppName</dt>\n",
              "                <dd><code>pyspark-shell</code></dd>\n",
              "            </dl>\n",
              "        </div>\n",
              "        \n",
              "            </div>\n",
              "        "
            ],
            "text/plain": [
              "<pyspark.sql.session.SparkSession at 0x7f1b4be580d0>"
            ]
          },
          "metadata": {},
          "execution_count": 2
        }
      ]
    },
    {
      "cell_type": "code",
      "metadata": {
        "colab": {
          "base_uri": "https://localhost:8080/"
        },
        "id": "NJnft4cEn9eU",
        "outputId": "99dc02ad-1008-48e4-b20e-3ebf4d8c07b6"
      },
      "source": [
        "#Cargar el archivo\n",
        "cruise_info = spark.read.csv(\"cruise_ship_info.csv\", inferSchema=True, header = True)\n",
        "cruise_info.show()"
      ],
      "execution_count": 34,
      "outputs": [
        {
          "output_type": "stream",
          "name": "stdout",
          "text": [
            "+-----------+-----------+---+------------------+----------+------+------+-----------------+----+\n",
            "|  Ship_name|Cruise_line|Age|           Tonnage|passengers|length|cabins|passenger_density|crew|\n",
            "+-----------+-----------+---+------------------+----------+------+------+-----------------+----+\n",
            "|    Journey|    Azamara|  6|30.276999999999997|      6.94|  5.94|  3.55|            42.64|3.55|\n",
            "|      Quest|    Azamara|  6|30.276999999999997|      6.94|  5.94|  3.55|            42.64|3.55|\n",
            "|Celebration|   Carnival| 26|            47.262|     14.86|  7.22|  7.43|             31.8| 6.7|\n",
            "|   Conquest|   Carnival| 11|             110.0|     29.74|  9.53| 14.88|            36.99|19.1|\n",
            "|    Destiny|   Carnival| 17|           101.353|     26.42|  8.92| 13.21|            38.36|10.0|\n",
            "|    Ecstasy|   Carnival| 22|            70.367|     20.52|  8.55|  10.2|            34.29| 9.2|\n",
            "|    Elation|   Carnival| 15|            70.367|     20.52|  8.55|  10.2|            34.29| 9.2|\n",
            "|    Fantasy|   Carnival| 23|            70.367|     20.56|  8.55| 10.22|            34.23| 9.2|\n",
            "|Fascination|   Carnival| 19|            70.367|     20.52|  8.55|  10.2|            34.29| 9.2|\n",
            "|    Freedom|   Carnival|  6|110.23899999999999|      37.0|  9.51| 14.87|            29.79|11.5|\n",
            "|      Glory|   Carnival| 10|             110.0|     29.74|  9.51| 14.87|            36.99|11.6|\n",
            "|    Holiday|   Carnival| 28|            46.052|     14.52|  7.27|  7.26|            31.72| 6.6|\n",
            "|Imagination|   Carnival| 18|            70.367|     20.52|  8.55|  10.2|            34.29| 9.2|\n",
            "|Inspiration|   Carnival| 17|            70.367|     20.52|  8.55|  10.2|            34.29| 9.2|\n",
            "|     Legend|   Carnival| 11|              86.0|     21.24|  9.63| 10.62|            40.49| 9.3|\n",
            "|   Liberty*|   Carnival|  8|             110.0|     29.74|  9.51| 14.87|            36.99|11.6|\n",
            "|    Miracle|   Carnival|  9|              88.5|     21.24|  9.63| 10.62|            41.67|10.3|\n",
            "|   Paradise|   Carnival| 15|            70.367|     20.52|  8.55|  10.2|            34.29| 9.2|\n",
            "|      Pride|   Carnival| 12|              88.5|     21.24|  9.63| 11.62|            41.67| 9.3|\n",
            "|  Sensation|   Carnival| 20|            70.367|     20.52|  8.55|  10.2|            34.29| 9.2|\n",
            "+-----------+-----------+---+------------------+----------+------+------+-----------------+----+\n",
            "only showing top 20 rows\n",
            "\n"
          ]
        }
      ]
    },
    {
      "cell_type": "code",
      "metadata": {
        "colab": {
          "base_uri": "https://localhost:8080/"
        },
        "id": "TQIlTKwqohKa",
        "outputId": "22617744-c0bd-41a6-d149-48d2be71b4a9"
      },
      "source": [
        "#Para saber que columnas son las más relacionadas con crew (variable independiente), calculamos la correlación columna a columna\n",
        "from pyspark.sql.functions import corr\n",
        "\n",
        "cruise_info.select(corr('Cruise_line', 'crew')).withColumnRenamed(\"corr(Cruise_line, crew)\", \"Cruise_line correlation\").show()\n",
        "cruise_info.select(corr('Age', 'crew')).withColumnRenamed(\"corr(Age, crew)\", \"Age correlation\").show()\n",
        "cruise_info.select(corr('Tonnage', 'crew')).withColumnRenamed(\"corr(Tonnage, crew)\", \"Tonnage correlation\").show()\n",
        "cruise_info.select(corr('passengers', 'crew')).withColumnRenamed(\"corr(passengers, crew)\", \"passengers correlation\").show()\n",
        "cruise_info.select(corr('length', 'crew')).withColumnRenamed(\"corr(length, crew)\", \"length correlation\").show()\n",
        "cruise_info.select(corr('cabins', 'crew')).withColumnRenamed(\"corr(cabins, crew)\", \"cabins correlation\").show()\n",
        "cruise_info.select(corr('passenger_density', 'crew')).withColumnRenamed(\"corr(passenger_density, crew)\", \"passenger_density correlation\").show()"
      ],
      "execution_count": 35,
      "outputs": [
        {
          "output_type": "stream",
          "name": "stdout",
          "text": [
            "+-----------------------+\n",
            "|Cruise_line correlation|\n",
            "+-----------------------+\n",
            "|                   null|\n",
            "+-----------------------+\n",
            "\n",
            "+-------------------+\n",
            "|    Age correlation|\n",
            "+-------------------+\n",
            "|-0.5306565039638852|\n",
            "+-------------------+\n",
            "\n",
            "+-------------------+\n",
            "|Tonnage correlation|\n",
            "+-------------------+\n",
            "| 0.9275688115449388|\n",
            "+-------------------+\n",
            "\n",
            "+----------------------+\n",
            "|passengers correlation|\n",
            "+----------------------+\n",
            "|    0.9152341306065384|\n",
            "+----------------------+\n",
            "\n",
            "+------------------+\n",
            "|length correlation|\n",
            "+------------------+\n",
            "| 0.895856627101658|\n",
            "+------------------+\n",
            "\n",
            "+------------------+\n",
            "|cabins correlation|\n",
            "+------------------+\n",
            "|0.9508226063578497|\n",
            "+------------------+\n",
            "\n",
            "+-----------------------------+\n",
            "|passenger_density correlation|\n",
            "+-----------------------------+\n",
            "|         -0.15550928421699717|\n",
            "+-----------------------------+\n",
            "\n"
          ]
        }
      ]
    },
    {
      "cell_type": "code",
      "metadata": {
        "colab": {
          "base_uri": "https://localhost:8080/"
        },
        "id": "PlKHJ9rKok9z",
        "outputId": "b839aa3b-4c17-4e29-a694-36a9200dbc29"
      },
      "source": [
        "#Tras el resultado anterior, podemos ver que no se puede calcular la correlacion entre un string y un int, por lo tanto usamos la funcion StringIndexer de Spark para convertir el String a valor numérico\n",
        "from pyspark.ml.feature import StringIndexer\n",
        "\n",
        "index = StringIndexer(inputCol='Cruise_line', outputCol='Cruise_line_indexer')\n",
        "df = index.fit(cruise_info).transform(cruise_info)\n",
        "df.show()"
      ],
      "execution_count": 36,
      "outputs": [
        {
          "output_type": "stream",
          "name": "stdout",
          "text": [
            "+-----------+-----------+---+------------------+----------+------+------+-----------------+----+-------------------+\n",
            "|  Ship_name|Cruise_line|Age|           Tonnage|passengers|length|cabins|passenger_density|crew|Cruise_line_indexer|\n",
            "+-----------+-----------+---+------------------+----------+------+------+-----------------+----+-------------------+\n",
            "|    Journey|    Azamara|  6|30.276999999999997|      6.94|  5.94|  3.55|            42.64|3.55|               16.0|\n",
            "|      Quest|    Azamara|  6|30.276999999999997|      6.94|  5.94|  3.55|            42.64|3.55|               16.0|\n",
            "|Celebration|   Carnival| 26|            47.262|     14.86|  7.22|  7.43|             31.8| 6.7|                1.0|\n",
            "|   Conquest|   Carnival| 11|             110.0|     29.74|  9.53| 14.88|            36.99|19.1|                1.0|\n",
            "|    Destiny|   Carnival| 17|           101.353|     26.42|  8.92| 13.21|            38.36|10.0|                1.0|\n",
            "|    Ecstasy|   Carnival| 22|            70.367|     20.52|  8.55|  10.2|            34.29| 9.2|                1.0|\n",
            "|    Elation|   Carnival| 15|            70.367|     20.52|  8.55|  10.2|            34.29| 9.2|                1.0|\n",
            "|    Fantasy|   Carnival| 23|            70.367|     20.56|  8.55| 10.22|            34.23| 9.2|                1.0|\n",
            "|Fascination|   Carnival| 19|            70.367|     20.52|  8.55|  10.2|            34.29| 9.2|                1.0|\n",
            "|    Freedom|   Carnival|  6|110.23899999999999|      37.0|  9.51| 14.87|            29.79|11.5|                1.0|\n",
            "|      Glory|   Carnival| 10|             110.0|     29.74|  9.51| 14.87|            36.99|11.6|                1.0|\n",
            "|    Holiday|   Carnival| 28|            46.052|     14.52|  7.27|  7.26|            31.72| 6.6|                1.0|\n",
            "|Imagination|   Carnival| 18|            70.367|     20.52|  8.55|  10.2|            34.29| 9.2|                1.0|\n",
            "|Inspiration|   Carnival| 17|            70.367|     20.52|  8.55|  10.2|            34.29| 9.2|                1.0|\n",
            "|     Legend|   Carnival| 11|              86.0|     21.24|  9.63| 10.62|            40.49| 9.3|                1.0|\n",
            "|   Liberty*|   Carnival|  8|             110.0|     29.74|  9.51| 14.87|            36.99|11.6|                1.0|\n",
            "|    Miracle|   Carnival|  9|              88.5|     21.24|  9.63| 10.62|            41.67|10.3|                1.0|\n",
            "|   Paradise|   Carnival| 15|            70.367|     20.52|  8.55|  10.2|            34.29| 9.2|                1.0|\n",
            "|      Pride|   Carnival| 12|              88.5|     21.24|  9.63| 11.62|            41.67| 9.3|                1.0|\n",
            "|  Sensation|   Carnival| 20|            70.367|     20.52|  8.55|  10.2|            34.29| 9.2|                1.0|\n",
            "+-----------+-----------+---+------------------+----------+------+------+-----------------+----+-------------------+\n",
            "only showing top 20 rows\n",
            "\n"
          ]
        }
      ]
    },
    {
      "cell_type": "code",
      "metadata": {
        "colab": {
          "base_uri": "https://localhost:8080/"
        },
        "id": "5enKDCzzopYE",
        "outputId": "2b5c67f0-c475-4d3c-ae70-2155b6c2e468"
      },
      "source": [
        "#Metemos en una unica columna features, todas las columnas que queremos tener en cuenta\n",
        "from pyspark.ml.linalg import Vector\n",
        "from pyspark.ml.feature import VectorAssembler\n",
        "\n",
        "assembler = VectorAssembler(inputCols=['Cruise_line_indexer', 'Age', 'Tonnage', 'passengers','length','cabins','passenger_density'], outputCol='features')\n",
        "output = assembler.transform(df)\n",
        "output.show()"
      ],
      "execution_count": 37,
      "outputs": [
        {
          "output_type": "stream",
          "name": "stdout",
          "text": [
            "+-----------+-----------+---+------------------+----------+------+------+-----------------+----+-------------------+--------------------+\n",
            "|  Ship_name|Cruise_line|Age|           Tonnage|passengers|length|cabins|passenger_density|crew|Cruise_line_indexer|            features|\n",
            "+-----------+-----------+---+------------------+----------+------+------+-----------------+----+-------------------+--------------------+\n",
            "|    Journey|    Azamara|  6|30.276999999999997|      6.94|  5.94|  3.55|            42.64|3.55|               16.0|[16.0,6.0,30.2769...|\n",
            "|      Quest|    Azamara|  6|30.276999999999997|      6.94|  5.94|  3.55|            42.64|3.55|               16.0|[16.0,6.0,30.2769...|\n",
            "|Celebration|   Carnival| 26|            47.262|     14.86|  7.22|  7.43|             31.8| 6.7|                1.0|[1.0,26.0,47.262,...|\n",
            "|   Conquest|   Carnival| 11|             110.0|     29.74|  9.53| 14.88|            36.99|19.1|                1.0|[1.0,11.0,110.0,2...|\n",
            "|    Destiny|   Carnival| 17|           101.353|     26.42|  8.92| 13.21|            38.36|10.0|                1.0|[1.0,17.0,101.353...|\n",
            "|    Ecstasy|   Carnival| 22|            70.367|     20.52|  8.55|  10.2|            34.29| 9.2|                1.0|[1.0,22.0,70.367,...|\n",
            "|    Elation|   Carnival| 15|            70.367|     20.52|  8.55|  10.2|            34.29| 9.2|                1.0|[1.0,15.0,70.367,...|\n",
            "|    Fantasy|   Carnival| 23|            70.367|     20.56|  8.55| 10.22|            34.23| 9.2|                1.0|[1.0,23.0,70.367,...|\n",
            "|Fascination|   Carnival| 19|            70.367|     20.52|  8.55|  10.2|            34.29| 9.2|                1.0|[1.0,19.0,70.367,...|\n",
            "|    Freedom|   Carnival|  6|110.23899999999999|      37.0|  9.51| 14.87|            29.79|11.5|                1.0|[1.0,6.0,110.2389...|\n",
            "|      Glory|   Carnival| 10|             110.0|     29.74|  9.51| 14.87|            36.99|11.6|                1.0|[1.0,10.0,110.0,2...|\n",
            "|    Holiday|   Carnival| 28|            46.052|     14.52|  7.27|  7.26|            31.72| 6.6|                1.0|[1.0,28.0,46.052,...|\n",
            "|Imagination|   Carnival| 18|            70.367|     20.52|  8.55|  10.2|            34.29| 9.2|                1.0|[1.0,18.0,70.367,...|\n",
            "|Inspiration|   Carnival| 17|            70.367|     20.52|  8.55|  10.2|            34.29| 9.2|                1.0|[1.0,17.0,70.367,...|\n",
            "|     Legend|   Carnival| 11|              86.0|     21.24|  9.63| 10.62|            40.49| 9.3|                1.0|[1.0,11.0,86.0,21...|\n",
            "|   Liberty*|   Carnival|  8|             110.0|     29.74|  9.51| 14.87|            36.99|11.6|                1.0|[1.0,8.0,110.0,29...|\n",
            "|    Miracle|   Carnival|  9|              88.5|     21.24|  9.63| 10.62|            41.67|10.3|                1.0|[1.0,9.0,88.5,21....|\n",
            "|   Paradise|   Carnival| 15|            70.367|     20.52|  8.55|  10.2|            34.29| 9.2|                1.0|[1.0,15.0,70.367,...|\n",
            "|      Pride|   Carnival| 12|              88.5|     21.24|  9.63| 11.62|            41.67| 9.3|                1.0|[1.0,12.0,88.5,21...|\n",
            "|  Sensation|   Carnival| 20|            70.367|     20.52|  8.55|  10.2|            34.29| 9.2|                1.0|[1.0,20.0,70.367,...|\n",
            "+-----------+-----------+---+------------------+----------+------+------+-----------------+----+-------------------+--------------------+\n",
            "only showing top 20 rows\n",
            "\n"
          ]
        }
      ]
    },
    {
      "cell_type": "code",
      "metadata": {
        "colab": {
          "base_uri": "https://localhost:8080/"
        },
        "id": "8M3s2S-ho25X",
        "outputId": "24e5e33e-05b4-48a1-e99a-f20e1856a7c9"
      },
      "source": [
        "#Mostrar conjunto de columnas (features) con la columna variale independiente (crew)\n",
        "final_data = output.select('features', 'crew')\n",
        "final_data.show()"
      ],
      "execution_count": 38,
      "outputs": [
        {
          "output_type": "stream",
          "name": "stdout",
          "text": [
            "+--------------------+----+\n",
            "|            features|crew|\n",
            "+--------------------+----+\n",
            "|[16.0,6.0,30.2769...|3.55|\n",
            "|[16.0,6.0,30.2769...|3.55|\n",
            "|[1.0,26.0,47.262,...| 6.7|\n",
            "|[1.0,11.0,110.0,2...|19.1|\n",
            "|[1.0,17.0,101.353...|10.0|\n",
            "|[1.0,22.0,70.367,...| 9.2|\n",
            "|[1.0,15.0,70.367,...| 9.2|\n",
            "|[1.0,23.0,70.367,...| 9.2|\n",
            "|[1.0,19.0,70.367,...| 9.2|\n",
            "|[1.0,6.0,110.2389...|11.5|\n",
            "|[1.0,10.0,110.0,2...|11.6|\n",
            "|[1.0,28.0,46.052,...| 6.6|\n",
            "|[1.0,18.0,70.367,...| 9.2|\n",
            "|[1.0,17.0,70.367,...| 9.2|\n",
            "|[1.0,11.0,86.0,21...| 9.3|\n",
            "|[1.0,8.0,110.0,29...|11.6|\n",
            "|[1.0,9.0,88.5,21....|10.3|\n",
            "|[1.0,15.0,70.367,...| 9.2|\n",
            "|[1.0,12.0,88.5,21...| 9.3|\n",
            "|[1.0,20.0,70.367,...| 9.2|\n",
            "+--------------------+----+\n",
            "only showing top 20 rows\n",
            "\n"
          ]
        }
      ]
    },
    {
      "cell_type": "code",
      "metadata": {
        "id": "WWsGVYyqo58X"
      },
      "source": [
        "#Dividimos el conjunto de datos en dos, el primero para entrenar (70%) y el segundo para test (30%)\n",
        "train_data, test_data = final_data.randomSplit([0.7, 0.3])"
      ],
      "execution_count": 39,
      "outputs": []
    },
    {
      "cell_type": "code",
      "metadata": {
        "colab": {
          "base_uri": "https://localhost:8080/"
        },
        "id": "Z2TLxExlo9zm",
        "outputId": "7655a602-745f-4575-de56-44247d30c432"
      },
      "source": [
        "#Mostrar los conjuntos de datos\n",
        "train_data.describe().show()\n",
        "test_data.describe().show()"
      ],
      "execution_count": 40,
      "outputs": [
        {
          "output_type": "stream",
          "name": "stdout",
          "text": [
            "+-------+-----------------+\n",
            "|summary|             crew|\n",
            "+-------+-----------------+\n",
            "|  count|              114|\n",
            "|   mean|7.828771929824567|\n",
            "| stddev|3.553629614105743|\n",
            "|    min|             0.59|\n",
            "|    max|             21.0|\n",
            "+-------+-----------------+\n",
            "\n",
            "+-------+------------------+\n",
            "|summary|              crew|\n",
            "+-------+------------------+\n",
            "|  count|                44|\n",
            "|   mean| 7.704545454545456|\n",
            "| stddev|3.4085995586713036|\n",
            "|    min|              0.59|\n",
            "|    max|             13.13|\n",
            "+-------+------------------+\n",
            "\n"
          ]
        }
      ]
    },
    {
      "cell_type": "code",
      "metadata": {
        "id": "dZcyp-yzpA1_"
      },
      "source": [
        "#Calculamos la regresión lineal para la columna variable independiente (crew)\n",
        "from pyspark.ml.regression import LinearRegression\n",
        "\n",
        "lr = LinearRegression(labelCol='crew')"
      ],
      "execution_count": 41,
      "outputs": []
    },
    {
      "cell_type": "code",
      "metadata": {
        "id": "_1og6yqUpDdM"
      },
      "source": [
        "#Mediante la función fit se crea el model a partir del dataFrame de entrenamiento\n",
        "lr_model = lr.fit(train_data)"
      ],
      "execution_count": 42,
      "outputs": []
    },
    {
      "cell_type": "code",
      "metadata": {
        "id": "rwO66nHbpFcY"
      },
      "source": [
        "#Evaluamos el comporrtamiento del modelo mediante los casos de test\n",
        "test_results = lr_model.evaluate(test_data)"
      ],
      "execution_count": 43,
      "outputs": []
    },
    {
      "cell_type": "code",
      "metadata": {
        "colab": {
          "base_uri": "https://localhost:8080/"
        },
        "id": "-PL4e83YpHcz",
        "outputId": "687cdd0d-d051-41de-aedd-d1b90a1beb83"
      },
      "source": [
        "#Resultados de la predicción de los labeled_data\n",
        "test_results.residuals.show()"
      ],
      "execution_count": 44,
      "outputs": [
        {
          "output_type": "stream",
          "name": "stdout",
          "text": [
            "+--------------------+\n",
            "|           residuals|\n",
            "+--------------------+\n",
            "| -0.3143566882048692|\n",
            "| -0.9972066817469507|\n",
            "| -1.6495102374573118|\n",
            "| -0.9696645393885994|\n",
            "|-0.38722561223823426|\n",
            "|    0.80222180758979|\n",
            "| -0.5039421100212582|\n",
            "| 0.37999422244067915|\n",
            "|  0.5873349169921074|\n",
            "| -0.7022575244772273|\n",
            "|  0.6023498378136125|\n",
            "|  0.6173647586351159|\n",
            "|  1.1260997295797246|\n",
            "|  1.0072080793421687|\n",
            "|  0.2088602279699785|\n",
            "| 0.30182099155396847|\n",
            "|-0.07910486895578472|\n",
            "|-0.06663932704881681|\n",
            "|  0.2228988439423052|\n",
            "|  0.0919665003543706|\n",
            "+--------------------+\n",
            "only showing top 20 rows\n",
            "\n"
          ]
        }
      ]
    },
    {
      "cell_type": "code",
      "metadata": {
        "colab": {
          "base_uri": "https://localhost:8080/"
        },
        "id": "maO3Wpw9pKKe",
        "outputId": "ad55fd82-b532-4b09-db74-6ddfa47cc6c6"
      },
      "source": [
        "#Final squarred errror\n",
        "test_results.rootMeanSquaredError"
      ],
      "execution_count": 45,
      "outputs": [
        {
          "output_type": "execute_result",
          "data": {
            "text/plain": [
              "0.885785163916936"
            ]
          },
          "metadata": {},
          "execution_count": 45
        }
      ]
    },
    {
      "cell_type": "code",
      "metadata": {
        "colab": {
          "base_uri": "https://localhost:8080/"
        },
        "id": "QdE475QKpMrZ",
        "outputId": "9009597d-a4c7-4ca8-9dc0-cbd90dd93398"
      },
      "source": [
        "#Final r-squarred\n",
        "test_results.r2"
      ],
      "execution_count": 46,
      "outputs": [
        {
          "output_type": "execute_result",
          "data": {
            "text/plain": [
              "0.9308982480918682"
            ]
          },
          "metadata": {},
          "execution_count": 46
        }
      ]
    },
    {
      "cell_type": "code",
      "metadata": {
        "id": "NlinTgOppPAg"
      },
      "source": [
        "unlabeled_data = test_data.select('features')"
      ],
      "execution_count": 47,
      "outputs": []
    },
    {
      "cell_type": "code",
      "metadata": {
        "colab": {
          "base_uri": "https://localhost:8080/"
        },
        "id": "GspkXrM_pRVC",
        "outputId": "18248751-a4d9-4479-b17d-5b14883c7e66"
      },
      "source": [
        "unlabeled_data.show()"
      ],
      "execution_count": 48,
      "outputs": [
        {
          "output_type": "stream",
          "name": "stdout",
          "text": [
            "+--------------------+\n",
            "|            features|\n",
            "+--------------------+\n",
            "|[0.0,10.0,90.09,2...|\n",
            "|[0.0,14.0,138.0,3...|\n",
            "|[0.0,15.0,78.491,...|\n",
            "|[0.0,16.0,74.137,...|\n",
            "|[0.0,17.0,70.0,20...|\n",
            "|[1.0,9.0,88.5,21....|\n",
            "|[1.0,9.0,110.0,29...|\n",
            "|[1.0,13.0,101.509...|\n",
            "|[1.0,17.0,70.367,...|\n",
            "|[1.0,17.0,101.353...|\n",
            "|[1.0,18.0,70.367,...|\n",
            "|[1.0,19.0,70.367,...|\n",
            "|[2.0,9.0,113.0,26...|\n",
            "|[2.0,11.0,108.977...|\n",
            "|[2.0,12.0,108.865...|\n",
            "|[2.0,14.0,30.2769...|\n",
            "|[2.0,16.0,77.499,...|\n",
            "|[2.0,22.0,69.845,...|\n",
            "|[3.0,16.0,59.652,...|\n",
            "|[3.0,17.0,55.451,...|\n",
            "+--------------------+\n",
            "only showing top 20 rows\n",
            "\n"
          ]
        }
      ]
    },
    {
      "cell_type": "code",
      "metadata": {
        "id": "0wyp3sTcpTra"
      },
      "source": [
        "#Hacemos las predicciones en base al modelo generado\n",
        "predictions = lr_model.transform(unlabeled_data)"
      ],
      "execution_count": 49,
      "outputs": []
    },
    {
      "cell_type": "code",
      "metadata": {
        "colab": {
          "base_uri": "https://localhost:8080/"
        },
        "id": "TpZKMqm4pVmU",
        "outputId": "e687106d-0edf-47f0-a9da-3cbf5000af3b"
      },
      "source": [
        "#Mostramos las predicciones\n",
        "predictions.show()"
      ],
      "execution_count": 50,
      "outputs": [
        {
          "output_type": "stream",
          "name": "stdout",
          "text": [
            "+--------------------+------------------+\n",
            "|            features|        prediction|\n",
            "+--------------------+------------------+\n",
            "|[0.0,10.0,90.09,2...|  8.89435668820487|\n",
            "|[0.0,14.0,138.0,3...| 12.75720668174695|\n",
            "|[0.0,15.0,78.491,...| 8.249510237457311|\n",
            "|[0.0,16.0,74.137,...| 8.569664539388599|\n",
            "|[0.0,17.0,70.0,20...| 7.587225612238234|\n",
            "|[1.0,9.0,88.5,21....|  9.49777819241021|\n",
            "|[1.0,9.0,110.0,29...|12.103942110021258|\n",
            "|[1.0,13.0,101.509...| 11.12000577755932|\n",
            "|[1.0,17.0,70.367,...| 8.612665083007892|\n",
            "|[1.0,17.0,101.353...|10.702257524477227|\n",
            "|[1.0,18.0,70.367,...| 8.597650162186387|\n",
            "|[1.0,19.0,70.367,...| 8.582635241364883|\n",
            "|[2.0,9.0,113.0,26...|11.253900270420276|\n",
            "|[2.0,11.0,108.977...|10.992791920657831|\n",
            "|[2.0,12.0,108.865...|10.791139772030022|\n",
            "|[2.0,14.0,30.2769...|3.4281790084460315|\n",
            "|[2.0,16.0,77.499,...| 9.079104868955785|\n",
            "|[2.0,22.0,69.845,...| 7.026639327048817|\n",
            "|[3.0,16.0,59.652,...| 6.217101156057695|\n",
            "|[3.0,17.0,55.451,...| 5.788033499645629|\n",
            "+--------------------+------------------+\n",
            "only showing top 20 rows\n",
            "\n"
          ]
        }
      ]
    }
  ]
}
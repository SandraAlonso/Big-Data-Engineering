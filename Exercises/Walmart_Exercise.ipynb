{
  "nbformat": 4,
  "nbformat_minor": 0,
  "metadata": {
    "colab": {
      "name": "Walmart-Sandra-Alonso-Paz.ipynb",
      "provenance": [],
      "collapsed_sections": []
    },
    "kernelspec": {
      "name": "python3",
      "display_name": "Python 3"
    },
    "language_info": {
      "name": "python"
    }
  },
  "cells": [
    {
      "cell_type": "code",
      "metadata": {
        "id": "ft6bm0Fye5Ve"
      },
      "source": [
        "# 1. Start a simple Spark session\n",
        "!apt-get install openjdk-8-jdk-headless -qq > /dev/null\n",
        "!wget -q https://mirrors.sonic.net/apache/spark/spark-3.1.2/spark-3.1.2-bin-hadoop3.2.tgz\n",
        "!tar xzf spark-3.1.2-bin-hadoop3.2.tgz\n",
        "!pip install -q findspark\n",
        "\n",
        "\n",
        "import os\n",
        "os.environ[\"JAVA_HOME\"] = \"/usr/lib/jvm/java-8-openjdk-amd64\"\n",
        "os.environ[\"SPARK_HOME\"] = \"/content/spark-3.1.2-bin-hadoop3.2\"\n",
        "\n",
        "\n",
        "import findspark\n",
        "findspark.init() #instanciar spark session. Es conveniente tener una unica sesion iniciada y actualizada (si existe la utiliza y si no la crea).\n",
        "from pyspark.sql import SparkSession\n",
        "spark = SparkSession.builder.master(\"local[*]\").getOrCreate() #usamos todos los procesadores locales: local[*]"
      ],
      "execution_count": 1,
      "outputs": []
    },
    {
      "cell_type": "code",
      "metadata": {
        "colab": {
          "base_uri": "https://localhost:8080/",
          "height": 216
        },
        "id": "MZ8tOAZve7um",
        "outputId": "4346a84a-8a2c-4fde-d419-4fbb1320c86b"
      },
      "source": [
        "# 1. Start a simple Spark session\n",
        "spark"
      ],
      "execution_count": 2,
      "outputs": [
        {
          "output_type": "execute_result",
          "data": {
            "text/html": [
              "\n",
              "            <div>\n",
              "                <p><b>SparkSession - in-memory</b></p>\n",
              "                \n",
              "        <div>\n",
              "            <p><b>SparkContext</b></p>\n",
              "\n",
              "            <p><a href=\"http://bad533db9cb7:4040\">Spark UI</a></p>\n",
              "\n",
              "            <dl>\n",
              "              <dt>Version</dt>\n",
              "                <dd><code>v3.1.2</code></dd>\n",
              "              <dt>Master</dt>\n",
              "                <dd><code>local[*]</code></dd>\n",
              "              <dt>AppName</dt>\n",
              "                <dd><code>pyspark-shell</code></dd>\n",
              "            </dl>\n",
              "        </div>\n",
              "        \n",
              "            </div>\n",
              "        "
            ],
            "text/plain": [
              "<pyspark.sql.session.SparkSession at 0x7ff65d00cc50>"
            ]
          },
          "metadata": {},
          "execution_count": 2
        }
      ]
    },
    {
      "cell_type": "code",
      "metadata": {
        "colab": {
          "base_uri": "https://localhost:8080/"
        },
        "id": "DA3yNRAifBro",
        "outputId": "836682cf-4522-47c6-8a82-b5586b134ed5"
      },
      "source": [
        "# 2. Load the Walmart Stock CSV file, let Spark infer the data types\n",
        "df = spark.read.csv(\"./walmart_stock.csv\").show() "
      ],
      "execution_count": 5,
      "outputs": [
        {
          "output_type": "stream",
          "name": "stdout",
          "text": [
            "+----------+------------------+------------------+------------------+------------------+--------+------------------+\n",
            "|       _c0|               _c1|               _c2|               _c3|               _c4|     _c5|               _c6|\n",
            "+----------+------------------+------------------+------------------+------------------+--------+------------------+\n",
            "|      Date|              Open|              High|               Low|             Close|  Volume|         Adj Close|\n",
            "|2012-01-03|         59.970001|         61.060001|         59.869999|         60.330002|12668800|52.619234999999996|\n",
            "|2012-01-04|60.209998999999996|         60.349998|         59.470001|59.709998999999996| 9593300|         52.078475|\n",
            "|2012-01-05|         59.349998|         59.619999|         58.369999|         59.419998|12768200|         51.825539|\n",
            "|2012-01-06|         59.419998|         59.450001|         58.869999|              59.0| 8069400|          51.45922|\n",
            "|2012-01-09|         59.029999|         59.549999|         58.919998|             59.18| 6679300|51.616215000000004|\n",
            "|2012-01-10|             59.43|59.709998999999996|             58.98|59.040001000000004| 6907300|         51.494109|\n",
            "|2012-01-11|         59.060001|         59.529999|59.040001000000004|         59.400002| 6365600|         51.808098|\n",
            "|2012-01-12|59.790001000000004|              60.0|         59.400002|              59.5| 7236400|51.895315999999994|\n",
            "|2012-01-13|             59.18|59.610001000000004|59.009997999999996|59.540001000000004| 7729300|51.930203999999996|\n",
            "|2012-01-17|         59.869999|60.110001000000004|             59.52|         59.849998| 8500000|         52.200581|\n",
            "|2012-01-18|59.790001000000004|         60.029999|         59.650002|60.009997999999996| 5911400|         52.340131|\n",
            "|2012-01-19|             59.93|             60.73|             59.75|60.610001000000004| 9234600|         52.863447|\n",
            "|2012-01-20|             60.75|             61.25|         60.669998|61.009997999999996|10378800|53.212320999999996|\n",
            "|2012-01-23|         60.810001|             60.98|60.509997999999996|             60.91| 7134100|         53.125104|\n",
            "|2012-01-24|             60.75|              62.0|             60.75|61.389998999999996| 7362800| 53.54375400000001|\n",
            "|2012-01-25|             61.18|61.610001000000004|61.040001000000004|         61.470001| 5915800| 53.61353100000001|\n",
            "|2012-01-26|         61.799999|             61.84|             60.77|         60.970001| 7436200|         53.177436|\n",
            "|2012-01-27|60.860001000000004|         61.119999|60.540001000000004|60.709998999999996| 6287300|         52.950665|\n",
            "|2012-01-30|         60.470001|             61.32|         60.349998|         61.299999| 7636900|53.465256999999994|\n",
            "+----------+------------------+------------------+------------------+------------------+--------+------------------+\n",
            "only showing top 20 rows\n",
            "\n"
          ]
        }
      ]
    },
    {
      "cell_type": "code",
      "metadata": {
        "colab": {
          "base_uri": "https://localhost:8080/"
        },
        "id": "w7AUNyi-fDLz",
        "outputId": "24c5946d-994a-4a17-99f7-8807a322a0ab"
      },
      "source": [
        "# 3. Show the column names\n",
        "df = spark.read.options(header=True).csv(\"./walmart_stock.csv\") \n",
        "df.show()"
      ],
      "execution_count": 6,
      "outputs": [
        {
          "output_type": "stream",
          "name": "stdout",
          "text": [
            "+----------+------------------+------------------+------------------+------------------+--------+------------------+\n",
            "|      Date|              Open|              High|               Low|             Close|  Volume|         Adj Close|\n",
            "+----------+------------------+------------------+------------------+------------------+--------+------------------+\n",
            "|2012-01-03|         59.970001|         61.060001|         59.869999|         60.330002|12668800|52.619234999999996|\n",
            "|2012-01-04|60.209998999999996|         60.349998|         59.470001|59.709998999999996| 9593300|         52.078475|\n",
            "|2012-01-05|         59.349998|         59.619999|         58.369999|         59.419998|12768200|         51.825539|\n",
            "|2012-01-06|         59.419998|         59.450001|         58.869999|              59.0| 8069400|          51.45922|\n",
            "|2012-01-09|         59.029999|         59.549999|         58.919998|             59.18| 6679300|51.616215000000004|\n",
            "|2012-01-10|             59.43|59.709998999999996|             58.98|59.040001000000004| 6907300|         51.494109|\n",
            "|2012-01-11|         59.060001|         59.529999|59.040001000000004|         59.400002| 6365600|         51.808098|\n",
            "|2012-01-12|59.790001000000004|              60.0|         59.400002|              59.5| 7236400|51.895315999999994|\n",
            "|2012-01-13|             59.18|59.610001000000004|59.009997999999996|59.540001000000004| 7729300|51.930203999999996|\n",
            "|2012-01-17|         59.869999|60.110001000000004|             59.52|         59.849998| 8500000|         52.200581|\n",
            "|2012-01-18|59.790001000000004|         60.029999|         59.650002|60.009997999999996| 5911400|         52.340131|\n",
            "|2012-01-19|             59.93|             60.73|             59.75|60.610001000000004| 9234600|         52.863447|\n",
            "|2012-01-20|             60.75|             61.25|         60.669998|61.009997999999996|10378800|53.212320999999996|\n",
            "|2012-01-23|         60.810001|             60.98|60.509997999999996|             60.91| 7134100|         53.125104|\n",
            "|2012-01-24|             60.75|              62.0|             60.75|61.389998999999996| 7362800| 53.54375400000001|\n",
            "|2012-01-25|             61.18|61.610001000000004|61.040001000000004|         61.470001| 5915800| 53.61353100000001|\n",
            "|2012-01-26|         61.799999|             61.84|             60.77|         60.970001| 7436200|         53.177436|\n",
            "|2012-01-27|60.860001000000004|         61.119999|60.540001000000004|60.709998999999996| 6287300|         52.950665|\n",
            "|2012-01-30|         60.470001|             61.32|         60.349998|         61.299999| 7636900|53.465256999999994|\n",
            "|2012-01-31|         61.529999|             61.57|         60.580002|61.360001000000004| 9761500|53.517590000000006|\n",
            "+----------+------------------+------------------+------------------+------------------+--------+------------------+\n",
            "only showing top 20 rows\n",
            "\n"
          ]
        }
      ]
    },
    {
      "cell_type": "code",
      "metadata": {
        "colab": {
          "base_uri": "https://localhost:8080/"
        },
        "id": "37lV4EXFfEv6",
        "outputId": "12dbc47b-c337-4217-f9dc-226b5ae25995"
      },
      "source": [
        "# 4. What does the Schema look like?\n",
        "spark.read.options(header=True).csv(\"./walmart_stock.csv\").printSchema() \n",
        "spark.read.options(header=True, inferSchema=True).csv(\"./walmart_stock.csv\").printSchema() #cuando imprimimos el esquema sale que es todo string, con la opcion inferSchema=True salen los tipos de verdad"
      ],
      "execution_count": 7,
      "outputs": [
        {
          "output_type": "stream",
          "name": "stdout",
          "text": [
            "root\n",
            " |-- Date: string (nullable = true)\n",
            " |-- Open: string (nullable = true)\n",
            " |-- High: string (nullable = true)\n",
            " |-- Low: string (nullable = true)\n",
            " |-- Close: string (nullable = true)\n",
            " |-- Volume: string (nullable = true)\n",
            " |-- Adj Close: string (nullable = true)\n",
            "\n",
            "root\n",
            " |-- Date: string (nullable = true)\n",
            " |-- Open: double (nullable = true)\n",
            " |-- High: double (nullable = true)\n",
            " |-- Low: double (nullable = true)\n",
            " |-- Close: double (nullable = true)\n",
            " |-- Volume: integer (nullable = true)\n",
            " |-- Adj Close: double (nullable = true)\n",
            "\n"
          ]
        }
      ]
    },
    {
      "cell_type": "code",
      "metadata": {
        "colab": {
          "base_uri": "https://localhost:8080/"
        },
        "id": "k3rD_l2FfGyN",
        "outputId": "d1fc0b75-ac9c-40e1-bd36-34aa85190fbc"
      },
      "source": [
        "# 5. Print out the first 5 rows\n",
        "df.show(5)"
      ],
      "execution_count": 8,
      "outputs": [
        {
          "output_type": "stream",
          "name": "stdout",
          "text": [
            "+----------+------------------+---------+---------+------------------+--------+------------------+\n",
            "|      Date|              Open|     High|      Low|             Close|  Volume|         Adj Close|\n",
            "+----------+------------------+---------+---------+------------------+--------+------------------+\n",
            "|2012-01-03|         59.970001|61.060001|59.869999|         60.330002|12668800|52.619234999999996|\n",
            "|2012-01-04|60.209998999999996|60.349998|59.470001|59.709998999999996| 9593300|         52.078475|\n",
            "|2012-01-05|         59.349998|59.619999|58.369999|         59.419998|12768200|         51.825539|\n",
            "|2012-01-06|         59.419998|59.450001|58.869999|              59.0| 8069400|          51.45922|\n",
            "|2012-01-09|         59.029999|59.549999|58.919998|             59.18| 6679300|51.616215000000004|\n",
            "+----------+------------------+---------+---------+------------------+--------+------------------+\n",
            "only showing top 5 rows\n",
            "\n"
          ]
        }
      ]
    },
    {
      "cell_type": "code",
      "metadata": {
        "colab": {
          "base_uri": "https://localhost:8080/"
        },
        "id": "3VLEYVx8fZvP",
        "outputId": "aa513976-767f-4ce7-c261-d45de6ec671b"
      },
      "source": [
        "# 6. Use describe() to learn about the DataFrame\n",
        "df.describe()"
      ],
      "execution_count": 9,
      "outputs": [
        {
          "output_type": "execute_result",
          "data": {
            "text/plain": [
              "DataFrame[summary: string, Date: string, Open: string, High: string, Low: string, Close: string, Volume: string, Adj Close: string]"
            ]
          },
          "metadata": {},
          "execution_count": 9
        }
      ]
    },
    {
      "cell_type": "code",
      "metadata": {
        "colab": {
          "base_uri": "https://localhost:8080/"
        },
        "id": "qJQ74wMQfd4k",
        "outputId": "84f9cafa-c79a-4194-f705-a43fba66bcc2"
      },
      "source": [
        "# 7. Format the numbers to show only 2 decimal places\n",
        "from pyspark.sql.functions import round, col\n",
        "data2 = df.withColumn(\"Open\", round(\"Open\", 2)).withColumn(\"High\", round(\"High\", 2)).withColumn(\"Low\", round(\"Low\", 2)).withColumn(\"Close\", round(\"Close\", 2)).withColumn(\"Adj Close\", round(\"Adj Close\", 2))\n",
        "data2.show()"
      ],
      "execution_count": 10,
      "outputs": [
        {
          "output_type": "stream",
          "name": "stdout",
          "text": [
            "+----------+-----+-----+-----+-----+--------+---------+\n",
            "|      Date| Open| High|  Low|Close|  Volume|Adj Close|\n",
            "+----------+-----+-----+-----+-----+--------+---------+\n",
            "|2012-01-03|59.97|61.06|59.87|60.33|12668800|    52.62|\n",
            "|2012-01-04|60.21|60.35|59.47|59.71| 9593300|    52.08|\n",
            "|2012-01-05|59.35|59.62|58.37|59.42|12768200|    51.83|\n",
            "|2012-01-06|59.42|59.45|58.87| 59.0| 8069400|    51.46|\n",
            "|2012-01-09|59.03|59.55|58.92|59.18| 6679300|    51.62|\n",
            "|2012-01-10|59.43|59.71|58.98|59.04| 6907300|    51.49|\n",
            "|2012-01-11|59.06|59.53|59.04| 59.4| 6365600|    51.81|\n",
            "|2012-01-12|59.79| 60.0| 59.4| 59.5| 7236400|     51.9|\n",
            "|2012-01-13|59.18|59.61|59.01|59.54| 7729300|    51.93|\n",
            "|2012-01-17|59.87|60.11|59.52|59.85| 8500000|     52.2|\n",
            "|2012-01-18|59.79|60.03|59.65|60.01| 5911400|    52.34|\n",
            "|2012-01-19|59.93|60.73|59.75|60.61| 9234600|    52.86|\n",
            "|2012-01-20|60.75|61.25|60.67|61.01|10378800|    53.21|\n",
            "|2012-01-23|60.81|60.98|60.51|60.91| 7134100|    53.13|\n",
            "|2012-01-24|60.75| 62.0|60.75|61.39| 7362800|    53.54|\n",
            "|2012-01-25|61.18|61.61|61.04|61.47| 5915800|    53.61|\n",
            "|2012-01-26| 61.8|61.84|60.77|60.97| 7436200|    53.18|\n",
            "|2012-01-27|60.86|61.12|60.54|60.71| 6287300|    52.95|\n",
            "|2012-01-30|60.47|61.32|60.35| 61.3| 7636900|    53.47|\n",
            "|2012-01-31|61.53|61.57|60.58|61.36| 9761500|    53.52|\n",
            "+----------+-----+-----+-----+-----+--------+---------+\n",
            "only showing top 20 rows\n",
            "\n"
          ]
        }
      ]
    },
    {
      "cell_type": "code",
      "metadata": {
        "colab": {
          "base_uri": "https://localhost:8080/"
        },
        "id": "u1N6EF6LlCm7",
        "outputId": "ef931fcb-8710-4079-c3d4-3b6a0ceb4a45"
      },
      "source": [
        "# 8. Create a new DataFrame with a column called  'HV Ratio' that is the ratio of the High Price vs Volume of Stock traded for a day\n",
        "data3 = data2.withColumn(\"HV Ratio\", data2[\"High\"]/data2[\"Volume\"]).withColumn(\"HV Ratio\", round(\"HV Ratio\", 8))\n",
        "data3.show()"
      ],
      "execution_count": 11,
      "outputs": [
        {
          "output_type": "stream",
          "name": "stdout",
          "text": [
            "+----------+-----+-----+-----+-----+--------+---------+--------+\n",
            "|      Date| Open| High|  Low|Close|  Volume|Adj Close|HV Ratio|\n",
            "+----------+-----+-----+-----+-----+--------+---------+--------+\n",
            "|2012-01-03|59.97|61.06|59.87|60.33|12668800|    52.62| 4.82E-6|\n",
            "|2012-01-04|60.21|60.35|59.47|59.71| 9593300|    52.08| 6.29E-6|\n",
            "|2012-01-05|59.35|59.62|58.37|59.42|12768200|    51.83| 4.67E-6|\n",
            "|2012-01-06|59.42|59.45|58.87| 59.0| 8069400|    51.46| 7.37E-6|\n",
            "|2012-01-09|59.03|59.55|58.92|59.18| 6679300|    51.62| 8.92E-6|\n",
            "|2012-01-10|59.43|59.71|58.98|59.04| 6907300|    51.49| 8.64E-6|\n",
            "|2012-01-11|59.06|59.53|59.04| 59.4| 6365600|    51.81| 9.35E-6|\n",
            "|2012-01-12|59.79| 60.0| 59.4| 59.5| 7236400|     51.9| 8.29E-6|\n",
            "|2012-01-13|59.18|59.61|59.01|59.54| 7729300|    51.93| 7.71E-6|\n",
            "|2012-01-17|59.87|60.11|59.52|59.85| 8500000|     52.2| 7.07E-6|\n",
            "|2012-01-18|59.79|60.03|59.65|60.01| 5911400|    52.34|1.015E-5|\n",
            "|2012-01-19|59.93|60.73|59.75|60.61| 9234600|    52.86| 6.58E-6|\n",
            "|2012-01-20|60.75|61.25|60.67|61.01|10378800|    53.21|  5.9E-6|\n",
            "|2012-01-23|60.81|60.98|60.51|60.91| 7134100|    53.13| 8.55E-6|\n",
            "|2012-01-24|60.75| 62.0|60.75|61.39| 7362800|    53.54| 8.42E-6|\n",
            "|2012-01-25|61.18|61.61|61.04|61.47| 5915800|    53.61|1.041E-5|\n",
            "|2012-01-26| 61.8|61.84|60.77|60.97| 7436200|    53.18| 8.32E-6|\n",
            "|2012-01-27|60.86|61.12|60.54|60.71| 6287300|    52.95| 9.72E-6|\n",
            "|2012-01-30|60.47|61.32|60.35| 61.3| 7636900|    53.47| 8.03E-6|\n",
            "|2012-01-31|61.53|61.57|60.58|61.36| 9761500|    53.52| 6.31E-6|\n",
            "+----------+-----+-----+-----+-----+--------+---------+--------+\n",
            "only showing top 20 rows\n",
            "\n"
          ]
        }
      ]
    },
    {
      "cell_type": "code",
      "metadata": {
        "colab": {
          "base_uri": "https://localhost:8080/"
        },
        "id": "IRM8JJvDmg4v",
        "outputId": "ba441ab9-7782-4acb-b823-1bf4cd0de2a5"
      },
      "source": [
        "# 9. What day had the Peak High in Price?\n",
        "data2.groupBy(\"Date\").agg({\"High\":\"max\"}).withColumnRenamed(\"max(High)\", \"MaxHigh\").orderBy(\"MaxHigh\", ascending=False).show(1)"
      ],
      "execution_count": 12,
      "outputs": [
        {
          "output_type": "stream",
          "name": "stdout",
          "text": [
            "+----------+-------+\n",
            "|      Date|MaxHigh|\n",
            "+----------+-------+\n",
            "|2015-01-13|  90.97|\n",
            "+----------+-------+\n",
            "only showing top 1 row\n",
            "\n"
          ]
        }
      ]
    },
    {
      "cell_type": "code",
      "metadata": {
        "colab": {
          "base_uri": "https://localhost:8080/"
        },
        "id": "c2ZVeWp2hdNO",
        "outputId": "8eb22600-257e-465a-895b-204db0c12d9c"
      },
      "source": [
        "# 10. What is tithe mean of the Close column\n",
        "from pyspark.sql.functions import mean\n",
        "data2.select(mean(data2[\"Close\"])).withColumnRenamed(\"avg(Close)\",\"Close Mean\").withColumn(\"Close Mean\", round(\"Close Mean\", 2)).show()"
      ],
      "execution_count": 13,
      "outputs": [
        {
          "output_type": "stream",
          "name": "stdout",
          "text": [
            "+----------+\n",
            "|Close Mean|\n",
            "+----------+\n",
            "|     72.39|\n",
            "+----------+\n",
            "\n"
          ]
        }
      ]
    },
    {
      "cell_type": "code",
      "metadata": {
        "colab": {
          "base_uri": "https://localhost:8080/"
        },
        "id": "M4xcFsm5kB8A",
        "outputId": "a8c6404b-ee5a-4e62-f8d3-b60dfe4edfc6"
      },
      "source": [
        "# 11. What is the max and min of the Volume column?\n",
        "from pyspark.sql.functions import max, min\n",
        "data2.select(max(data2[\"Volume\"])).withColumnRenamed(\"max(Volume)\",\"Max Volume\").show()\n",
        "data2.select(min(data2[\"Volume\"])).withColumnRenamed(\"min(Volume)\",\"Min Volume\").show()\n",
        "\n",
        "#With SQL\n",
        "DataTable = data2.registerTempTable(\"DataTable\") \n",
        "spark.sql(\"select Max(Volume) from DataTable\").withColumnRenamed(\"max(Volume)\",\"Max Volume\").show()\n",
        "spark.sql(\"select Min(Volume) from DataTable\").withColumnRenamed(\"min(Volume)\",\"Min Volume\").show()"
      ],
      "execution_count": 14,
      "outputs": [
        {
          "output_type": "stream",
          "name": "stdout",
          "text": [
            "+----------+\n",
            "|Max Volume|\n",
            "+----------+\n",
            "|   9994400|\n",
            "+----------+\n",
            "\n",
            "+----------+\n",
            "|Min Volume|\n",
            "+----------+\n",
            "|  10010500|\n",
            "+----------+\n",
            "\n",
            "+----------+\n",
            "|Max Volume|\n",
            "+----------+\n",
            "|   9994400|\n",
            "+----------+\n",
            "\n",
            "+----------+\n",
            "|Min Volume|\n",
            "+----------+\n",
            "|  10010500|\n",
            "+----------+\n",
            "\n"
          ]
        }
      ]
    },
    {
      "cell_type": "code",
      "metadata": {
        "colab": {
          "base_uri": "https://localhost:8080/"
        },
        "id": "MJVJD5CmkZn3",
        "outputId": "3b2f83b7-450f-41c5-f274-a88ecd1f3831"
      },
      "source": [
        "# 12. How many days was the Close lower than 60 dollars?\n",
        "spark.sql(\"select Close from DataTable where Close < 60\").count()"
      ],
      "execution_count": 15,
      "outputs": [
        {
          "output_type": "execute_result",
          "data": {
            "text/plain": [
              "81"
            ]
          },
          "metadata": {},
          "execution_count": 15
        }
      ]
    },
    {
      "cell_type": "code",
      "metadata": {
        "colab": {
          "base_uri": "https://localhost:8080/"
        },
        "id": "7XRWIR4qk3z7",
        "outputId": "23fb9482-bae2-4986-a4aa-a1a04c9c424d"
      },
      "source": [
        "# 13. What percentage of time was the High greater than 80 dollars?\n",
        "(spark.sql(\"select High from DataTable where High > 80\").count()/data2.count())*100"
      ],
      "execution_count": 16,
      "outputs": [
        {
          "output_type": "execute_result",
          "data": {
            "text/plain": [
              "9.141494435612083"
            ]
          },
          "metadata": {},
          "execution_count": 16
        }
      ]
    },
    {
      "cell_type": "code",
      "metadata": {
        "colab": {
          "base_uri": "https://localhost:8080/"
        },
        "id": "o0Wt9yv_lkPs",
        "outputId": "0829ded4-0689-4797-af4e-4fcc849f3f38"
      },
      "source": [
        "# 14. What is the Pearson correlation between High and Volume?\n",
        "import pyspark.sql.functions as func\n",
        "\n",
        "data3=data2.withColumn(\"Volume\", func.round(data2[\"Volume\"]).cast('integer'))\n",
        "data4=data3.withColumn(\"High\", func.round(data2[\"High\"]).cast('integer'))\n",
        "\n",
        "df2.stat.corr(\"Volume\", \"High\")"
      ],
      "execution_count": 30,
      "outputs": [
        {
          "output_type": "execute_result",
          "data": {
            "text/plain": [
              "-0.3392198653153861"
            ]
          },
          "metadata": {},
          "execution_count": 30
        }
      ]
    },
    {
      "cell_type": "code",
      "metadata": {
        "colab": {
          "base_uri": "https://localhost:8080/"
        },
        "id": "0UcHtoOYrvq4",
        "outputId": "b6fbb782-3356-4eb4-eb4c-c4a7e2738504"
      },
      "source": [
        "# 15. What is the max High per year?\n",
        "spark.sql(\"select Max(High), YEAR(Date) from DataTable group by YEAR(Date)\").withColumnRenamed(\"year(CAST(Date AS DATE))\",\"Year\").withColumnRenamed(\"max(High)\",\"Max High\").orderBy(\"Year\").show()"
      ],
      "execution_count": 31,
      "outputs": [
        {
          "output_type": "stream",
          "name": "stdout",
          "text": [
            "+--------+----+\n",
            "|Max High|Year|\n",
            "+--------+----+\n",
            "|    77.6|2012|\n",
            "|   81.37|2013|\n",
            "|   88.09|2014|\n",
            "|   90.97|2015|\n",
            "|   75.19|2016|\n",
            "+--------+----+\n",
            "\n"
          ]
        }
      ]
    },
    {
      "cell_type": "code",
      "metadata": {
        "colab": {
          "base_uri": "https://localhost:8080/"
        },
        "id": "r446F4xqsHm6",
        "outputId": "742afec3-3873-46c4-d9f8-d028cd9738a8"
      },
      "source": [
        "# 16. What is the average Close for each calendar month?\n",
        "from pyspark.sql.functions import month \n",
        "data2.groupBy(month(data2.Date)).agg({\"Close\":\"mean\"}).withColumnRenamed(\"avg(Close)\", \"Close Mean\").withColumnRenamed(\"month(Date)\", \"Month\").orderBy(\"Month\").withColumn(\"Close Mean\", round(\"Close Mean\", 2)).show()\n",
        "\n",
        "#With SQL\n",
        "spark.sql(\"select  MONTH(Date), avg(Close) from DataTable group by MONTH(Date)\").withColumnRenamed(\"month(CAST(Date AS DATE))\",\"Month\").withColumnRenamed(\"avg(Close)\",\"Close Mean\").orderBy(\"Month\").withColumn(\"Close Mean\", round(\"Close Mean\", 2)).show()\n"
      ],
      "execution_count": 32,
      "outputs": [
        {
          "output_type": "stream",
          "name": "stdout",
          "text": [
            "+-----+----------+\n",
            "|Month|Close Mean|\n",
            "+-----+----------+\n",
            "|    1|     71.45|\n",
            "|    2|     71.31|\n",
            "|    3|     71.78|\n",
            "|    4|     72.97|\n",
            "|    5|     72.31|\n",
            "|    6|      72.5|\n",
            "|    7|     74.44|\n",
            "|    8|     73.03|\n",
            "|    9|     72.18|\n",
            "|   10|     71.58|\n",
            "|   11|     72.11|\n",
            "|   12|     72.85|\n",
            "+-----+----------+\n",
            "\n",
            "+-----+----------+\n",
            "|Month|Close Mean|\n",
            "+-----+----------+\n",
            "|    1|     71.45|\n",
            "|    2|     71.31|\n",
            "|    3|     71.78|\n",
            "|    4|     72.97|\n",
            "|    5|     72.31|\n",
            "|    6|      72.5|\n",
            "|    7|     74.44|\n",
            "|    8|     73.03|\n",
            "|    9|     72.18|\n",
            "|   10|     71.58|\n",
            "|   11|     72.11|\n",
            "|   12|     72.85|\n",
            "+-----+----------+\n",
            "\n"
          ]
        }
      ]
    }
  ]
}
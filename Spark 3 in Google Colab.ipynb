{
 "cells": [
  {
   "cell_type": "code",
   "execution_count": null,
   "source": [
    "!apt-get install openjdk-8-jdk-headless -qq > /dev/null\r\n",
    "!wget -q https://mirrors.sonic.net/apache/spark/spark-3.1.2/spark-3.1.2-bin-hadoop3.2.tgz\r\n",
    "!tar xzf spark-3.1.2-bin-hadoop3.2.tgz\r\n",
    "!pip install -q findspark\r\n",
    "\r\n",
    "\r\n",
    "import os\r\n",
    "os.environ[\"JAVA_HOME\"] = \"/usr/lib/jvm/java-8-openjdk-amd64\"\r\n",
    "os.environ[\"SPARK_HOME\"] = \"/content/spark-3.1.2-bin-hadoop3.2\"\r\n",
    "\r\n",
    "\r\n",
    "import findspark\r\n",
    "findspark.init()\r\n",
    "from pyspark.sql import SparkSession\r\n",
    "spark = SparkSession.builder.master(\"local[*]\").getOrCreate()"
   ],
   "outputs": [],
   "metadata": {}
  },
  {
   "cell_type": "code",
   "execution_count": null,
   "source": [
    "spark"
   ],
   "outputs": [],
   "metadata": {}
  }
 ],
 "metadata": {
  "orig_nbformat": 4,
  "language_info": {
   "name": "python"
  }
 },
 "nbformat": 4,
 "nbformat_minor": 2
}
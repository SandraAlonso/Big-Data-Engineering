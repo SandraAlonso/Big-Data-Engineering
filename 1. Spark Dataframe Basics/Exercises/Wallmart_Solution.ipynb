{
  "nbformat": 4,
  "nbformat_minor": 0,
  "metadata": {
    "colab": {
      "name": "BDE2021 - 3. Wallmart Solution.ipynb",
      "provenance": [],
      "collapsed_sections": []
    },
    "kernelspec": {
      "name": "python3",
      "display_name": "Python 3"
    },
    "language_info": {
      "name": "python"
    }
  },
  "cells": [
    {
      "cell_type": "markdown",
      "metadata": {
        "id": "yQvB7ZvEqKY-"
      },
      "source": [
        "1. Start a simple Spark session"
      ]
    },
    {
      "cell_type": "code",
      "metadata": {
        "id": "XTn3GoxUpyry"
      },
      "source": [
        "!apt-get install openjdk-8-jdk-headless -qq > /dev/null\n",
        "!wget -q https://mirrors.sonic.net/apache/spark/spark-3.1.2/spark-3.1.2-bin-hadoop3.2.tgz\n",
        "!tar xzf spark-3.1.2-bin-hadoop3.2.tgz\n",
        "!pip install -q findspark\n",
        "\n",
        "\n",
        "import os\n",
        "os.environ[\"JAVA_HOME\"] = \"/usr/lib/jvm/java-8-openjdk-amd64\"\n",
        "os.environ[\"SPARK_HOME\"] = \"/content/spark-3.1.2-bin-hadoop3.2\"\n",
        "\n",
        "\n",
        "import findspark\n",
        "findspark.init()\n",
        "from pyspark.sql import SparkSession\n",
        "spark = SparkSession.builder.master(\"local[*]\").getOrCreate()"
      ],
      "execution_count": null,
      "outputs": []
    },
    {
      "cell_type": "code",
      "metadata": {
        "colab": {
          "base_uri": "https://localhost:8080/",
          "height": 222
        },
        "id": "IJY5Jris0DzA",
        "outputId": "e25eb705-2257-438e-e43e-ac0373510e4c"
      },
      "source": [
        "spark"
      ],
      "execution_count": null,
      "outputs": [
        {
          "output_type": "execute_result",
          "data": {
            "text/html": [
              "\n",
              "            <div>\n",
              "                <p><b>SparkSession - in-memory</b></p>\n",
              "                \n",
              "        <div>\n",
              "            <p><b>SparkContext</b></p>\n",
              "\n",
              "            <p><a href=\"http://d8e52ef0baa5:4040\">Spark UI</a></p>\n",
              "\n",
              "            <dl>\n",
              "              <dt>Version</dt>\n",
              "                <dd><code>v3.1.2</code></dd>\n",
              "              <dt>Master</dt>\n",
              "                <dd><code>local[*]</code></dd>\n",
              "              <dt>AppName</dt>\n",
              "                <dd><code>pyspark-shell</code></dd>\n",
              "            </dl>\n",
              "        </div>\n",
              "        \n",
              "            </div>\n",
              "        "
            ],
            "text/plain": [
              "<pyspark.sql.session.SparkSession at 0x7fe1b07a5310>"
            ]
          },
          "metadata": {},
          "execution_count": 2
        }
      ]
    },
    {
      "cell_type": "markdown",
      "metadata": {
        "id": "9ND5EUE0qXw4"
      },
      "source": [
        "2. Load the Walmart Stock CSV file, let Spark infer the data types"
      ]
    },
    {
      "cell_type": "code",
      "metadata": {
        "id": "SyR1am0cqDE-"
      },
      "source": [
        "df = spark.read.options(header='True', inferSchema='True').csv('drive/MyDrive/Colab Notebooks/walmart_stock.csv')\n",
        "df.registerTempTable('data')"
      ],
      "execution_count": null,
      "outputs": []
    },
    {
      "cell_type": "markdown",
      "metadata": {
        "id": "npmqVwRDrKXU"
      },
      "source": [
        "3. Show the column names"
      ]
    },
    {
      "cell_type": "code",
      "metadata": {
        "colab": {
          "base_uri": "https://localhost:8080/"
        },
        "id": "-wZJ_FqxrKze",
        "outputId": "6b7d1b5d-e545-487f-841d-6cd2ad4c4b3a"
      },
      "source": [
        "df.columns"
      ],
      "execution_count": null,
      "outputs": [
        {
          "output_type": "execute_result",
          "data": {
            "text/plain": [
              "['Date', 'Open', 'High', 'Low', 'Close', 'Volume', 'Adj Close']"
            ]
          },
          "metadata": {},
          "execution_count": 4
        }
      ]
    },
    {
      "cell_type": "markdown",
      "metadata": {
        "id": "Q3HpOTwHu5oE"
      },
      "source": [
        "4. What does the Schema look like?"
      ]
    },
    {
      "cell_type": "code",
      "metadata": {
        "colab": {
          "base_uri": "https://localhost:8080/"
        },
        "id": "AXnW6QtWu6MH",
        "outputId": "491725b5-371d-45a9-f301-eebaa7d4bd06"
      },
      "source": [
        "df.printSchema()"
      ],
      "execution_count": null,
      "outputs": [
        {
          "output_type": "stream",
          "name": "stdout",
          "text": [
            "root\n",
            " |-- Date: string (nullable = true)\n",
            " |-- Open: double (nullable = true)\n",
            " |-- High: double (nullable = true)\n",
            " |-- Low: double (nullable = true)\n",
            " |-- Close: double (nullable = true)\n",
            " |-- Volume: integer (nullable = true)\n",
            " |-- Adj Close: double (nullable = true)\n",
            "\n"
          ]
        }
      ]
    },
    {
      "cell_type": "markdown",
      "metadata": {
        "id": "Q8m2V5UYvBij"
      },
      "source": [
        "5. Print out the first 5 rows"
      ]
    },
    {
      "cell_type": "code",
      "metadata": {
        "colab": {
          "base_uri": "https://localhost:8080/"
        },
        "id": "1EPo_RDlvCJ7",
        "outputId": "6cb55051-551c-45fb-bc59-bfd5474bbfb7"
      },
      "source": [
        "df.show(5)"
      ],
      "execution_count": null,
      "outputs": [
        {
          "output_type": "stream",
          "name": "stdout",
          "text": [
            "+----------+------------------+---------+---------+------------------+--------+------------------+\n",
            "|      Date|              Open|     High|      Low|             Close|  Volume|         Adj Close|\n",
            "+----------+------------------+---------+---------+------------------+--------+------------------+\n",
            "|2012-01-03|         59.970001|61.060001|59.869999|         60.330002|12668800|52.619234999999996|\n",
            "|2012-01-04|60.209998999999996|60.349998|59.470001|59.709998999999996| 9593300|         52.078475|\n",
            "|2012-01-05|         59.349998|59.619999|58.369999|         59.419998|12768200|         51.825539|\n",
            "|2012-01-06|         59.419998|59.450001|58.869999|              59.0| 8069400|          51.45922|\n",
            "|2012-01-09|         59.029999|59.549999|58.919998|             59.18| 6679300|51.616215000000004|\n",
            "+----------+------------------+---------+---------+------------------+--------+------------------+\n",
            "only showing top 5 rows\n",
            "\n"
          ]
        }
      ]
    },
    {
      "cell_type": "code",
      "metadata": {
        "colab": {
          "base_uri": "https://localhost:8080/",
          "height": 206
        },
        "id": "Kf3s1kMLvNt4",
        "outputId": "8bfcf7da-6bef-424d-bb0b-0581a46cfebc"
      },
      "source": [
        "spark.sql('SELECT * FROM data LIMIT 5').toPandas()"
      ],
      "execution_count": null,
      "outputs": [
        {
          "output_type": "execute_result",
          "data": {
            "text/html": [
              "<div>\n",
              "<style scoped>\n",
              "    .dataframe tbody tr th:only-of-type {\n",
              "        vertical-align: middle;\n",
              "    }\n",
              "\n",
              "    .dataframe tbody tr th {\n",
              "        vertical-align: top;\n",
              "    }\n",
              "\n",
              "    .dataframe thead th {\n",
              "        text-align: right;\n",
              "    }\n",
              "</style>\n",
              "<table border=\"1\" class=\"dataframe\">\n",
              "  <thead>\n",
              "    <tr style=\"text-align: right;\">\n",
              "      <th></th>\n",
              "      <th>Date</th>\n",
              "      <th>Open</th>\n",
              "      <th>High</th>\n",
              "      <th>Low</th>\n",
              "      <th>Close</th>\n",
              "      <th>Volume</th>\n",
              "      <th>Adj Close</th>\n",
              "    </tr>\n",
              "  </thead>\n",
              "  <tbody>\n",
              "    <tr>\n",
              "      <th>0</th>\n",
              "      <td>2012-01-03</td>\n",
              "      <td>59.970001</td>\n",
              "      <td>61.060001</td>\n",
              "      <td>59.869999</td>\n",
              "      <td>60.330002</td>\n",
              "      <td>12668800</td>\n",
              "      <td>52.619235</td>\n",
              "    </tr>\n",
              "    <tr>\n",
              "      <th>1</th>\n",
              "      <td>2012-01-04</td>\n",
              "      <td>60.209999</td>\n",
              "      <td>60.349998</td>\n",
              "      <td>59.470001</td>\n",
              "      <td>59.709999</td>\n",
              "      <td>9593300</td>\n",
              "      <td>52.078475</td>\n",
              "    </tr>\n",
              "    <tr>\n",
              "      <th>2</th>\n",
              "      <td>2012-01-05</td>\n",
              "      <td>59.349998</td>\n",
              "      <td>59.619999</td>\n",
              "      <td>58.369999</td>\n",
              "      <td>59.419998</td>\n",
              "      <td>12768200</td>\n",
              "      <td>51.825539</td>\n",
              "    </tr>\n",
              "    <tr>\n",
              "      <th>3</th>\n",
              "      <td>2012-01-06</td>\n",
              "      <td>59.419998</td>\n",
              "      <td>59.450001</td>\n",
              "      <td>58.869999</td>\n",
              "      <td>59.000000</td>\n",
              "      <td>8069400</td>\n",
              "      <td>51.459220</td>\n",
              "    </tr>\n",
              "    <tr>\n",
              "      <th>4</th>\n",
              "      <td>2012-01-09</td>\n",
              "      <td>59.029999</td>\n",
              "      <td>59.549999</td>\n",
              "      <td>58.919998</td>\n",
              "      <td>59.180000</td>\n",
              "      <td>6679300</td>\n",
              "      <td>51.616215</td>\n",
              "    </tr>\n",
              "  </tbody>\n",
              "</table>\n",
              "</div>"
            ],
            "text/plain": [
              "         Date       Open       High        Low      Close    Volume  Adj Close\n",
              "0  2012-01-03  59.970001  61.060001  59.869999  60.330002  12668800  52.619235\n",
              "1  2012-01-04  60.209999  60.349998  59.470001  59.709999   9593300  52.078475\n",
              "2  2012-01-05  59.349998  59.619999  58.369999  59.419998  12768200  51.825539\n",
              "3  2012-01-06  59.419998  59.450001  58.869999  59.000000   8069400  51.459220\n",
              "4  2012-01-09  59.029999  59.549999  58.919998  59.180000   6679300  51.616215"
            ]
          },
          "metadata": {},
          "execution_count": 6
        }
      ]
    },
    {
      "cell_type": "markdown",
      "metadata": {
        "id": "ZlY4muQVvJiX"
      },
      "source": [
        "6. Use describe() to learn about the DataFrame"
      ]
    },
    {
      "cell_type": "code",
      "metadata": {
        "colab": {
          "base_uri": "https://localhost:8080/",
          "height": 226
        },
        "id": "1KPttSQMvKBW",
        "outputId": "d07551fb-e2df-4ea7-bcab-76f8ed6c4183"
      },
      "source": [
        "df.describe().toPandas()"
      ],
      "execution_count": null,
      "outputs": [
        {
          "output_type": "execute_result",
          "data": {
            "text/html": [
              "<div>\n",
              "<style scoped>\n",
              "    .dataframe tbody tr th:only-of-type {\n",
              "        vertical-align: middle;\n",
              "    }\n",
              "\n",
              "    .dataframe tbody tr th {\n",
              "        vertical-align: top;\n",
              "    }\n",
              "\n",
              "    .dataframe thead th {\n",
              "        text-align: right;\n",
              "    }\n",
              "</style>\n",
              "<table border=\"1\" class=\"dataframe\">\n",
              "  <thead>\n",
              "    <tr style=\"text-align: right;\">\n",
              "      <th></th>\n",
              "      <th>summary</th>\n",
              "      <th>Date</th>\n",
              "      <th>Open</th>\n",
              "      <th>High</th>\n",
              "      <th>Low</th>\n",
              "      <th>Close</th>\n",
              "      <th>Volume</th>\n",
              "      <th>Adj Close</th>\n",
              "    </tr>\n",
              "  </thead>\n",
              "  <tbody>\n",
              "    <tr>\n",
              "      <th>0</th>\n",
              "      <td>count</td>\n",
              "      <td>1258</td>\n",
              "      <td>1258</td>\n",
              "      <td>1258</td>\n",
              "      <td>1258</td>\n",
              "      <td>1258</td>\n",
              "      <td>1258</td>\n",
              "      <td>1258</td>\n",
              "    </tr>\n",
              "    <tr>\n",
              "      <th>1</th>\n",
              "      <td>mean</td>\n",
              "      <td>None</td>\n",
              "      <td>72.35785375357709</td>\n",
              "      <td>72.83938807631165</td>\n",
              "      <td>71.9186009594594</td>\n",
              "      <td>72.38844998012726</td>\n",
              "      <td>8222093.481717011</td>\n",
              "      <td>67.23883848728146</td>\n",
              "    </tr>\n",
              "    <tr>\n",
              "      <th>2</th>\n",
              "      <td>stddev</td>\n",
              "      <td>None</td>\n",
              "      <td>6.76809024470826</td>\n",
              "      <td>6.768186808159218</td>\n",
              "      <td>6.744075756255496</td>\n",
              "      <td>6.756859163732991</td>\n",
              "      <td>4519780.8431556</td>\n",
              "      <td>6.722609449996857</td>\n",
              "    </tr>\n",
              "    <tr>\n",
              "      <th>3</th>\n",
              "      <td>min</td>\n",
              "      <td>2012-01-03</td>\n",
              "      <td>56.389998999999996</td>\n",
              "      <td>57.060001</td>\n",
              "      <td>56.299999</td>\n",
              "      <td>56.419998</td>\n",
              "      <td>2094900</td>\n",
              "      <td>50.363689</td>\n",
              "    </tr>\n",
              "    <tr>\n",
              "      <th>4</th>\n",
              "      <td>max</td>\n",
              "      <td>2016-12-30</td>\n",
              "      <td>90.800003</td>\n",
              "      <td>90.970001</td>\n",
              "      <td>89.25</td>\n",
              "      <td>90.470001</td>\n",
              "      <td>80898100</td>\n",
              "      <td>84.91421600000001</td>\n",
              "    </tr>\n",
              "  </tbody>\n",
              "</table>\n",
              "</div>"
            ],
            "text/plain": [
              "  summary        Date  ...             Volume          Adj Close\n",
              "0   count        1258  ...               1258               1258\n",
              "1    mean        None  ...  8222093.481717011  67.23883848728146\n",
              "2  stddev        None  ...    4519780.8431556  6.722609449996857\n",
              "3     min  2012-01-03  ...            2094900          50.363689\n",
              "4     max  2016-12-30  ...           80898100  84.91421600000001\n",
              "\n",
              "[5 rows x 8 columns]"
            ]
          },
          "metadata": {},
          "execution_count": 7
        }
      ]
    },
    {
      "cell_type": "markdown",
      "metadata": {
        "id": "nEOvGhvKvbdR"
      },
      "source": [
        "7. (optional and not easy) Format the numbers in the describe() table to show only 2 decimal places"
      ]
    },
    {
      "cell_type": "code",
      "metadata": {
        "colab": {
          "base_uri": "https://localhost:8080/"
        },
        "id": "vXzhuzKkvc1P",
        "outputId": "a598f83f-890c-41a6-b9dc-92184ce2a148"
      },
      "source": [
        "from pyspark.sql.functions import format_number\n",
        "desc = df.describe()\n",
        "desc.select('summary', 'Date', \n",
        "            format_number(desc['Open'].cast('float'), 2).alias('Open'),\n",
        "            format_number(desc['High'].cast('float'), 2).alias('High'),\n",
        "            format_number(desc['Low'].cast('float'), 2).alias('Low'),\n",
        "            format_number(desc['Close'].cast('float'), 2).alias('Close'),\n",
        "            format_number(desc['Volume'].cast('float'), 2).alias('Volume'),\n",
        "            format_number(desc['Adj Close'].cast('float'), 2).alias('Adj Close')\n",
        "           ).show()"
      ],
      "execution_count": null,
      "outputs": [
        {
          "output_type": "stream",
          "name": "stdout",
          "text": [
            "+-------+----------+--------+--------+--------+--------+-------------+---------+\n",
            "|summary|      Date|    Open|    High|     Low|   Close|       Volume|Adj Close|\n",
            "+-------+----------+--------+--------+--------+--------+-------------+---------+\n",
            "|  count|      1258|1,258.00|1,258.00|1,258.00|1,258.00|     1,258.00| 1,258.00|\n",
            "|   mean|      null|   72.36|   72.84|   71.92|   72.39| 8,222,093.50|    67.24|\n",
            "| stddev|      null|    6.77|    6.77|    6.74|    6.76| 4,519,781.00|     6.72|\n",
            "|    min|2012-01-03|   56.39|   57.06|   56.30|   56.42| 2,094,900.00|    50.36|\n",
            "|    max|2016-12-30|   90.80|   90.97|   89.25|   90.47|80,898,096.00|    84.91|\n",
            "+-------+----------+--------+--------+--------+--------+-------------+---------+\n",
            "\n"
          ]
        }
      ]
    },
    {
      "cell_type": "markdown",
      "metadata": {
        "id": "ayocHRTsvoZ4"
      },
      "source": [
        "8. Create a new DataFrame with a column called  'HV Ratio' that is the ratio of the High Price vs Volume of Stock traded for a day"
      ]
    },
    {
      "cell_type": "code",
      "metadata": {
        "colab": {
          "base_uri": "https://localhost:8080/"
        },
        "id": "8Fhcgzcsvo_W",
        "outputId": "3d823916-7a7f-4e83-9a02-e2047c69d59d"
      },
      "source": [
        "df2 = df.withColumn('HV Ratio', df['High'] / df['Volume'])\n",
        "df2.select('HV Ratio').show()"
      ],
      "execution_count": null,
      "outputs": [
        {
          "output_type": "stream",
          "name": "stdout",
          "text": [
            "+--------------------+\n",
            "|            HV Ratio|\n",
            "+--------------------+\n",
            "|4.819714653321546E-6|\n",
            "|6.290848613094555E-6|\n",
            "|4.669412994783916E-6|\n",
            "|7.367338463826307E-6|\n",
            "|8.915604778943901E-6|\n",
            "|8.644477436914568E-6|\n",
            "|9.351828421515645E-6|\n",
            "| 8.29141562102703E-6|\n",
            "|7.712212102001476E-6|\n",
            "|7.071764823529412E-6|\n",
            "|1.015495466386981E-5|\n",
            "|6.576354146362592...|\n",
            "| 5.90145296180676E-6|\n",
            "|8.547679455011844E-6|\n",
            "|8.420709512685392E-6|\n",
            "|1.041448341728929...|\n",
            "|8.316075414862431E-6|\n",
            "|9.721183814992126E-6|\n",
            "|8.029436027707578E-6|\n",
            "|6.307432259386365E-6|\n",
            "+--------------------+\n",
            "only showing top 20 rows\n",
            "\n"
          ]
        }
      ]
    },
    {
      "cell_type": "code",
      "metadata": {
        "colab": {
          "base_uri": "https://localhost:8080/"
        },
        "id": "tffBYScmvz-d",
        "outputId": "0b50bcaa-9cbe-4cdd-8677-6ae53c7cc1bc"
      },
      "source": [
        "spark.sql('SELECT (High / Volume) AS `HV Ratio` FROM data').show()"
      ],
      "execution_count": null,
      "outputs": [
        {
          "output_type": "stream",
          "name": "stdout",
          "text": [
            "+--------------------+\n",
            "|            HV Ratio|\n",
            "+--------------------+\n",
            "|4.819714653321546E-6|\n",
            "|6.290848613094555E-6|\n",
            "|4.669412994783916E-6|\n",
            "|7.367338463826307E-6|\n",
            "|8.915604778943901E-6|\n",
            "|8.644477436914568E-6|\n",
            "|9.351828421515645E-6|\n",
            "| 8.29141562102703E-6|\n",
            "|7.712212102001476E-6|\n",
            "|7.071764823529412E-6|\n",
            "|1.015495466386981E-5|\n",
            "|6.576354146362592...|\n",
            "| 5.90145296180676E-6|\n",
            "|8.547679455011844E-6|\n",
            "|8.420709512685392E-6|\n",
            "|1.041448341728929...|\n",
            "|8.316075414862431E-6|\n",
            "|9.721183814992126E-6|\n",
            "|8.029436027707578E-6|\n",
            "|6.307432259386365E-6|\n",
            "+--------------------+\n",
            "only showing top 20 rows\n",
            "\n"
          ]
        }
      ]
    },
    {
      "cell_type": "markdown",
      "metadata": {
        "id": "OVQ131chv4A0"
      },
      "source": [
        "9. What day had the Peak High in Price?"
      ]
    },
    {
      "cell_type": "code",
      "metadata": {
        "colab": {
          "base_uri": "https://localhost:8080/",
          "height": 36
        },
        "id": "AoMzGlxjv5gy",
        "outputId": "ed90674b-f6ee-47a8-ba5c-8f1dbbec57ff"
      },
      "source": [
        "df.orderBy(df['High'].desc()).head(1)[0][0]"
      ],
      "execution_count": null,
      "outputs": [
        {
          "output_type": "execute_result",
          "data": {
            "application/vnd.google.colaboratory.intrinsic+json": {
              "type": "string"
            },
            "text/plain": [
              "'2015-01-13'"
            ]
          },
          "metadata": {},
          "execution_count": 14
        }
      ]
    },
    {
      "cell_type": "code",
      "metadata": {
        "colab": {
          "base_uri": "https://localhost:8080/"
        },
        "id": "OoHeVfyMv9dG",
        "outputId": "76e6357f-c931-4ebf-827f-bf7e32a05c16"
      },
      "source": [
        "spark.sql('SELECT Date FROM data ORDER BY High DESC LIMIT 1').show()"
      ],
      "execution_count": null,
      "outputs": [
        {
          "output_type": "stream",
          "name": "stdout",
          "text": [
            "+----------+\n",
            "|      Date|\n",
            "+----------+\n",
            "|2015-01-13|\n",
            "+----------+\n",
            "\n"
          ]
        }
      ]
    },
    {
      "cell_type": "markdown",
      "metadata": {
        "id": "Mqs7rsrJwKos"
      },
      "source": [
        "10. What is the mean of the Close column"
      ]
    },
    {
      "cell_type": "code",
      "metadata": {
        "colab": {
          "base_uri": "https://localhost:8080/"
        },
        "id": "gAef8BV5wLrH",
        "outputId": "da459fcf-79fe-459d-be3d-01a0605a00b8"
      },
      "source": [
        "from pyspark.sql.functions import mean\n",
        "df.select(mean(df['Close'])).show()"
      ],
      "execution_count": null,
      "outputs": [
        {
          "output_type": "stream",
          "name": "stdout",
          "text": [
            "+-----------------+\n",
            "|       avg(Close)|\n",
            "+-----------------+\n",
            "|72.38844998012726|\n",
            "+-----------------+\n",
            "\n"
          ]
        }
      ]
    },
    {
      "cell_type": "code",
      "metadata": {
        "colab": {
          "base_uri": "https://localhost:8080/"
        },
        "id": "wQfcFKmPwSLD",
        "outputId": "df61038d-e749-43c6-acf5-c7ea8b0969f5"
      },
      "source": [
        "spark.sql('SELECT MEAN(Close) FROM data').show()"
      ],
      "execution_count": null,
      "outputs": [
        {
          "output_type": "stream",
          "name": "stdout",
          "text": [
            "+-----------------+\n",
            "|      mean(Close)|\n",
            "+-----------------+\n",
            "|72.38844998012726|\n",
            "+-----------------+\n",
            "\n"
          ]
        }
      ]
    },
    {
      "cell_type": "markdown",
      "metadata": {
        "id": "4G4vj63fwTsG"
      },
      "source": [
        "11. What is the max and min of the Volume column?"
      ]
    },
    {
      "cell_type": "code",
      "metadata": {
        "colab": {
          "base_uri": "https://localhost:8080/"
        },
        "id": "3saDIisa3pfY",
        "outputId": "b7b77b50-c981-4864-d947-abb81b39ac7c"
      },
      "source": [
        "df.groupBy().agg({'Volume': 'max'}).show()"
      ],
      "execution_count": null,
      "outputs": [
        {
          "output_type": "stream",
          "name": "stdout",
          "text": [
            "+-----------+\n",
            "|max(Volume)|\n",
            "+-----------+\n",
            "|   80898100|\n",
            "+-----------+\n",
            "\n"
          ]
        }
      ]
    },
    {
      "cell_type": "code",
      "metadata": {
        "colab": {
          "base_uri": "https://localhost:8080/"
        },
        "id": "KXQnhVwWwUV4",
        "outputId": "b9b0ebd4-5c73-49b8-8b91-da2e9f576b98"
      },
      "source": [
        "df.groupBy().max('Volume').show()\n",
        "df.groupBy().min('Volume').show()"
      ],
      "execution_count": null,
      "outputs": [
        {
          "output_type": "stream",
          "name": "stdout",
          "text": [
            "+-----------+\n",
            "|max(Volume)|\n",
            "+-----------+\n",
            "|   80898100|\n",
            "+-----------+\n",
            "\n",
            "+-----------+\n",
            "|min(Volume)|\n",
            "+-----------+\n",
            "|    2094900|\n",
            "+-----------+\n",
            "\n"
          ]
        }
      ]
    },
    {
      "cell_type": "code",
      "metadata": {
        "colab": {
          "base_uri": "https://localhost:8080/"
        },
        "id": "ZbWRJKzMwce1",
        "outputId": "9126e0a8-0433-484e-9c2f-1a4b70da509d"
      },
      "source": [
        "spark.sql('SELECT MAX(Volume),MIN(Volume) FROM data').show()"
      ],
      "execution_count": null,
      "outputs": [
        {
          "output_type": "stream",
          "name": "stdout",
          "text": [
            "+-----------+-----------+\n",
            "|max(Volume)|min(Volume)|\n",
            "+-----------+-----------+\n",
            "|   80898100|    2094900|\n",
            "+-----------+-----------+\n",
            "\n"
          ]
        }
      ]
    },
    {
      "cell_type": "markdown",
      "metadata": {
        "id": "rfRyNiuSwj_w"
      },
      "source": [
        "12. How many days was the Close lower than 60 dollars?"
      ]
    },
    {
      "cell_type": "code",
      "metadata": {
        "colab": {
          "base_uri": "https://localhost:8080/"
        },
        "id": "rfG7P7e8wlF3",
        "outputId": "9c4662b8-14e9-4c7d-eefc-b1e6567096ad"
      },
      "source": [
        "df.filter(df['Close'] < 60).count()"
      ],
      "execution_count": null,
      "outputs": [
        {
          "output_type": "execute_result",
          "data": {
            "text/plain": [
              "81"
            ]
          },
          "metadata": {},
          "execution_count": 27
        }
      ]
    },
    {
      "cell_type": "code",
      "metadata": {
        "colab": {
          "base_uri": "https://localhost:8080/"
        },
        "id": "etTAtd0lwpIg",
        "outputId": "03238844-fbc6-4a7c-cb97-1bffbb2190f2"
      },
      "source": [
        "spark.sql('SELECT * FROM data WHERE Close < 60').count()"
      ],
      "execution_count": null,
      "outputs": [
        {
          "output_type": "execute_result",
          "data": {
            "text/plain": [
              "81"
            ]
          },
          "metadata": {},
          "execution_count": 24
        }
      ]
    },
    {
      "cell_type": "code",
      "metadata": {
        "colab": {
          "base_uri": "https://localhost:8080/"
        },
        "id": "etZycO8UwsDo",
        "outputId": "7ba97a98-5759-495a-eaab-68e4f9625f29"
      },
      "source": [
        "spark.sql('SELECT COUNT(CASE WHEN Close < 60 THEN 1 END) AS `Close < 60` FROM data').show()"
      ],
      "execution_count": null,
      "outputs": [
        {
          "output_type": "stream",
          "name": "stdout",
          "text": [
            "+----------+\n",
            "|Close < 60|\n",
            "+----------+\n",
            "|        81|\n",
            "+----------+\n",
            "\n"
          ]
        }
      ]
    },
    {
      "cell_type": "markdown",
      "metadata": {
        "id": "tuZYHBTOwzML"
      },
      "source": [
        "13. What percentage of time was the High greater than 80 dollars?"
      ]
    },
    {
      "cell_type": "code",
      "metadata": {
        "colab": {
          "base_uri": "https://localhost:8080/"
        },
        "id": "pCEGaeh9w0NV",
        "outputId": "085484f3-92cc-4ffe-e99f-ee77bb323658"
      },
      "source": [
        "df.filter(df['High'] > 80).count() / df.count() * 100"
      ],
      "execution_count": null,
      "outputs": [
        {
          "output_type": "execute_result",
          "data": {
            "text/plain": [
              "9.141494435612083"
            ]
          },
          "metadata": {},
          "execution_count": 28
        }
      ]
    },
    {
      "cell_type": "code",
      "metadata": {
        "colab": {
          "base_uri": "https://localhost:8080/"
        },
        "id": "rZjhiaj3w5Sy",
        "outputId": "2c3539e8-642d-4789-df3f-d7762abdac80"
      },
      "source": [
        "spark.sql('SELECT COUNT(CASE WHEN High > 80 THEN 1 END) * 100 / COUNT(*) AS `Percentage High > 80` \\\n",
        "           FROM data').show()"
      ],
      "execution_count": null,
      "outputs": [
        {
          "output_type": "stream",
          "name": "stdout",
          "text": [
            "+--------------------+\n",
            "|Percentage High > 80|\n",
            "+--------------------+\n",
            "|   9.141494435612083|\n",
            "+--------------------+\n",
            "\n"
          ]
        }
      ]
    },
    {
      "cell_type": "markdown",
      "metadata": {
        "id": "te-mGPT6w_wx"
      },
      "source": [
        "14. What is the Pearson correlation between High and Volume?"
      ]
    },
    {
      "cell_type": "code",
      "metadata": {
        "colab": {
          "base_uri": "https://localhost:8080/"
        },
        "id": "v58h7pvHw6iK",
        "outputId": "ee9a3143-4870-4df8-b3c7-2cf82371d432"
      },
      "source": [
        "df.corr('High', 'Volume')"
      ],
      "execution_count": null,
      "outputs": [
        {
          "output_type": "execute_result",
          "data": {
            "text/plain": [
              "-0.3384326061737161"
            ]
          },
          "metadata": {},
          "execution_count": 28
        }
      ]
    },
    {
      "cell_type": "code",
      "metadata": {
        "colab": {
          "base_uri": "https://localhost:8080/"
        },
        "id": "-QV9JdwuxRz1",
        "outputId": "67ac425c-cef1-4772-a1ff-0509cd1df20c"
      },
      "source": [
        "spark.sql('SELECT corr(High, Volume) AS `corr(High,Volume)` FROM data').show()"
      ],
      "execution_count": null,
      "outputs": [
        {
          "output_type": "stream",
          "name": "stdout",
          "text": [
            "+-------------------+\n",
            "|  corr(High,Volume)|\n",
            "+-------------------+\n",
            "|-0.3384326061737161|\n",
            "+-------------------+\n",
            "\n"
          ]
        }
      ]
    },
    {
      "cell_type": "markdown",
      "metadata": {
        "id": "z-LcSYiNxU_T"
      },
      "source": [
        "15. What is the max High per year?"
      ]
    },
    {
      "cell_type": "code",
      "metadata": {
        "colab": {
          "base_uri": "https://localhost:8080/"
        },
        "id": "hIFFUFTCxYTz",
        "outputId": "cd9cdac7-bb6e-4fbd-a722-da00bb9d083e"
      },
      "source": [
        "from pyspark.sql.functions import year\n",
        "df2 = df.withColumn('Year', year(df['Date']))\n",
        "df2.groupBy('Year').max('High').orderBy('Year').show()"
      ],
      "execution_count": null,
      "outputs": [
        {
          "output_type": "stream",
          "name": "stdout",
          "text": [
            "+----+---------+\n",
            "|Year|max(High)|\n",
            "+----+---------+\n",
            "|2012|77.599998|\n",
            "|2013|81.370003|\n",
            "|2014|88.089996|\n",
            "|2015|90.970001|\n",
            "|2016|75.190002|\n",
            "+----+---------+\n",
            "\n"
          ]
        }
      ]
    },
    {
      "cell_type": "code",
      "metadata": {
        "colab": {
          "base_uri": "https://localhost:8080/"
        },
        "id": "l4NqPpcvxe1d",
        "outputId": "d436e3ab-95e1-4ff5-811d-4dde8700e318"
      },
      "source": [
        "spark.sql('SELECT year(Date) AS Year, max(High) \\\n",
        "           FROM data \\\n",
        "           GROUP BY year(Date) \\\n",
        "           ORDER BY year(Date)').show()"
      ],
      "execution_count": null,
      "outputs": [
        {
          "output_type": "stream",
          "name": "stdout",
          "text": [
            "+----+---------+\n",
            "|Year|max(High)|\n",
            "+----+---------+\n",
            "|2012|77.599998|\n",
            "|2013|81.370003|\n",
            "|2014|88.089996|\n",
            "|2015|90.970001|\n",
            "|2016|75.190002|\n",
            "+----+---------+\n",
            "\n"
          ]
        }
      ]
    },
    {
      "cell_type": "markdown",
      "metadata": {
        "id": "cw2Hy4VJxgh8"
      },
      "source": [
        "16. What is the average Close for each calendar month?"
      ]
    },
    {
      "cell_type": "code",
      "metadata": {
        "colab": {
          "base_uri": "https://localhost:8080/"
        },
        "id": "iqgtfKaPxjZu",
        "outputId": "560beac1-eeb3-47d8-d2a3-e915325d91d5"
      },
      "source": [
        "from pyspark.sql.functions import month\n",
        "df2 = df.withColumn('Month', month(df['Date']))\n",
        "df2.groupBy('Month').mean('Close').orderBy('Month').show()"
      ],
      "execution_count": null,
      "outputs": [
        {
          "output_type": "stream",
          "name": "stdout",
          "text": [
            "+-----+-----------------+\n",
            "|Month|       avg(Close)|\n",
            "+-----+-----------------+\n",
            "|    1|71.44801958415842|\n",
            "|    2|  71.306804443299|\n",
            "|    3|71.77794377570092|\n",
            "|    4|72.97361900952382|\n",
            "|    5|72.30971688679247|\n",
            "|    6| 72.4953774245283|\n",
            "|    7|74.43971943925233|\n",
            "|    8|73.02981855454546|\n",
            "|    9|72.18411785294116|\n",
            "|   10|71.57854545454543|\n",
            "|   11| 72.1110893069307|\n",
            "|   12|72.84792478301885|\n",
            "+-----+-----------------+\n",
            "\n"
          ]
        }
      ]
    },
    {
      "cell_type": "code",
      "metadata": {
        "colab": {
          "base_uri": "https://localhost:8080/"
        },
        "id": "TSz-UvVHxoAv",
        "outputId": "5322d572-6424-452b-f3e9-65a7c73135d0"
      },
      "source": [
        "spark.sql('SELECT month(Date) AS Month, mean(Close) \\\n",
        "           FROM data \\\n",
        "           GROUP BY month(Date) \\\n",
        "           ORDER BY month(Date)').show()"
      ],
      "execution_count": null,
      "outputs": [
        {
          "output_type": "stream",
          "name": "stdout",
          "text": [
            "+-----+-----------------+\n",
            "|Month|      mean(Close)|\n",
            "+-----+-----------------+\n",
            "|    1|71.44801958415842|\n",
            "|    2|  71.306804443299|\n",
            "|    3|71.77794377570092|\n",
            "|    4|72.97361900952382|\n",
            "|    5|72.30971688679247|\n",
            "|    6| 72.4953774245283|\n",
            "|    7|74.43971943925233|\n",
            "|    8|73.02981855454546|\n",
            "|    9|72.18411785294116|\n",
            "|   10|71.57854545454543|\n",
            "|   11| 72.1110893069307|\n",
            "|   12|72.84792478301885|\n",
            "+-----+-----------------+\n",
            "\n"
          ]
        }
      ]
    },
    {
      "cell_type": "code",
      "metadata": {
        "colab": {
          "base_uri": "https://localhost:8080/"
        },
        "id": "bAHoHH2Y6ubS",
        "outputId": "41d89ff0-e571-456f-e141-499b046b64dc"
      },
      "source": [
        "spark.sql('SELECT concat(year(Date),\"-\",month(Date)) AS YearMonth, mean(Close) \\\n",
        "           FROM data GROUP BY YearMonth \\\n",
        "           ORDER BY YearMonth').show()"
      ],
      "execution_count": null,
      "outputs": [
        {
          "output_type": "stream",
          "name": "stdout",
          "text": [
            "+---------+------------------+\n",
            "|YearMonth|       mean(Close)|\n",
            "+---------+------------------+\n",
            "|   2012-1|        60.2354999|\n",
            "|  2012-10| 75.30619061904761|\n",
            "|  2012-11| 71.10952333333333|\n",
            "|  2012-12| 69.71100009999999|\n",
            "|   2012-2|            60.898|\n",
            "|   2012-3|60.433636818181796|\n",
            "|   2012-4|60.149000150000006|\n",
            "|   2012-5|61.456363409090905|\n",
            "|   2012-6| 67.50380961904762|\n",
            "|   2012-7| 72.40666661904763|\n",
            "|   2012-8| 73.04478265217392|\n",
            "|   2012-9| 74.18157921052631|\n",
            "|   2013-1| 69.09476142857143|\n",
            "|  2013-10| 74.97913104347826|\n",
            "|  2013-11| 78.97300075000001|\n",
            "|  2013-12|  78.7752382857143|\n",
            "|   2013-2| 70.62315857894738|\n",
            "|   2013-3| 73.43649940000002|\n",
            "|   2013-4| 77.68954572727273|\n",
            "|   2013-5| 77.81636368181817|\n",
            "+---------+------------------+\n",
            "only showing top 20 rows\n",
            "\n"
          ]
        }
      ]
    }
  ]
}
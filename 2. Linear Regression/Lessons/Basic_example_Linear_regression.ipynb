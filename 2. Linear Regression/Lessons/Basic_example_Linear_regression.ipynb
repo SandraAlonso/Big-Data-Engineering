{
  "nbformat": 4,
  "nbformat_minor": 0,
  "metadata": {
    "colab": {
      "name": "BDE2021 - 5. Linear regression.ipynb",
      "provenance": [],
      "collapsed_sections": []
    },
    "kernelspec": {
      "name": "python3",
      "display_name": "Python 3"
    },
    "language_info": {
      "name": "python"
    }
  },
  "cells": [
    {
      "cell_type": "code",
      "metadata": {
        "id": "qyWjqitA2ie8"
      },
      "source": [
        "!apt-get install openjdk-8-jdk-headless -qq > /dev/null\n",
        "!wget -q https://mirrors.sonic.net/apache/spark/spark-3.1.2/spark-3.1.2-bin-hadoop3.2.tgz\n",
        "!tar xzf spark-3.1.2-bin-hadoop3.2.tgz\n",
        "!pip install -q findspark\n",
        "\n",
        "\n",
        "import os\n",
        "os.environ[\"JAVA_HOME\"] = \"/usr/lib/jvm/java-8-openjdk-amd64\"\n",
        "os.environ[\"SPARK_HOME\"] = \"/content/spark-3.1.2-bin-hadoop3.2\"\n",
        "\n",
        "\n",
        "import findspark\n",
        "findspark.init()\n",
        "from pyspark.sql import SparkSession\n",
        "spark = SparkSession.builder.master(\"local[*]\").getOrCreate()"
      ],
      "execution_count": null,
      "outputs": []
    },
    {
      "cell_type": "code",
      "metadata": {
        "id": "FdCdt1XO3D3b"
      },
      "source": [
        "from pyspark import SparkFiles\n",
        "spark.sparkContext.addFile('https://raw.githubusercontent.com/erwindrarusli/machine-learning-linear-regression/master/Ecommerce%20Customers')\n",
        "df = spark.read.options(inferSchema='True', header='True').csv(SparkFiles.get('Ecommerce Customers'))"
      ],
      "execution_count": null,
      "outputs": []
    },
    {
      "cell_type": "code",
      "metadata": {
        "colab": {
          "base_uri": "https://localhost:8080/"
        },
        "id": "PQWxjSxNiW-y",
        "outputId": "1e5c0378-250a-4ee2-aa9d-f880cea2533d"
      },
      "source": [
        "df.printSchema()"
      ],
      "execution_count": null,
      "outputs": [
        {
          "output_type": "stream",
          "name": "stdout",
          "text": [
            "root\n",
            " |-- Email: string (nullable = true)\n",
            " |-- Address: string (nullable = true)\n",
            " |-- Avatar: string (nullable = true)\n",
            " |-- Avg. Session Length: double (nullable = true)\n",
            " |-- Time on App: double (nullable = true)\n",
            " |-- Time on Website: double (nullable = true)\n",
            " |-- Length of Membership: double (nullable = true)\n",
            " |-- Yearly Amount Spent: double (nullable = true)\n",
            "\n"
          ]
        }
      ]
    },
    {
      "cell_type": "code",
      "metadata": {
        "colab": {
          "base_uri": "https://localhost:8080/",
          "height": 261
        },
        "id": "HTQifOzD3TNt",
        "outputId": "240b603a-bac2-477d-c0ce-533893ed0c2a"
      },
      "source": [
        "df.describe().toPandas()"
      ],
      "execution_count": null,
      "outputs": [
        {
          "output_type": "execute_result",
          "data": {
            "text/html": [
              "<div>\n",
              "<style scoped>\n",
              "    .dataframe tbody tr th:only-of-type {\n",
              "        vertical-align: middle;\n",
              "    }\n",
              "\n",
              "    .dataframe tbody tr th {\n",
              "        vertical-align: top;\n",
              "    }\n",
              "\n",
              "    .dataframe thead th {\n",
              "        text-align: right;\n",
              "    }\n",
              "</style>\n",
              "<table border=\"1\" class=\"dataframe\">\n",
              "  <thead>\n",
              "    <tr style=\"text-align: right;\">\n",
              "      <th></th>\n",
              "      <th>summary</th>\n",
              "      <th>Email</th>\n",
              "      <th>Address</th>\n",
              "      <th>Avatar</th>\n",
              "      <th>Avg. Session Length</th>\n",
              "      <th>Time on App</th>\n",
              "      <th>Time on Website</th>\n",
              "      <th>Length of Membership</th>\n",
              "      <th>Yearly Amount Spent</th>\n",
              "    </tr>\n",
              "  </thead>\n",
              "  <tbody>\n",
              "    <tr>\n",
              "      <th>0</th>\n",
              "      <td>count</td>\n",
              "      <td>1000</td>\n",
              "      <td>1000</td>\n",
              "      <td>500</td>\n",
              "      <td>500</td>\n",
              "      <td>500</td>\n",
              "      <td>500</td>\n",
              "      <td>500</td>\n",
              "      <td>454</td>\n",
              "    </tr>\n",
              "    <tr>\n",
              "      <th>1</th>\n",
              "      <td>mean</td>\n",
              "      <td>None</td>\n",
              "      <td>None</td>\n",
              "      <td>33.058900610740785</td>\n",
              "      <td>31.130461514638228</td>\n",
              "      <td>14.350284262734618</td>\n",
              "      <td>33.95692625943925</td>\n",
              "      <td>48.60730499130784</td>\n",
              "      <td>499.91985771641924</td>\n",
              "    </tr>\n",
              "    <tr>\n",
              "      <th>2</th>\n",
              "      <td>stddev</td>\n",
              "      <td>None</td>\n",
              "      <td>None</td>\n",
              "      <td>0.9518717613059207</td>\n",
              "      <td>6.128380357402919</td>\n",
              "      <td>7.32783840726642</td>\n",
              "      <td>9.787360915468765</td>\n",
              "      <td>144.2169189098249</td>\n",
              "      <td>78.3257926883325</td>\n",
              "    </tr>\n",
              "    <tr>\n",
              "      <th>3</th>\n",
              "      <td>min</td>\n",
              "      <td>APO AA 17032-7944\"</td>\n",
              "      <td>AK 05665\"</td>\n",
              "      <td>30.879484344127498</td>\n",
              "      <td>8.668349517101323</td>\n",
              "      <td>8.508152176032603</td>\n",
              "      <td>0.7895199078816915</td>\n",
              "      <td>0.2699010899842742</td>\n",
              "      <td>266.086340948469</td>\n",
              "    </tr>\n",
              "    <tr>\n",
              "      <th>4</th>\n",
              "      <td>max</td>\n",
              "      <td>zscott@wright.com</td>\n",
              "      <td>YellowGreen</td>\n",
              "      <td>YellowGreen</td>\n",
              "      <td>36.13966248879052</td>\n",
              "      <td>39.22071295098572</td>\n",
              "      <td>40.005181638101895</td>\n",
              "      <td>744.2218671047146</td>\n",
              "      <td>765.5184619388372</td>\n",
              "    </tr>\n",
              "  </tbody>\n",
              "</table>\n",
              "</div>"
            ],
            "text/plain": [
              "  summary               Email  ... Length of Membership Yearly Amount Spent\n",
              "0   count                1000  ...                  500                 454\n",
              "1    mean                None  ...    48.60730499130784  499.91985771641924\n",
              "2  stddev                None  ...    144.2169189098249    78.3257926883325\n",
              "3     min  APO AA 17032-7944\"  ...   0.2699010899842742    266.086340948469\n",
              "4     max   zscott@wright.com  ...    744.2218671047146   765.5184619388372\n",
              "\n",
              "[5 rows x 9 columns]"
            ]
          },
          "metadata": {},
          "execution_count": 4
        }
      ]
    },
    {
      "cell_type": "code",
      "metadata": {
        "id": "Nqo513T6vGEy"
      },
      "source": [
        "df = df.toDF(*(c.replace('.', '') for c in df.columns))"
      ],
      "execution_count": null,
      "outputs": []
    },
    {
      "cell_type": "code",
      "metadata": {
        "id": "V1SlBrtrjBDf"
      },
      "source": [
        ""
      ],
      "execution_count": null,
      "outputs": []
    },
    {
      "cell_type": "code",
      "metadata": {
        "colab": {
          "base_uri": "https://localhost:8080/"
        },
        "id": "RP7LK8dW4rPO",
        "outputId": "6e11e689-4929-4aa3-df1f-daf588d5f4cd"
      },
      "source": [
        "df.printSchema()"
      ],
      "execution_count": null,
      "outputs": [
        {
          "output_type": "stream",
          "name": "stdout",
          "text": [
            "root\n",
            " |-- Email: string (nullable = true)\n",
            " |-- Address: string (nullable = true)\n",
            " |-- Avatar: string (nullable = true)\n",
            " |-- Avg Session Length: double (nullable = true)\n",
            " |-- Time on App: double (nullable = true)\n",
            " |-- Time on Website: double (nullable = true)\n",
            " |-- Length of Membership: double (nullable = true)\n",
            " |-- Yearly Amount Spent: double (nullable = true)\n",
            "\n"
          ]
        }
      ]
    },
    {
      "cell_type": "code",
      "metadata": {
        "colab": {
          "base_uri": "https://localhost:8080/"
        },
        "id": "x6Ap1LX4jrls",
        "outputId": "2244c9c0-e902-42f4-aebf-bd05ef773d72"
      },
      "source": [
        "df.columns"
      ],
      "execution_count": null,
      "outputs": [
        {
          "output_type": "execute_result",
          "data": {
            "text/plain": [
              "['Email',\n",
              " 'Address',\n",
              " 'Avatar',\n",
              " 'Avg Session Length',\n",
              " 'Time on App',\n",
              " 'Time on Website',\n",
              " 'Length of Membership',\n",
              " 'Yearly Amount Spent']"
            ]
          },
          "metadata": {},
          "execution_count": 10
        }
      ]
    },
    {
      "cell_type": "code",
      "metadata": {
        "colab": {
          "base_uri": "https://localhost:8080/"
        },
        "id": "bxaOrhHY-Rlp",
        "outputId": "bde2fa4c-8785-4564-d33a-f95c121a1717"
      },
      "source": [
        "df.show(3)"
      ],
      "execution_count": null,
      "outputs": [
        {
          "output_type": "stream",
          "name": "stdout",
          "text": [
            "+--------------------+------------------+------+------------------+------------------+-----------------+--------------------+-------------------+\n",
            "|               Email|           Address|Avatar|Avg Session Length|       Time on App|  Time on Website|Length of Membership|Yearly Amount Spent|\n",
            "+--------------------+------------------+------+------------------+------------------+-----------------+--------------------+-------------------+\n",
            "|mstephenson@ferna...|  835 Frank Tunnel|  null|              null|              null|             null|                null|               null|\n",
            "|         Wrightmouth|    MI 82180-9605\"|Violet| 34.49726772511229|12.655651149166752|39.57766801952616|   4.082620632952961|  587.9510539684005|\n",
            "|   hduke@hotmail.com|4547 Archer Common|  null|              null|              null|             null|                null|               null|\n",
            "+--------------------+------------------+------+------------------+------------------+-----------------+--------------------+-------------------+\n",
            "only showing top 3 rows\n",
            "\n"
          ]
        }
      ]
    },
    {
      "cell_type": "code",
      "metadata": {
        "id": "3_85SCejjDwA"
      },
      "source": [
        "from pyspark.ml.feature import VectorAssembler\n",
        "assembler = VectorAssembler(inputCols=['Avg Session Length', 'Time on App', 'Time on Website', \n",
        "                                       'Length of Membership'], outputCol='features', \n",
        "                            handleInvalid='skip')\n",
        "output = assembler.transform(df)"
      ],
      "execution_count": null,
      "outputs": []
    },
    {
      "cell_type": "code",
      "metadata": {
        "id": "JvXTY0HsCzfg"
      },
      "source": [
        "from pyspark.ml.feature import Imputer\n",
        "imputer = Imputer(inputCols=['Yearly Amount Spent'], outputCols=['label'], strategy='mean')\n",
        "imputer_model = imputer.fit(output)\n",
        "output = imputer_model.transform(output)"
      ],
      "execution_count": null,
      "outputs": []
    },
    {
      "cell_type": "code",
      "metadata": {
        "colab": {
          "base_uri": "https://localhost:8080/"
        },
        "id": "icrOJsVl-ZN_",
        "outputId": "f13d9aa7-89f6-4e53-89e4-f077b9d7bc72"
      },
      "source": [
        "output.show()"
      ],
      "execution_count": null,
      "outputs": [
        {
          "output_type": "stream",
          "name": "stdout",
          "text": [
            "+------------------+---------------+------------------+------------------+------------------+------------------+--------------------+-------------------+--------------------+------------------+\n",
            "|             Email|        Address|            Avatar|Avg Session Length|       Time on App|   Time on Website|Length of Membership|Yearly Amount Spent|            features|             label|\n",
            "+------------------+---------------+------------------+------------------+------------------+------------------+--------------------+-------------------+--------------------+------------------+\n",
            "|       Wrightmouth| MI 82180-9605\"|            Violet| 34.49726772511229|12.655651149166752| 39.57766801952616|   4.082620632952961|  587.9510539684005|[34.4972677251122...| 587.9510539684005|\n",
            "|       Diazchester| CA 06566-8576\"|         DarkGreen|31.926272026360156|11.109460728682564|37.268958868297744|    2.66403418213262|  392.2049334443264|[31.9262720263601...| 392.2049334443264|\n",
            "|       Cobbborough| DC 99414-7564\"|            Bisque|33.000914755642675|11.330278057777512| 37.11059744212085|   4.104543202376424| 487.54750486747207|[33.0009147556426...|487.54750486747207|\n",
            "|        Port Jason| OH 22070-1220\"|       SaddleBrown| 34.30555662975554|13.717513665142508| 36.72128267790313|  3.1201787827480914|  581.8523440352178|[34.3055566297555...| 581.8523440352178|\n",
            "|   Port Jacobville| PR 37242-1057\"|  MediumAquaMarine| 33.33067252364639|12.795188551078114| 37.53665330059473|   4.446308318351435|  599.4060920457634|[33.3306725236463...| 599.4060920457634|\n",
            "|    Jeffreychester| MN 67218-7250\"|       FloralWhite| 33.87103787934198|12.026925339755058| 34.47687762925054|   5.493507201364199|   637.102447915074|[33.8710378793419...|  637.102447915074|\n",
            "|        Josephbury| WV 92213-0247\"|     DarkSlateBlue| 32.02159550138701|11.366348309710526|36.683776152869605|  4.6850172465709115|  521.5721747578274|[32.0215955013870...| 521.5721747578274|\n",
            "|DPO AP 09026-4941\"|           Aqua|32.739142938380326| 12.35195897300293|37.373358858547554|4.4342734348999375|   549.9041461052942|               null|[12.3519589730029...|499.91985771641924|\n",
            "|        West Debra| SD 97450-0495\"|            Salmon| 33.98777289568564|13.386235275676434|37.534497341555735|  3.2734335777477144|  570.2004089636195|[33.9877728956856...| 570.2004089636195|\n",
            "|APO AA 98456-7482\"|          Brown|31.936548618448914|11.814128294972196| 37.14516822352819| 3.202806071553459|  427.19938489532814|               null|[11.8141282949721...|499.91985771641924|\n",
            "|    Alexandriaport| WY 28244-9149\"|            Tomato| 33.99257277495374|13.338975447662111| 37.22580613162114|  2.4826077705105956|  492.6060127179966|[33.9925727749537...| 492.6060127179966|\n",
            "|DPO AA 07580-2652\"|         Tomato| 33.87936082480498|11.584782999535266|37.087926070983805|  3.71320920294043|   522.3374046069357|               null|[11.5847829995352...|499.91985771641924|\n",
            "|    Lake Shanestad| MO 75696-5051\"|         RoyalBlue|29.532428967057946|10.961298400154098| 37.42021557502538|   4.046423164299585| 408.64035107262754|[29.5324289670579...|408.64035107262754|\n",
            "|New Stephaniehaven|      MP 42268\"|            Bisque| 33.19033404372265|12.959226091609382|36.144666700041924|  3.9185418391589986|  573.4158673313865|[33.1903340437226...| 573.4158673313865|\n",
            "|      Samanthaland|      ND 44358\"|          DarkBlue| 32.38797585315387|13.148725692056516| 36.61995708279922|   2.494543646659249| 470.45273330095546|[32.3879758531538...|470.45273330095546|\n",
            "|       Phillipstad| OH 35641-3238\"|              Peru|30.737720372628186|12.636606052000129|36.213763093698624|   3.357846842326294|  461.7807421962299|[30.7377203726281...| 461.7807421962299|\n",
            "|       Johnsonfurt|      GA 15169\"|        PowderBlue| 32.12538689728784|11.733861690857392|  34.8940927514398|  3.1361327164897803| 457.84769594494855|[32.1253868972878...|457.84769594494855|\n",
            "|         Wilsonton|      PW 88606\"|         OliveDrab| 32.33889932306719|  12.0131946940144| 38.38513659413844|   2.420806160901484|  407.7045475495441|[32.3388993230671...| 407.7045475495441|\n",
            "|    Port Dannytown|      PW 63227\"|              Cyan|32.187812045932155|14.715387544156501|38.244114594343515|  1.5165755808319439| 452.31567548003545|[32.1878120459321...|452.31567548003545|\n",
            "|    North Johnview|      MT 57912\"|     LightSeaGreen| 32.61785606282345|13.989592555825254|37.190503800397956|   4.064548550437977|   605.061038804892|[32.6178560628234...|  605.061038804892|\n",
            "+------------------+---------------+------------------+------------------+------------------+------------------+--------------------+-------------------+--------------------+------------------+\n",
            "only showing top 20 rows\n",
            "\n"
          ]
        }
      ]
    },
    {
      "cell_type": "code",
      "metadata": {
        "colab": {
          "base_uri": "https://localhost:8080/"
        },
        "id": "nxYW1W-Gx8hj",
        "outputId": "b4c5b00c-c162-4153-febd-759b656fa911"
      },
      "source": [
        "output.select('features').head(1)"
      ],
      "execution_count": null,
      "outputs": [
        {
          "output_type": "execute_result",
          "data": {
            "text/plain": [
              "[Row(features=DenseVector([34.4973, 12.6557, 39.5777, 4.0826]))]"
            ]
          },
          "metadata": {},
          "execution_count": 24
        }
      ]
    },
    {
      "cell_type": "code",
      "metadata": {
        "id": "ZJFkRmqfyADG"
      },
      "source": [
        "final_data = output.select(['features', 'label'])"
      ],
      "execution_count": null,
      "outputs": []
    },
    {
      "cell_type": "code",
      "metadata": {
        "id": "nGc2fMc5yC9w"
      },
      "source": [
        "train_data, test_data = final_data.randomSplit([0.7, 0.3])"
      ],
      "execution_count": null,
      "outputs": []
    },
    {
      "cell_type": "code",
      "metadata": {
        "colab": {
          "base_uri": "https://localhost:8080/"
        },
        "id": "J116lhHOyGDa",
        "outputId": "cf6799b3-b599-46dc-b8d9-2eb8a554da12"
      },
      "source": [
        "final_data.describe().show()"
      ],
      "execution_count": null,
      "outputs": [
        {
          "output_type": "stream",
          "name": "stdout",
          "text": [
            "+-------+-------------------+\n",
            "|summary|Yearly Amount Spent|\n",
            "+-------+-------------------+\n",
            "|  count|                454|\n",
            "|   mean| 499.91985771641924|\n",
            "| stddev|   78.3257926883325|\n",
            "|    min|   266.086340948469|\n",
            "|    max|  765.5184619388372|\n",
            "+-------+-------------------+\n",
            "\n"
          ]
        }
      ]
    },
    {
      "cell_type": "code",
      "metadata": {
        "colab": {
          "base_uri": "https://localhost:8080/"
        },
        "id": "F4pc-Hh2yIe0",
        "outputId": "191b788e-5b5f-4275-ad9a-3d3f20ba7534"
      },
      "source": [
        "train_data.describe().show()"
      ],
      "execution_count": null,
      "outputs": [
        {
          "output_type": "stream",
          "name": "stdout",
          "text": [
            "+-------+-------------------+\n",
            "|summary|Yearly Amount Spent|\n",
            "+-------+-------------------+\n",
            "|  count|                330|\n",
            "|   mean|  498.5394375416201|\n",
            "| stddev|  78.83140683885206|\n",
            "|    min|   266.086340948469|\n",
            "|    max|  765.5184619388372|\n",
            "+-------+-------------------+\n",
            "\n"
          ]
        }
      ]
    },
    {
      "cell_type": "code",
      "metadata": {
        "colab": {
          "base_uri": "https://localhost:8080/"
        },
        "id": "3FQjFP9MyLcv",
        "outputId": "0f7a929e-f80d-4e54-fca3-c76cf0e030b6"
      },
      "source": [
        "test_data.describe().show()"
      ],
      "execution_count": null,
      "outputs": [
        {
          "output_type": "stream",
          "name": "stdout",
          "text": [
            "+-------+-------------------+\n",
            "|summary|Yearly Amount Spent|\n",
            "+-------+-------------------+\n",
            "|  count|                124|\n",
            "|   mean|  503.5935565687075|\n",
            "| stddev|  77.15923305636252|\n",
            "|    min| 298.76200786180766|\n",
            "|    max|  712.3963268096636|\n",
            "+-------+-------------------+\n",
            "\n"
          ]
        }
      ]
    },
    {
      "cell_type": "code",
      "metadata": {
        "id": "kYjajy1ryN2n"
      },
      "source": [
        "from pyspark.ml.regression import LinearRegression\n",
        "lr = LinearRegression(labelCol='label')"
      ],
      "execution_count": null,
      "outputs": []
    },
    {
      "cell_type": "code",
      "metadata": {
        "colab": {
          "base_uri": "https://localhost:8080/"
        },
        "id": "WM3_qXxyBoqn",
        "outputId": "5a1ba489-187e-47f3-c8b4-e310b1372172"
      },
      "source": [
        ""
      ],
      "execution_count": null,
      "outputs": [
        {
          "output_type": "stream",
          "name": "stdout",
          "text": [
            "+--------------------+-------------------+\n",
            "|            features|Yearly Amount Spent|\n",
            "+--------------------+-------------------+\n",
            "|[10.0473147350711...|               null|\n",
            "|[10.2565490312879...|               null|\n",
            "|[10.8755595481892...|               null|\n",
            "|[11.3062323446735...|               null|\n",
            "|[11.4333799333344...|               null|\n",
            "|[11.5847829995352...|               null|\n",
            "|[11.5889485797124...|               null|\n",
            "|[11.6089979362215...|               null|\n",
            "|[11.6565920338517...|               null|\n",
            "|[11.7329914615880...|               null|\n",
            "|[11.7958866768891...|               null|\n",
            "|[11.9176361831014...|               null|\n",
            "|[12.0201120912087...|               null|\n",
            "|[12.0641566321993...|               null|\n",
            "|[12.2072984910507...|               null|\n",
            "|[12.2289347111239...|               null|\n",
            "|[12.2637176760343...|               null|\n",
            "|[12.3519589730029...|               null|\n",
            "|[12.3643416044551...|               null|\n",
            "|[12.6451951408435...|               null|\n",
            "+--------------------+-------------------+\n",
            "only showing top 20 rows\n",
            "\n"
          ]
        }
      ]
    },
    {
      "cell_type": "code",
      "metadata": {
        "id": "IrA0hcJMySzy"
      },
      "source": [
        "lr_model = lr.fit(train_data)"
      ],
      "execution_count": null,
      "outputs": []
    },
    {
      "cell_type": "code",
      "metadata": {
        "id": "bApSB6JzyU2M"
      },
      "source": [
        "test_results = lr_model.evaluate(test_data)"
      ],
      "execution_count": null,
      "outputs": []
    },
    {
      "cell_type": "code",
      "metadata": {
        "colab": {
          "base_uri": "https://localhost:8080/"
        },
        "id": "XxnxBkK4yXPo",
        "outputId": "eb437b7d-0761-47a8-96f2-be0b927ef161"
      },
      "source": [
        "test_results.residuals.show()"
      ],
      "execution_count": null,
      "outputs": [
        {
          "output_type": "stream",
          "name": "stdout",
          "text": [
            "+-------------------+\n",
            "|          residuals|\n",
            "+-------------------+\n",
            "|-14.716836573391845|\n",
            "| -27.80406118644663|\n",
            "|  12.42701239418767|\n",
            "|-13.763538848241694|\n",
            "| -18.55178335596537|\n",
            "| -47.32605803762925|\n",
            "|-14.345477361109204|\n",
            "|-2.1834813433608247|\n",
            "|-40.366489393769314|\n",
            "|-35.569958457724795|\n",
            "| -63.84923426899053|\n",
            "|-113.11063419196847|\n",
            "|-43.980961474157255|\n",
            "| -37.59590606624283|\n",
            "|  33.02525723240569|\n",
            "|-15.024476464584723|\n",
            "| 11.170874370971319|\n",
            "| 16.919349291227206|\n",
            "|-19.063824701988608|\n",
            "|  45.36688992325037|\n",
            "+-------------------+\n",
            "only showing top 20 rows\n",
            "\n"
          ]
        }
      ]
    },
    {
      "cell_type": "code",
      "metadata": {
        "colab": {
          "base_uri": "https://localhost:8080/"
        },
        "id": "pqatrgKbyb9f",
        "outputId": "ce69b4da-c180-454e-9a05-6788dab21c6a"
      },
      "source": [
        "test_results.rootMeanSquaredError"
      ],
      "execution_count": null,
      "outputs": [
        {
          "output_type": "execute_result",
          "data": {
            "text/plain": [
              "64.86486237638898"
            ]
          },
          "metadata": {},
          "execution_count": 52
        }
      ]
    },
    {
      "cell_type": "code",
      "metadata": {
        "colab": {
          "base_uri": "https://localhost:8080/"
        },
        "id": "635IUamXygcI",
        "outputId": "c3b98889-24ce-4e27-ba10-ea3be6d7d1ed"
      },
      "source": [
        "test_results.r2"
      ],
      "execution_count": null,
      "outputs": [
        {
          "output_type": "execute_result",
          "data": {
            "text/plain": [
              "0.29380208300022304"
            ]
          },
          "metadata": {},
          "execution_count": 53
        }
      ]
    },
    {
      "cell_type": "code",
      "metadata": {
        "colab": {
          "base_uri": "https://localhost:8080/"
        },
        "id": "a6FoUgCKE9KC",
        "outputId": "0ae7237d-305a-4334-e741-76f65e462905"
      },
      "source": [
        "lr_model.transform(test_data).show()"
      ],
      "execution_count": null,
      "outputs": [
        {
          "output_type": "stream",
          "name": "stdout",
          "text": [
            "+--------------------+------------------+------------------+\n",
            "|            features|             label|        prediction|\n",
            "+--------------------+------------------+------------------+\n",
            "|[10.8755595481892...|499.91985771641924| 514.6366942898111|\n",
            "|[11.0313583404091...|499.91985771641924| 527.7239189028659|\n",
            "|[11.2307433067610...|499.91985771641924| 487.4928453222316|\n",
            "|[11.7958866768891...|499.91985771641924| 513.6833965646609|\n",
            "|[12.3519589730029...|499.91985771641924| 518.4716410723846|\n",
            "|[12.3643416044551...|499.91985771641924| 547.2459157540485|\n",
            "|[12.4287369278682...|499.91985771641924| 514.2653350775284|\n",
            "|[12.7520766109646...|499.91985771641924|502.10333905978007|\n",
            "|[12.8779836962563...|499.91985771641924| 540.2863471101886|\n",
            "|[13.0686385841824...|499.91985771641924|  535.489816174144|\n",
            "|[13.1868128730011...|499.91985771641924| 563.7690919854098|\n",
            "|[13.8913134217784...|499.91985771641924| 613.0304919083877|\n",
            "|[13.9701810741304...|499.91985771641924| 543.9008191905765|\n",
            "|[31.0472221394875...| 392.4973991890214| 430.0933052552642|\n",
            "|[31.1239743499119...| 486.9470538397658| 453.9217966073601|\n",
            "|[31.3091926408918...| 432.7207178399336|447.74519430451835|\n",
            "|[31.3123495994443...|463.59141802794056|452.42054365696924|\n",
            "|[31.3584771924370...|495.17595044947535|478.25660115824815|\n",
            "|[31.3895854806644...|410.06961105998295|429.13343576197155|\n",
            "|[31.5702008293202...| 545.9454921414049| 500.5786022181545|\n",
            "+--------------------+------------------+------------------+\n",
            "only showing top 20 rows\n",
            "\n"
          ]
        }
      ]
    },
    {
      "cell_type": "code",
      "metadata": {
        "id": "dFpgclIxyjOB"
      },
      "source": [
        "unlabeled_data = test_data.select('features')"
      ],
      "execution_count": null,
      "outputs": []
    },
    {
      "cell_type": "code",
      "metadata": {
        "colab": {
          "base_uri": "https://localhost:8080/"
        },
        "id": "9UZXd7LRylsC",
        "outputId": "756ab730-9d6c-42cf-b725-78ab27cffbab"
      },
      "source": [
        "unlabeled_data.show()"
      ],
      "execution_count": null,
      "outputs": [
        {
          "output_type": "stream",
          "name": "stdout",
          "text": [
            "+--------------------+\n",
            "|            features|\n",
            "+--------------------+\n",
            "|[10.8755595481892...|\n",
            "|[11.0313583404091...|\n",
            "|[11.2307433067610...|\n",
            "|[11.7958866768891...|\n",
            "|[12.3519589730029...|\n",
            "|[12.3643416044551...|\n",
            "|[12.4287369278682...|\n",
            "|[12.7520766109646...|\n",
            "|[12.8779836962563...|\n",
            "|[13.0686385841824...|\n",
            "|[13.1868128730011...|\n",
            "|[13.8913134217784...|\n",
            "|[13.9701810741304...|\n",
            "|[31.0472221394875...|\n",
            "|[31.1239743499119...|\n",
            "|[31.3091926408918...|\n",
            "|[31.3123495994443...|\n",
            "|[31.3584771924370...|\n",
            "|[31.3895854806644...|\n",
            "|[31.5702008293202...|\n",
            "+--------------------+\n",
            "only showing top 20 rows\n",
            "\n"
          ]
        }
      ]
    },
    {
      "cell_type": "code",
      "metadata": {
        "id": "X0CAHA5KyoA5"
      },
      "source": [
        "predictions = lr_model.transform(unlabeled_data)"
      ],
      "execution_count": null,
      "outputs": []
    },
    {
      "cell_type": "code",
      "metadata": {
        "colab": {
          "base_uri": "https://localhost:8080/"
        },
        "id": "2lmlM2JVyquj",
        "outputId": "1c88e3a5-632e-46db-cdfb-8485bb81b35f"
      },
      "source": [
        "predictions.show()"
      ],
      "execution_count": null,
      "outputs": [
        {
          "output_type": "stream",
          "name": "stdout",
          "text": [
            "+--------------------+------------------+\n",
            "|            features|        prediction|\n",
            "+--------------------+------------------+\n",
            "|[10.8755595481892...| 514.6366942898111|\n",
            "|[11.0313583404091...| 527.7239189028659|\n",
            "|[11.2307433067610...| 487.4928453222316|\n",
            "|[11.7958866768891...| 513.6833965646609|\n",
            "|[12.3519589730029...| 518.4716410723846|\n",
            "|[12.3643416044551...| 547.2459157540485|\n",
            "|[12.4287369278682...| 514.2653350775284|\n",
            "|[12.7520766109646...|502.10333905978007|\n",
            "|[12.8779836962563...| 540.2863471101886|\n",
            "|[13.0686385841824...|  535.489816174144|\n",
            "|[13.1868128730011...| 563.7690919854098|\n",
            "|[13.8913134217784...| 613.0304919083877|\n",
            "|[13.9701810741304...| 543.9008191905765|\n",
            "|[31.0472221394875...| 430.0933052552642|\n",
            "|[31.1239743499119...| 453.9217966073601|\n",
            "|[31.3091926408918...|447.74519430451835|\n",
            "|[31.3123495994443...|452.42054365696924|\n",
            "|[31.3584771924370...|478.25660115824815|\n",
            "|[31.3895854806644...|429.13343576197155|\n",
            "|[31.5702008293202...| 500.5786022181545|\n",
            "+--------------------+------------------+\n",
            "only showing top 20 rows\n",
            "\n"
          ]
        }
      ]
    }
  ]
}
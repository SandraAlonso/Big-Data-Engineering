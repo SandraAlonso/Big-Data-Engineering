{
  "nbformat": 4,
  "nbformat_minor": 0,
  "metadata": {
    "colab": {
      "name": "BDE2021 - 11. Tree methods - College data.ipynb",
      "provenance": [],
      "collapsed_sections": []
    },
    "kernelspec": {
      "name": "python3",
      "display_name": "Python 3"
    },
    "language_info": {
      "name": "python"
    }
  },
  "cells": [
    {
      "cell_type": "code",
      "metadata": {
        "id": "qyWjqitA2ie8"
      },
      "source": [
        "!apt-get install openjdk-8-jdk-headless -qq > /dev/null\n",
        "!wget -q https://mirrors.sonic.net/apache/spark/spark-3.1.2/spark-3.1.2-bin-hadoop3.2.tgz\n",
        "!tar xzf spark-3.1.2-bin-hadoop3.2.tgz\n",
        "!pip install -q findspark\n",
        "\n",
        "\n",
        "import os\n",
        "os.environ[\"JAVA_HOME\"] = \"/usr/lib/jvm/java-8-openjdk-amd64\"\n",
        "os.environ[\"SPARK_HOME\"] = \"/content/spark-3.1.2-bin-hadoop3.2\"\n",
        "\n",
        "\n",
        "import findspark\n",
        "findspark.init()\n",
        "from pyspark.sql import SparkSession\n",
        "spark = SparkSession.builder.master(\"local[*]\").getOrCreate()"
      ],
      "execution_count": null,
      "outputs": []
    },
    {
      "cell_type": "code",
      "metadata": {
        "id": "FdCdt1XO3D3b"
      },
      "source": [
        "df = spark.read.format('csv').options(inferSchema=True, header=True).load('/content/drive/MyDrive/Colab Notebooks/Trees/college_data.csv')"
      ],
      "execution_count": null,
      "outputs": []
    },
    {
      "cell_type": "code",
      "metadata": {
        "colab": {
          "base_uri": "https://localhost:8080/"
        },
        "id": "2ybpJQux21EJ",
        "outputId": "b2f8278a-fa6b-458d-c534-fa1001f72c10"
      },
      "source": [
        "df.printSchema()"
      ],
      "execution_count": null,
      "outputs": [
        {
          "output_type": "stream",
          "name": "stdout",
          "text": [
            "root\n",
            " |-- private: string (nullable = true)\n",
            " |-- apps: integer (nullable = true)\n",
            " |-- accept: integer (nullable = true)\n",
            " |-- enroll: integer (nullable = true)\n",
            " |-- top10perc: integer (nullable = true)\n",
            " |-- top25perc: integer (nullable = true)\n",
            " |-- f_undergrad: integer (nullable = true)\n",
            " |-- p_undergrad: integer (nullable = true)\n",
            " |-- outstate: integer (nullable = true)\n",
            " |-- room_board: integer (nullable = true)\n",
            " |-- books: integer (nullable = true)\n",
            " |-- personal: integer (nullable = true)\n",
            " |-- phd: integer (nullable = true)\n",
            " |-- terminal: integer (nullable = true)\n",
            " |-- s_f_ratio: double (nullable = true)\n",
            " |-- perc_alumni: integer (nullable = true)\n",
            " |-- expend: integer (nullable = true)\n",
            " |-- grad_rate: integer (nullable = true)\n",
            "\n"
          ]
        }
      ]
    },
    {
      "cell_type": "code",
      "metadata": {
        "colab": {
          "base_uri": "https://localhost:8080/"
        },
        "id": "yr6krMiYXBcc",
        "outputId": "e0b48a92-ae2b-4bbf-eef6-9964c3b489b2"
      },
      "source": [
        "df.describe().show()"
      ],
      "execution_count": null,
      "outputs": [
        {
          "output_type": "stream",
          "name": "stdout",
          "text": [
            "+-------+-------+------------------+------------------+----------------+------------------+------------------+-----------------+-----------------+------------------+------------------+------------------+------------------+------------------+------------------+------------------+------------------+----------------+------------------+\n",
            "|summary|private|              apps|            accept|          enroll|         top10perc|         top25perc|      f_undergrad|      p_undergrad|          outstate|        room_board|             books|          personal|               phd|          terminal|         s_f_ratio|       perc_alumni|          expend|         grad_rate|\n",
            "+-------+-------+------------------+------------------+----------------+------------------+------------------+-----------------+-----------------+------------------+------------------+------------------+------------------+------------------+------------------+------------------+------------------+----------------+------------------+\n",
            "|  count|    777|               777|               777|             777|               777|               777|              777|              777|               777|               777|               777|               777|               777|               777|               777|               777|             777|               777|\n",
            "|   mean|   null|3001.6383526383524|2018.8043758043757|779.972972972973| 27.55855855855856|  55.7966537966538|3699.907335907336|855.2985842985843| 10440.66924066924| 4357.526383526383| 549.3809523809524|1340.6422136422136| 72.66023166023166| 79.70270270270271|14.089703989703986|22.743886743886744|9660.17117117117| 65.46332046332046|\n",
            "| stddev|   null|3870.2014844352884|  2451.11397099263| 929.17619013287|17.640364385452134|19.804777595131373|4850.420530887386|1522.431887295513|4023.0164841119727|1096.6964155935289|165.10536013709253|  677.071453590578|16.328154687939314|14.722358527903374|3.9583491352055478| 12.39180148937615|5221.76843985609|17.177709897155403|\n",
            "|    min|     No|                81|                72|              35|                 1|                 9|              139|                1|              2340|              1780|                96|               250|                 8|                24|               2.5|                 0|            3186|                10|\n",
            "|    max|    Yes|             48094|             26330|            6392|                96|               100|            31643|            21836|             21700|              8124|              2340|              6800|               103|               100|              39.8|                64|           56233|               118|\n",
            "+-------+-------+------------------+------------------+----------------+------------------+------------------+-----------------+-----------------+------------------+------------------+------------------+------------------+------------------+------------------+------------------+------------------+----------------+------------------+\n",
            "\n"
          ]
        }
      ]
    },
    {
      "cell_type": "code",
      "metadata": {
        "colab": {
          "base_uri": "https://localhost:8080/"
        },
        "id": "0j2Pf4-N3JuQ",
        "outputId": "84225cbf-49a3-49f4-ac70-606326c879ef"
      },
      "source": [
        "df.columns"
      ],
      "execution_count": null,
      "outputs": [
        {
          "output_type": "execute_result",
          "data": {
            "text/plain": [
              "['private',\n",
              " 'apps',\n",
              " 'accept',\n",
              " 'enroll',\n",
              " 'top10perc',\n",
              " 'top25perc',\n",
              " 'f_undergrad',\n",
              " 'p_undergrad',\n",
              " 'outstate',\n",
              " 'room_board',\n",
              " 'books',\n",
              " 'personal',\n",
              " 'phd',\n",
              " 'terminal',\n",
              " 's_f_ratio',\n",
              " 'perc_alumni',\n",
              " 'expend',\n",
              " 'grad_rate']"
            ]
          },
          "metadata": {},
          "execution_count": 5
        }
      ]
    },
    {
      "cell_type": "code",
      "metadata": {
        "id": "vEKsJsAZ3Qo3"
      },
      "source": [
        "from pyspark.ml.feature import VectorAssembler, StringIndexer\n",
        "assembler = VectorAssembler(\n",
        "    inputCols=[\n",
        "        'apps',\n",
        "        'accept',\n",
        "        'enroll',\n",
        "        'top10perc',\n",
        "        'top25perc',\n",
        "        'f_undergrad',\n",
        "        'p_undergrad',\n",
        "        'outstate',\n",
        "        'room_board',\n",
        "         'books',\n",
        "         'personal',\n",
        "         'phd',\n",
        "         'terminal',\n",
        "         's_f_ratio',\n",
        "         'perc_alumni',\n",
        "         'expend',\n",
        "         'grad_rate'], \n",
        "    outputCol='features')\n",
        "stridx = StringIndexer(inputCol='private', outputCol='label')\n",
        "final_data = assembler.transform(df)\n",
        "final_data = stridx.fit(final_data).transform(final_data)"
      ],
      "execution_count": null,
      "outputs": []
    },
    {
      "cell_type": "code",
      "metadata": {
        "id": "XDEJB5mP2jkD"
      },
      "source": [
        "from pyspark.ml.classification import (RandomForestClassifier, GBTClassifier,\n",
        "                                       DecisionTreeClassifier)"
      ],
      "execution_count": null,
      "outputs": []
    },
    {
      "cell_type": "code",
      "metadata": {
        "id": "7IxdcQHM3XSI"
      },
      "source": [
        "train, test = final_data.randomSplit([0.7, 0.3])"
      ],
      "execution_count": null,
      "outputs": []
    },
    {
      "cell_type": "code",
      "metadata": {
        "id": "FrePsp283Yqk"
      },
      "source": [
        "dtc = DecisionTreeClassifier()\n",
        "rfc = RandomForestClassifier(numTrees = 100)\n",
        "gbt = GBTClassifier()"
      ],
      "execution_count": null,
      "outputs": []
    },
    {
      "cell_type": "code",
      "metadata": {
        "id": "G8kjF0QJEVd_"
      },
      "source": [
        "dtc_model = dtc.fit(train)\n",
        "rfc_model = rfc.fit(train)\n",
        "gbt_model = gbt.fit(train)"
      ],
      "execution_count": null,
      "outputs": []
    },
    {
      "cell_type": "code",
      "metadata": {
        "id": "Syd8X5lcE5r6"
      },
      "source": [
        "dtc_preds = dtc_model.transform(test)\n",
        "rfc_preds = rfc_model.transform(test)\n",
        "gbt_preds = gbt_model.transform(test)"
      ],
      "execution_count": null,
      "outputs": []
    },
    {
      "cell_type": "code",
      "metadata": {
        "id": "vDi4OnMxvXxu",
        "colab": {
          "base_uri": "https://localhost:8080/"
        },
        "outputId": "b6a985f1-1a90-49c7-b1c4-8be1732fd469"
      },
      "source": [
        "dtc_preds.show()"
      ],
      "execution_count": null,
      "outputs": [
        {
          "output_type": "stream",
          "name": "stdout",
          "text": [
            "+-------+----+------+------+---------+---------+-----------+-----------+--------+----------+-----+--------+---+--------+---------+-----------+------+---------+--------------------+-----+-------------+--------------------+----------+\n",
            "|private|apps|accept|enroll|top10perc|top25perc|f_undergrad|p_undergrad|outstate|room_board|books|personal|phd|terminal|s_f_ratio|perc_alumni|expend|grad_rate|            features|label|rawPrediction|         probability|prediction|\n",
            "+-------+----+------+------+---------+---------+-----------+-----------+--------+----------+-----+--------+---+--------+---------+-----------+------+---------+--------------------+-----+-------------+--------------------+----------+\n",
            "|     No| 529|   481|   243|       22|       47|       1206|        134|    4860|      3122|  600|     650|103|      88|     17.4|         16|  6415|       43|[529.0,481.0,243....|  1.0|    [0.0,4.0]|           [0.0,1.0]|       1.0|\n",
            "|     No| 535|   502|   223|        6|       20|        959|        150|    7320|      4640|  500|     600| 48|      65|     12.6|         15|  7114|       51|[535.0,502.0,223....|  1.0|   [35.0,3.0]|[0.92105263157894...|       0.0|\n",
            "|     No| 701|   501|   458|       10|       40|        959|        457|    2580|      2624|  500|     900| 48|     100|     20.1|         24|  4870|       44|[701.0,501.0,458....|  1.0|    [4.0,1.0]|           [0.8,0.2]|       0.0|\n",
            "|     No| 910|   910|   342|       14|       53|       1434|        417|    7032|      2780|  550|    1960| 75|      81|     15.2|         15|  6490|       36|[910.0,910.0,342....|  1.0|   [35.0,3.0]|[0.92105263157894...|       0.0|\n",
            "|     No| 944|   774|   440|       14|       34|       2174|        529|    6360|      2760|  550|    1498| 77|      77|     15.0|          5|  6443|       48|[944.0,774.0,440....|  1.0|  [3.0,106.0]|[0.02752293577981...|       1.0|\n",
            "|     No|1208|   803|   438|       20|       48|       1906|        344|    6810|      3970|  450|    1647| 67|      75|     15.9|         26|  5712|       59|[1208.0,803.0,438...|  1.0|  [3.0,106.0]|[0.02752293577981...|       1.0|\n",
            "|     No|1256|  1256|   853|       43|       79|       3957|        588|    5401|      3144|  450|    1888| 72|      75|     19.3|          4|  5527|       50|[1256.0,1256.0,85...|  1.0|  [3.0,106.0]|[0.02752293577981...|       1.0|\n",
            "|     No|1351|   892|   570|       18|       78|       2385|        331|    4440|      3030|  300|     600| 72|      72|     18.9|          8|  5883|       51|[1351.0,892.0,570...|  1.0|  [3.0,106.0]|[0.02752293577981...|       1.0|\n",
            "|     No|1373|  1373|   724|        6|       21|       2754|        474|    2700|      2660|  540|    1660| 60|      68|     20.3|         29|  4550|       52|[1373.0,1373.0,72...|  1.0|  [3.0,106.0]|[0.02752293577981...|       1.0|\n",
            "|     No|1563|  1005|   240|        1|       19|       1380|        136|    5542|      4330|  500|    1000| 65|      71|     14.2|         17|  6562|       57|[1563.0,1005.0,24...|  1.0|   [35.0,3.0]|[0.92105263157894...|       0.0|\n",
            "|     No|2225|  1910|  1190|       29|       55|       5968|        955|    4738|      3110|  700|     940| 72|      76|     20.2|         27|  5972|       52|[2225.0,1910.0,11...|  1.0|  [3.0,106.0]|[0.02752293577981...|       1.0|\n",
            "|     No|2320|  1805|   769|       24|       61|       3395|        670|    6400|      3392|  580|    2150| 71|      80|     12.8|         26|  6729|       59|[2320.0,1805.0,76...|  1.0|  [3.0,106.0]|[0.02752293577981...|       1.0|\n",
            "|     No|2379|  2133|  1292|        8|       25|       4283|       2973|    4973|      3192|  500|    1425| 56|      65|     22.0|         21|  4078|       38|[2379.0,2133.0,12...|  1.0|  [3.0,106.0]|[0.02752293577981...|       1.0|\n",
            "|     No|2397|  2144|  1525|       22|       45|       6720|       1822|    3957|      2325|  618|    1656| 66|      77|     20.0|         13|  4546|       45|[2397.0,2144.0,15...|  1.0|  [3.0,106.0]|[0.02752293577981...|       1.0|\n",
            "|     No|2409|  1939|   759|       17|       50|       3819|       1347|    6900|      2800|  475|    1200| 81|      89|     22.2|          1|  5968|       46|[2409.0,1939.0,75...|  1.0|  [3.0,106.0]|[0.02752293577981...|       1.0|\n",
            "|     No|2785|  2011|  1007|        8|       65|       6507|        898|    7242|      3603|  654|    1416| 67|      89|     18.1|          0|  6413|       51|[2785.0,2011.0,10...|  1.0|  [3.0,106.0]|[0.02752293577981...|       1.0|\n",
            "|     No|2850|  2044|  1046|       20|       50|       9260|       1387|    4652|      2470|  500|     500| 78|      99|     18.7|         23|  5917|       45|[2850.0,2044.0,10...|  1.0|  [3.0,106.0]|[0.02752293577981...|       1.0|\n",
            "|     No|3306|  2079|  1071|       42|       89|      10208|       9310|    6597|      2494|  800|    3028| 81|      96|     13.9|         20|  6722|       66|[3306.0,2079.0,10...|  1.0|  [3.0,106.0]|[0.02752293577981...|       1.0|\n",
            "|     No|3570|  2215|   651|       17|       41|       3390|        325|    7352|      3620|  225|     500| 47|      55|     16.1|         14|  6374|       63|[3570.0,2215.0,65...|  1.0|  [3.0,106.0]|[0.02752293577981...|       1.0|\n",
            "|     No|3820|  1431|   695|       21|       70|       5303|       3942|    4356|      4830|  800|     800| 76|      81|     22.1|          6|  7252|       51|[3820.0,1431.0,69...|  1.0|  [3.0,106.0]|[0.02752293577981...|       1.0|\n",
            "+-------+----+------+------+---------+---------+-----------+-----------+--------+----------+-----+--------+---+--------+---------+-----------+------+---------+--------------------+-----+-------------+--------------------+----------+\n",
            "only showing top 20 rows\n",
            "\n"
          ]
        }
      ]
    },
    {
      "cell_type": "code",
      "metadata": {
        "id": "GJLoelnE25cU"
      },
      "source": [
        "dtc = DecisionTreeClassifier()\n",
        "rfc = RandomForestClassifier(numTrees = 100)\n",
        "gbt = GBTClassifier()"
      ],
      "execution_count": null,
      "outputs": []
    },
    {
      "cell_type": "code",
      "metadata": {
        "id": "Mfz_9BEKFLEc"
      },
      "source": [
        "dtc_model = dtc.fit(train)\n",
        "rfc_model = rfc.fit(train)\n",
        "gbt_model = gbt.fit(train)"
      ],
      "execution_count": null,
      "outputs": []
    },
    {
      "cell_type": "code",
      "metadata": {
        "id": "ziIax-VcGNDV"
      },
      "source": [
        "dtc_preds = dtc_model.transform(test)\n",
        "rfc_preds = rfc_model.transform(test)\n",
        "gbt_preds = gbt_model.transform(test)"
      ],
      "execution_count": null,
      "outputs": []
    },
    {
      "cell_type": "code",
      "metadata": {
        "id": "Nqo513T6vGEy",
        "colab": {
          "base_uri": "https://localhost:8080/"
        },
        "outputId": "20b5a2b4-6128-4d4c-bdda-3aeab9025644"
      },
      "source": [
        "dtc_preds.show()"
      ],
      "execution_count": null,
      "outputs": [
        {
          "output_type": "stream",
          "name": "stdout",
          "text": [
            "+-----+--------------------+-------------+-----------+----------+\n",
            "|label|            features|rawPrediction|probability|prediction|\n",
            "+-----+--------------------+-------------+-----------+----------+\n",
            "|  0.0|(692,[121,122,123...|   [31.0,0.0]|  [1.0,0.0]|       0.0|\n",
            "|  0.0|(692,[122,123,148...|   [31.0,0.0]|  [1.0,0.0]|       0.0|\n",
            "|  0.0|(692,[123,124,125...|   [31.0,0.0]|  [1.0,0.0]|       0.0|\n",
            "|  0.0|(692,[124,125,126...|   [31.0,0.0]|  [1.0,0.0]|       0.0|\n",
            "|  0.0|(692,[125,126,127...|   [31.0,0.0]|  [1.0,0.0]|       0.0|\n",
            "|  0.0|(692,[126,127,128...|   [31.0,0.0]|  [1.0,0.0]|       0.0|\n",
            "|  0.0|(692,[152,153,154...|   [31.0,0.0]|  [1.0,0.0]|       0.0|\n",
            "|  0.0|(692,[152,153,154...|   [31.0,0.0]|  [1.0,0.0]|       0.0|\n",
            "|  0.0|(692,[153,154,155...|   [31.0,0.0]|  [1.0,0.0]|       0.0|\n",
            "|  0.0|(692,[153,154,155...|   [31.0,0.0]|  [1.0,0.0]|       0.0|\n",
            "|  0.0|(692,[181,182,183...|   [31.0,0.0]|  [1.0,0.0]|       0.0|\n",
            "|  0.0|(692,[234,235,237...|   [31.0,0.0]|  [1.0,0.0]|       0.0|\n",
            "|  1.0|(692,[99,100,101,...|   [31.0,0.0]|  [1.0,0.0]|       0.0|\n",
            "|  1.0|(692,[100,101,102...|   [0.0,32.0]|  [0.0,1.0]|       1.0|\n",
            "|  1.0|(692,[123,124,125...|   [0.0,32.0]|  [0.0,1.0]|       1.0|\n",
            "|  1.0|(692,[123,124,125...|   [0.0,32.0]|  [0.0,1.0]|       1.0|\n",
            "|  1.0|(692,[124,125,126...|   [0.0,32.0]|  [0.0,1.0]|       1.0|\n",
            "|  1.0|(692,[124,125,126...|   [0.0,32.0]|  [0.0,1.0]|       1.0|\n",
            "|  1.0|(692,[124,125,126...|   [0.0,32.0]|  [0.0,1.0]|       1.0|\n",
            "|  1.0|(692,[124,125,126...|   [0.0,32.0]|  [0.0,1.0]|       1.0|\n",
            "+-----+--------------------+-------------+-----------+----------+\n",
            "only showing top 20 rows\n",
            "\n"
          ]
        }
      ]
    },
    {
      "cell_type": "code",
      "metadata": {
        "id": "tFggKy04GtD6"
      },
      "source": [
        "from pyspark.ml.evaluation import MulticlassClassificationEvaluator\n",
        "evaluator = MulticlassClassificationEvaluator(metricName='accuracy')"
      ],
      "execution_count": null,
      "outputs": []
    },
    {
      "cell_type": "code",
      "metadata": {
        "id": "tF_-TDmmG8Ls",
        "colab": {
          "base_uri": "https://localhost:8080/"
        },
        "outputId": "ce0eb070-425d-451e-8f8d-ee1034e6113e"
      },
      "source": [
        "print(f'DTC: {evaluator.evaluate(dtc_preds)}') \n",
        "print(f'RFC: {evaluator.evaluate(rfc_preds)}')\n",
        "print(f'GBT: {evaluator.evaluate(gbt_preds)}')"
      ],
      "execution_count": null,
      "outputs": [
        {
          "output_type": "stream",
          "name": "stdout",
          "text": [
            "DTC: 0.9196428571428571\n",
            "RFC: 0.9375\n",
            "GBT: 0.9151785714285714\n"
          ]
        }
      ]
    }
  ]
}
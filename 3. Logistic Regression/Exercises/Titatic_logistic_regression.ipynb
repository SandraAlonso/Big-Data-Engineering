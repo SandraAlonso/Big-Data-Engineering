{
  "nbformat": 4,
  "nbformat_minor": 0,
  "metadata": {
    "colab": {
      "name": "BDE2021 - 8. Titatic logistic regression.ipynb",
      "provenance": [],
      "collapsed_sections": []
    },
    "kernelspec": {
      "name": "python3",
      "display_name": "Python 3"
    },
    "language_info": {
      "name": "python"
    }
  },
  "cells": [
    {
      "cell_type": "code",
      "metadata": {
        "id": "qyWjqitA2ie8"
      },
      "source": [
        "!apt-get install openjdk-8-jdk-headless -qq > /dev/null\n",
        "!wget -q https://mirrors.sonic.net/apache/spark/spark-3.1.2/spark-3.1.2-bin-hadoop3.2.tgz\n",
        "!tar xzf spark-3.1.2-bin-hadoop3.2.tgz\n",
        "!pip install -q findspark\n",
        "\n",
        "\n",
        "import os\n",
        "os.environ[\"JAVA_HOME\"] = \"/usr/lib/jvm/java-8-openjdk-amd64\"\n",
        "os.environ[\"SPARK_HOME\"] = \"/content/spark-3.1.2-bin-hadoop3.2\"\n",
        "\n",
        "\n",
        "import findspark\n",
        "findspark.init()\n",
        "from pyspark.sql import SparkSession\n",
        "spark = SparkSession.builder.master(\"local[*]\").getOrCreate()"
      ],
      "execution_count": null,
      "outputs": []
    },
    {
      "cell_type": "code",
      "metadata": {
        "id": "FdCdt1XO3D3b"
      },
      "source": [
        "train = spark.read.format('csv').options(inferSchema='True',header='True').load('/content/drive/MyDrive/Colab Notebooks/Titanic/train.csv')\n",
        "test = spark.read.format('csv').options(inferSchema='True',header='True').load('/content/drive/MyDrive/Colab Notebooks/Titanic/test.csv')"
      ],
      "execution_count": null,
      "outputs": []
    },
    {
      "cell_type": "code",
      "metadata": {
        "id": "G8kjF0QJEVd_"
      },
      "source": [
        "mycols = train.select(['Survived', 'Pclass', 'Sex', 'Age', 'SibSp', 'Parch', 'Fare', 'Embarked'])\n",
        "final_train = mycols.na.drop()\n"
      ],
      "execution_count": null,
      "outputs": []
    },
    {
      "cell_type": "code",
      "metadata": {
        "colab": {
          "base_uri": "https://localhost:8080/"
        },
        "id": "Syd8X5lcE5r6",
        "outputId": "2313e3e1-d04c-492e-b97c-078663be682d"
      },
      "source": [
        "final_train.show()"
      ],
      "execution_count": null,
      "outputs": [
        {
          "output_type": "stream",
          "name": "stdout",
          "text": [
            "+--------+------+------+----+-----+-----+-------+--------+\n",
            "|Survived|Pclass|   Sex| Age|SibSp|Parch|   Fare|Embarked|\n",
            "+--------+------+------+----+-----+-----+-------+--------+\n",
            "|       0|     3|  male|22.0|    1|    0|   7.25|       S|\n",
            "|       1|     1|female|38.0|    1|    0|71.2833|       C|\n",
            "|       1|     3|female|26.0|    0|    0|  7.925|       S|\n",
            "|       1|     1|female|35.0|    1|    0|   53.1|       S|\n",
            "|       0|     3|  male|35.0|    0|    0|   8.05|       S|\n",
            "|       0|     1|  male|54.0|    0|    0|51.8625|       S|\n",
            "|       0|     3|  male| 2.0|    3|    1| 21.075|       S|\n",
            "|       1|     3|female|27.0|    0|    2|11.1333|       S|\n",
            "|       1|     2|female|14.0|    1|    0|30.0708|       C|\n",
            "|       1|     3|female| 4.0|    1|    1|   16.7|       S|\n",
            "|       1|     1|female|58.0|    0|    0|  26.55|       S|\n",
            "|       0|     3|  male|20.0|    0|    0|   8.05|       S|\n",
            "|       0|     3|  male|39.0|    1|    5| 31.275|       S|\n",
            "|       0|     3|female|14.0|    0|    0| 7.8542|       S|\n",
            "|       1|     2|female|55.0|    0|    0|   16.0|       S|\n",
            "|       0|     3|  male| 2.0|    4|    1| 29.125|       Q|\n",
            "|       0|     3|female|31.0|    1|    0|   18.0|       S|\n",
            "|       0|     2|  male|35.0|    0|    0|   26.0|       S|\n",
            "|       1|     2|  male|34.0|    0|    0|   13.0|       S|\n",
            "|       1|     3|female|15.0|    0|    0| 8.0292|       Q|\n",
            "+--------+------+------+----+-----+-----+-------+--------+\n",
            "only showing top 20 rows\n",
            "\n"
          ]
        }
      ]
    },
    {
      "cell_type": "code",
      "metadata": {
        "id": "Mfz_9BEKFLEc"
      },
      "source": [
        "from pyspark.ml.feature import (VectorAssembler, OneHotEncoder, VectorIndexer, StringIndexer)\n",
        "\n",
        "gender_indexer = StringIndexer(inputCol='Sex', outputCol='SexIndex')\n",
        "gender_encoder = OneHotEncoder(inputCol='SexIndex', outputCol='SexVec')\n",
        "\n",
        "embarked_indexer = StringIndexer(inputCol='Embarked', outputCol='EmbarkedIndex')\n",
        "embarked_encoder = OneHotEncoder(inputCol='EmbarkedIndex', outputCol='EmbarkedVec')"
      ],
      "execution_count": null,
      "outputs": []
    },
    {
      "cell_type": "code",
      "metadata": {
        "id": "ziIax-VcGNDV"
      },
      "source": [
        "assembler = VectorAssembler(inputCols=['Pclass','SexVec','Age','SibSp','Parch','Fare','EmbarkedVec'],\n",
        "                            outputCol='features')"
      ],
      "execution_count": null,
      "outputs": []
    },
    {
      "cell_type": "code",
      "metadata": {
        "id": "Nqo513T6vGEy"
      },
      "source": [
        "from pyspark.ml.classification import LogisticRegression\n",
        "lr = LogisticRegression(featuresCol='features', labelCol='Survived')"
      ],
      "execution_count": null,
      "outputs": []
    },
    {
      "cell_type": "code",
      "metadata": {
        "id": "tFggKy04GtD6"
      },
      "source": [
        "from pyspark.ml import Pipeline\n",
        "pipeline = Pipeline(stages=[gender_indexer, embarked_indexer, gender_encoder, embarked_encoder, assembler, lr])"
      ],
      "execution_count": null,
      "outputs": []
    },
    {
      "cell_type": "code",
      "metadata": {
        "id": "tF_-TDmmG8Ls"
      },
      "source": [
        "model = pipeline.fit(final_train)"
      ],
      "execution_count": null,
      "outputs": []
    },
    {
      "cell_type": "code",
      "metadata": {
        "id": "1bCCRrjkH0wA"
      },
      "source": [
        "final_test = test.na.drop()"
      ],
      "execution_count": null,
      "outputs": []
    },
    {
      "cell_type": "code",
      "metadata": {
        "id": "Q4LUT_iNHRq4"
      },
      "source": [
        "predictions = model.transform(final_test)"
      ],
      "execution_count": null,
      "outputs": []
    },
    {
      "cell_type": "code",
      "metadata": {
        "colab": {
          "base_uri": "https://localhost:8080/"
        },
        "id": "yLO5Nv40Hb-m",
        "outputId": "439e20b9-cdf4-410f-b46a-7e569b4e4fc5"
      },
      "source": [
        "predictions.show()"
      ],
      "execution_count": null,
      "outputs": [
        {
          "output_type": "stream",
          "name": "stdout",
          "text": [
            "+-----------+------+--------------------+------+----+-----+-----+-----------+-------+---------------+--------+--------+-------------+-------------+-------------+--------------------+--------------------+--------------------+----------+\n",
            "|PassengerId|Pclass|                Name|   Sex| Age|SibSp|Parch|     Ticket|   Fare|          Cabin|Embarked|SexIndex|EmbarkedIndex|       SexVec|  EmbarkedVec|            features|       rawPrediction|         probability|prediction|\n",
            "+-----------+------+--------------------+------+----+-----+-----+-----------+-------+---------------+--------+--------+-------------+-------------+-------------+--------------------+--------------------+--------------------+----------+\n",
            "|        904|     1|Snyder, Mrs. John...|female|23.0|    1|    0|      21228|82.2667|            B45|       S|     1.0|          0.0|    (1,[],[])|(2,[0],[1.0])|[1.0,0.0,23.0,1.0...|[-2.7944551541697...|[0.05762454542235...|       1.0|\n",
            "|        906|     1|Chaffee, Mrs. Her...|female|47.0|    1|    0|W.E.P. 5734| 61.175|            E31|       S|     1.0|          0.0|    (1,[],[])|(2,[0],[1.0])|[1.0,0.0,47.0,1.0...|[-1.7238629559682...|[0.15137425939785...|       1.0|\n",
            "|        916|     1|Ryerson, Mrs. Art...|female|48.0|    1|    3|   PC 17608|262.375|B57 B59 B63 B66|       C|     1.0|          1.0|    (1,[],[])|(2,[1],[1.0])|[1.0,0.0,48.0,1.0...|[-2.1889555880302...|[0.10074667448029...|       1.0|\n",
            "|        918|     1|Ostby, Miss. Hele...|female|22.0|    0|    1|     113509|61.9792|            B36|       C|     1.0|          1.0|    (1,[],[])|(2,[1],[1.0])|[1.0,0.0,22.0,0.0...|[-3.5129148885303...|[0.02894698846036...|       1.0|\n",
            "|        920|     1|Brady, Mr. John B...|  male|41.0|    0|    0|     113054|   30.5|            A21|       S|     0.0|          0.0|(1,[0],[1.0])|(2,[0],[1.0])|[1.0,1.0,41.0,0.0...|[0.33521881320834...|[0.58302865002449...|       0.0|\n",
            "|        926|     1|Mock, Mr. Philipp...|  male|30.0|    1|    0|      13236|  57.75|            C78|       C|     0.0|          1.0|(1,[0],[1.0])|(2,[1],[1.0])|[1.0,1.0,30.0,1.0...|[-0.2186469569608...|[0.44555499021025...|       1.0|\n",
            "|        936|     1|Kimball, Mrs. Edw...|female|45.0|    1|    0|      11753|52.5542|            D19|       S|     1.0|          0.0|    (1,[],[])|(2,[0],[1.0])|[1.0,0.0,45.0,1.0...|[-1.7982213086017...|[0.14206772179218...|       1.0|\n",
            "|        938|     1|Chevre, Mr. Paul ...|  male|45.0|    0|    0|   PC 17594|   29.7|             A9|       C|     0.0|          1.0|(1,[0],[1.0])|(2,[1],[1.0])|[1.0,1.0,45.0,0.0...|[0.10854946305126...|[0.52711075052316...|       0.0|\n",
            "|        940|     1|Bucknell, Mrs. Wi...|female|60.0|    0|    0|      11813|76.2917|            D15|       C|     1.0|          1.0|    (1,[],[])|(2,[1],[1.0])|(8,[0,2,5,7],[1.0...|[-1.9463775218870...|[0.12494889005523...|       1.0|\n",
            "|        942|     1|Smith, Mr. Lucien...|  male|24.0|    1|    0|      13695|   60.0|            C31|       S|     0.0|          0.0|(1,[0],[1.0])|(2,[0],[1.0])|[1.0,1.0,24.0,1.0...|[-0.0807532068663...|[0.47982266192891...|       1.0|\n",
            "|        945|     1|Fortune, Miss. Et...|female|28.0|    3|    2|      19950|  263.0|    C23 C25 C27|       S|     1.0|          0.0|    (1,[],[])|(2,[0],[1.0])|[1.0,0.0,28.0,3.0...|[-1.9894869667600...|[0.12031114947111...|       1.0|\n",
            "|        949|     3|Abelseth, Mr. Ola...|  male|25.0|    0|    0|     348122|   7.65|          F G63|       S|     0.0|          0.0|(1,[0],[1.0])|(2,[0],[1.0])|[3.0,1.0,25.0,0.0...|[2.07283301788591...|[0.88823451583573...|       0.0|\n",
            "|        951|     1|Chaudanson, Miss....|female|36.0|    0|    0|   PC 17608|262.375|            B61|       C|     1.0|          1.0|    (1,[],[])|(2,[1],[1.0])|(8,[0,2,5,7],[1.0...|[-3.2531698949421...|[0.03721314854374...|       1.0|\n",
            "|        956|     1|Ryerson, Master. ...|  male|13.0|    2|    2|   PC 17608|262.375|B57 B59 B63 B66|       C|     0.0|          1.0|(1,[0],[1.0])|(2,[1],[1.0])|[1.0,1.0,13.0,2.0...|[-0.7647877444457...|[0.31760769881921...|       1.0|\n",
            "|        960|     1|Tucker, Mr. Gilbe...|  male|31.0|    0|    0|       2543|28.5375|            C53|       C|     0.0|          1.0|(1,[0],[1.0])|(2,[1],[1.0])|[1.0,1.0,31.0,0.0...|[-0.4966848857815...|[0.37832004863431...|       1.0|\n",
            "|        961|     1|Fortune, Mrs. Mar...|female|60.0|    1|    4|      19950|  263.0|    C23 C25 C27|       S|     1.0|          0.0|    (1,[],[])|(2,[0],[1.0])|[1.0,0.0,60.0,1.0...|[-1.2081682065759...|[0.23002532616243...|       1.0|\n",
            "|        965|     1|Ovies y Rodriguez...|  male|28.5|    0|    0|   PC 17562|27.7208|            D43|       C|     0.0|          1.0|(1,[0],[1.0])|(2,[1],[1.0])|[1.0,1.0,28.5,0.0...|[-0.6038904518186...|[0.35345412492281...|       1.0|\n",
            "|        966|     1|Geiger, Miss. Amalie|female|35.0|    0|    0|     113503|  211.5|           C130|       C|     1.0|          1.0|    (1,[],[])|(2,[1],[1.0])|(8,[0,2,5,7],[1.0...|[-3.2236876978193...|[0.03828397925773...|       1.0|\n",
            "|        967|     1|  Keeping, Mr. Edwin|  male|32.5|    0|    0|     113503|  211.5|           C132|       C|     0.0|          1.0|(1,[0],[1.0])|(2,[1],[1.0])|[1.0,1.0,32.5,0.0...|[-0.6935871581417...|[0.33323556770806...|       1.0|\n",
            "|        969|     1|Cornell, Mrs. Rob...|female|55.0|    2|    0|      11770|   25.7|           C101|       S|     1.0|          0.0|    (1,[],[])|(2,[0],[1.0])|[1.0,0.0,55.0,2.0...|[-0.9630700262951...|[0.27626394570131...|       1.0|\n",
            "+-----------+------+--------------------+------+----+-----+-----+-----------+-------+---------------+--------+--------+-------------+-------------+-------------+--------------------+--------------------+--------------------+----------+\n",
            "only showing top 20 rows\n",
            "\n"
          ]
        }
      ]
    },
    {
      "cell_type": "markdown",
      "metadata": {
        "id": "jiPrJCg7_i8u"
      },
      "source": [
        "As final_test has no label, it cannot be used to evaluate the quality of the classifier.\n",
        "\n",
        "So, we do it again by splitting the training set."
      ]
    },
    {
      "cell_type": "code",
      "metadata": {
        "id": "HNHdabt0IpMX"
      },
      "source": [
        "(train, test) = final_train.randomSplit([0.7,0.3])\n",
        "model = pipeline.fit(train)\n",
        "predictionAndLabels = model.transform(test)\n"
      ],
      "execution_count": null,
      "outputs": []
    },
    {
      "cell_type": "code",
      "metadata": {
        "id": "x6Ap1LX4jrls"
      },
      "source": [
        "from pyspark.ml.evaluation import BinaryClassificationEvaluator\n",
        "evaluator = BinaryClassificationEvaluator(rawPredictionCol='prediction', labelCol='Survived')\n",
        "acc = evaluator.evaluate(predictionAndLabels)\n"
      ],
      "execution_count": null,
      "outputs": []
    },
    {
      "cell_type": "code",
      "metadata": {
        "colab": {
          "base_uri": "https://localhost:8080/"
        },
        "id": "bxaOrhHY-Rlp",
        "outputId": "cefbdd9e-f961-4c4b-acef-234c68b7b4b7"
      },
      "source": [
        "acc"
      ],
      "execution_count": null,
      "outputs": [
        {
          "output_type": "execute_result",
          "data": {
            "text/plain": [
              "0.783564238014552"
            ]
          },
          "metadata": {},
          "execution_count": 14
        }
      ]
    }
  ]
}
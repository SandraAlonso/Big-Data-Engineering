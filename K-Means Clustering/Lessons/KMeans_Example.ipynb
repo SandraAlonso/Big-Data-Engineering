{
  "nbformat": 4,
  "nbformat_minor": 0,
  "metadata": {
    "colab": {
      "name": "BDE2021 - 13. KMeans - Example.ipynb",
      "provenance": [],
      "collapsed_sections": []
    },
    "kernelspec": {
      "name": "python3",
      "display_name": "Python 3"
    },
    "language_info": {
      "name": "python"
    }
  },
  "cells": [
    {
      "cell_type": "code",
      "metadata": {
        "id": "qyWjqitA2ie8"
      },
      "source": [
        "!apt-get install openjdk-8-jdk-headless -qq > /dev/null\n",
        "!wget -q https://mirrors.sonic.net/apache/spark/spark-3.1.2/spark-3.1.2-bin-hadoop3.2.tgz\n",
        "!tar xzf spark-3.1.2-bin-hadoop3.2.tgz\n",
        "!pip install -q findspark\n",
        "\n",
        "\n",
        "import os\n",
        "os.environ[\"JAVA_HOME\"] = \"/usr/lib/jvm/java-8-openjdk-amd64\"\n",
        "os.environ[\"SPARK_HOME\"] = \"/content/spark-3.1.2-bin-hadoop3.2\"\n",
        "\n",
        "\n",
        "import findspark\n",
        "findspark.init()\n",
        "from pyspark.sql import SparkSession\n",
        "spark = SparkSession.builder.master(\"local[*]\").getOrCreate()"
      ],
      "execution_count": null,
      "outputs": []
    },
    {
      "cell_type": "code",
      "metadata": {
        "id": "FdCdt1XO3D3b"
      },
      "source": [
        "df = spark.read.format('libsvm').load('/content/drive/MyDrive/Colab Notebooks/KMeans/sample_kmeans_data.txt')"
      ],
      "execution_count": null,
      "outputs": []
    },
    {
      "cell_type": "code",
      "metadata": {
        "colab": {
          "base_uri": "https://localhost:8080/"
        },
        "id": "2ybpJQux21EJ",
        "outputId": "6361868d-f343-43d4-faec-81b7a2fd4ff5"
      },
      "source": [
        "df.printSchema()"
      ],
      "execution_count": null,
      "outputs": [
        {
          "output_type": "stream",
          "name": "stdout",
          "text": [
            "root\n",
            " |-- label: double (nullable = true)\n",
            " |-- features: vector (nullable = true)\n",
            "\n"
          ]
        }
      ]
    },
    {
      "cell_type": "code",
      "metadata": {
        "id": "yr6krMiYXBcc"
      },
      "source": [
        "from pyspark.ml.clustering import KMeans\n",
        "kmeans = KMeans(k=2, seed=1)\n",
        "model = kmeans.fit(df)"
      ],
      "execution_count": null,
      "outputs": []
    },
    {
      "cell_type": "code",
      "metadata": {
        "id": "0j2Pf4-N3JuQ"
      },
      "source": [
        "results = model.transform(df)"
      ],
      "execution_count": null,
      "outputs": []
    },
    {
      "cell_type": "code",
      "metadata": {
        "colab": {
          "base_uri": "https://localhost:8080/"
        },
        "id": "eJF849FEb-1z",
        "outputId": "396a7b5f-b5c7-4b1b-e23f-8875d684f260"
      },
      "source": [
        "results.show()"
      ],
      "execution_count": null,
      "outputs": [
        {
          "output_type": "stream",
          "name": "stdout",
          "text": [
            "+-----+--------------------+----------+\n",
            "|label|            features|prediction|\n",
            "+-----+--------------------+----------+\n",
            "|  0.0|           (3,[],[])|         1|\n",
            "|  1.0|(3,[0,1,2],[0.1,0...|         1|\n",
            "|  2.0|(3,[0,1,2],[0.2,0...|         1|\n",
            "|  3.0|(3,[0,1,2],[9.0,9...|         0|\n",
            "|  4.0|(3,[0,1,2],[9.1,9...|         0|\n",
            "|  5.0|(3,[0,1,2],[9.2,9...|         0|\n",
            "+-----+--------------------+----------+\n",
            "\n"
          ]
        }
      ]
    },
    {
      "cell_type": "code",
      "metadata": {
        "id": "vEKsJsAZ3Qo3",
        "colab": {
          "base_uri": "https://localhost:8080/"
        },
        "outputId": "95125d91-8ce0-47a1-e458-db1fa0c33ccf"
      },
      "source": [
        "from pyspark.ml.evaluation import ClusteringEvaluator\n",
        "evaluator = ClusteringEvaluator(metricName='silhouette', distanceMeasure='squaredEuclidean')\n",
        "\n",
        "silhouette = evaluator.evaluate(results)\n",
        "print(\"Silhouette = \" + str(silhouette))"
      ],
      "execution_count": null,
      "outputs": [
        {
          "output_type": "stream",
          "name": "stdout",
          "text": [
            "Silhouette = 0.9997530305375207\n"
          ]
        }
      ]
    },
    {
      "cell_type": "code",
      "metadata": {
        "colab": {
          "base_uri": "https://localhost:8080/"
        },
        "id": "UFWMHEXqdiX-",
        "outputId": "c921cd21-bbd5-43ff-94db-419b8c398938"
      },
      "source": [
        "model.clusterCenters()"
      ],
      "execution_count": null,
      "outputs": [
        {
          "output_type": "execute_result",
          "data": {
            "text/plain": [
              "[array([9.1, 9.1, 9.1]), array([0.1, 0.1, 0.1])]"
            ]
          },
          "metadata": {},
          "execution_count": 9
        }
      ]
    }
  ]
}
{
  "nbformat": 4,
  "nbformat_minor": 0,
  "metadata": {
    "colab": {
      "name": "BDE2021 - 7. Logistic regression.ipynb",
      "provenance": [],
      "collapsed_sections": []
    },
    "kernelspec": {
      "name": "python3",
      "display_name": "Python 3"
    },
    "language_info": {
      "name": "python"
    }
  },
  "cells": [
    {
      "cell_type": "code",
      "metadata": {
        "id": "qyWjqitA2ie8"
      },
      "source": [
        "!apt-get install openjdk-8-jdk-headless -qq > /dev/null\n",
        "!wget -q https://mirrors.sonic.net/apache/spark/spark-3.1.2/spark-3.1.2-bin-hadoop3.2.tgz\n",
        "!tar xzf spark-3.1.2-bin-hadoop3.2.tgz\n",
        "!pip install -q findspark\n",
        "\n",
        "\n",
        "import os\n",
        "os.environ[\"JAVA_HOME\"] = \"/usr/lib/jvm/java-8-openjdk-amd64\"\n",
        "os.environ[\"SPARK_HOME\"] = \"/content/spark-3.1.2-bin-hadoop3.2\"\n",
        "\n",
        "\n",
        "import findspark\n",
        "findspark.init()\n",
        "from pyspark.sql import SparkSession\n",
        "spark = SparkSession.builder.master(\"local[*]\").getOrCreate()"
      ],
      "execution_count": null,
      "outputs": []
    },
    {
      "cell_type": "code",
      "metadata": {
        "id": "FdCdt1XO3D3b"
      },
      "source": [
        "#from pyspark import SparkFiles\n",
        "#spark.sparkContext.addFile('https://raw.githubusercontent.com/erwindrarusli/machine-learning-linear-regression/master/Ecommerce%20Customers')\n",
        "#df = spark.read.options(inferSchema='True', header='True').csv(SparkFiles.get('Ecommerce Customers'))\n",
        "df = spark.read.format('libsvm').load('/content/drive/MyDrive/Colab Notebooks/sample_libsvm_data.txt')"
      ],
      "execution_count": null,
      "outputs": []
    },
    {
      "cell_type": "code",
      "metadata": {
        "colab": {
          "base_uri": "https://localhost:8080/"
        },
        "id": "PQWxjSxNiW-y",
        "outputId": "bbb39c04-54d2-494a-c3fe-247d39227b43"
      },
      "source": [
        "df.printSchema()"
      ],
      "execution_count": null,
      "outputs": [
        {
          "output_type": "stream",
          "name": "stdout",
          "text": [
            "root\n",
            " |-- label: double (nullable = true)\n",
            " |-- features: vector (nullable = true)\n",
            "\n"
          ]
        }
      ]
    },
    {
      "cell_type": "code",
      "metadata": {
        "colab": {
          "base_uri": "https://localhost:8080/",
          "height": 206
        },
        "id": "HTQifOzD3TNt",
        "outputId": "c41b846c-6544-456c-c8c2-02a0a23c96b7"
      },
      "source": [
        "df.describe().toPandas()"
      ],
      "execution_count": null,
      "outputs": [
        {
          "output_type": "execute_result",
          "data": {
            "text/html": [
              "<div>\n",
              "<style scoped>\n",
              "    .dataframe tbody tr th:only-of-type {\n",
              "        vertical-align: middle;\n",
              "    }\n",
              "\n",
              "    .dataframe tbody tr th {\n",
              "        vertical-align: top;\n",
              "    }\n",
              "\n",
              "    .dataframe thead th {\n",
              "        text-align: right;\n",
              "    }\n",
              "</style>\n",
              "<table border=\"1\" class=\"dataframe\">\n",
              "  <thead>\n",
              "    <tr style=\"text-align: right;\">\n",
              "      <th></th>\n",
              "      <th>summary</th>\n",
              "      <th>label</th>\n",
              "    </tr>\n",
              "  </thead>\n",
              "  <tbody>\n",
              "    <tr>\n",
              "      <th>0</th>\n",
              "      <td>count</td>\n",
              "      <td>100</td>\n",
              "    </tr>\n",
              "    <tr>\n",
              "      <th>1</th>\n",
              "      <td>mean</td>\n",
              "      <td>0.57</td>\n",
              "    </tr>\n",
              "    <tr>\n",
              "      <th>2</th>\n",
              "      <td>stddev</td>\n",
              "      <td>0.49756985195624287</td>\n",
              "    </tr>\n",
              "    <tr>\n",
              "      <th>3</th>\n",
              "      <td>min</td>\n",
              "      <td>0.0</td>\n",
              "    </tr>\n",
              "    <tr>\n",
              "      <th>4</th>\n",
              "      <td>max</td>\n",
              "      <td>1.0</td>\n",
              "    </tr>\n",
              "  </tbody>\n",
              "</table>\n",
              "</div>"
            ],
            "text/plain": [
              "  summary                label\n",
              "0   count                  100\n",
              "1    mean                 0.57\n",
              "2  stddev  0.49756985195624287\n",
              "3     min                  0.0\n",
              "4     max                  1.0"
            ]
          },
          "metadata": {},
          "execution_count": 4
        }
      ]
    },
    {
      "cell_type": "code",
      "metadata": {
        "id": "Nqo513T6vGEy"
      },
      "source": [
        "from pyspark.ml.classification import LogisticRegression\n",
        "lr = LogisticRegression()\n",
        "\n",
        "# Fit the model\n",
        "lrModel = lr.fit(df)\n",
        "trainingSummary = lrModel.summary"
      ],
      "execution_count": null,
      "outputs": []
    },
    {
      "cell_type": "code",
      "metadata": {
        "id": "V1SlBrtrjBDf",
        "colab": {
          "base_uri": "https://localhost:8080/"
        },
        "outputId": "80a4c1fb-780b-4e5c-b45b-ac742a9df147"
      },
      "source": [
        "trainingSummary.predictions.show()"
      ],
      "execution_count": null,
      "outputs": [
        {
          "output_type": "stream",
          "name": "stdout",
          "text": [
            "+-----+--------------------+--------------------+--------------------+----------+\n",
            "|label|            features|       rawPrediction|         probability|prediction|\n",
            "+-----+--------------------+--------------------+--------------------+----------+\n",
            "|  0.0|(692,[127,128,129...|[19.8534775947478...|[0.99999999761359...|       0.0|\n",
            "|  1.0|(692,[158,159,160...|[-20.377398194908...|[1.41321555111048...|       1.0|\n",
            "|  1.0|(692,[124,125,126...|[-27.401459284891...|[1.25804865126974...|       1.0|\n",
            "|  1.0|(692,[152,153,154...|[-18.862741612668...|[6.42710509170280...|       1.0|\n",
            "|  1.0|(692,[151,152,153...|[-20.483011833009...|[1.27157209200599...|       1.0|\n",
            "|  0.0|(692,[129,130,131...|[19.8506078990277...|[0.99999999760673...|       0.0|\n",
            "|  1.0|(692,[158,159,160...|[-20.337256674833...|[1.47109814695573...|       1.0|\n",
            "|  1.0|(692,[99,100,101,...|[-19.595579753418...|[3.08850168102630...|       1.0|\n",
            "|  0.0|(692,[154,155,156...|[19.2708803215613...|[0.99999999572670...|       0.0|\n",
            "|  0.0|(692,[127,128,129...|[23.6202328360423...|[0.99999999994480...|       0.0|\n",
            "|  1.0|(692,[154,155,156...|[-24.385235147661...|[2.56818872776492...|       1.0|\n",
            "|  0.0|(692,[153,154,155...|[26.3082522490179...|[0.99999999999624...|       0.0|\n",
            "|  0.0|(692,[151,152,153...|[25.8329060318703...|[0.99999999999396...|       0.0|\n",
            "|  1.0|(692,[129,130,131...|[-19.794609139086...|[2.53110684529565...|       1.0|\n",
            "|  0.0|(692,[154,155,156...|[21.0260440948067...|[0.99999999926123...|       0.0|\n",
            "|  1.0|(692,[150,151,152...|[-22.764979942873...|[1.29806018790933...|       1.0|\n",
            "|  0.0|(692,[124,125,126...|[21.5049307193955...|[0.99999999954235...|       0.0|\n",
            "|  0.0|(692,[152,153,154...|[31.9927184226421...|[0.99999999999998...|       0.0|\n",
            "|  1.0|(692,[97,98,99,12...|[-20.521067180414...|[1.22409115616499...|       1.0|\n",
            "|  1.0|(692,[124,125,126...|[-22.245377742755...|[2.18250475400319...|       1.0|\n",
            "+-----+--------------------+--------------------+--------------------+----------+\n",
            "only showing top 20 rows\n",
            "\n"
          ]
        }
      ]
    },
    {
      "cell_type": "code",
      "metadata": {
        "colab": {
          "base_uri": "https://localhost:8080/"
        },
        "id": "RP7LK8dW4rPO",
        "outputId": "14253ed2-54af-4fc2-9f9b-bec2b925ca9c"
      },
      "source": [
        "predictionAndLabels = lrModel.evaluate(df)\n",
        "predictionAndLabels.predictions.show()"
      ],
      "execution_count": null,
      "outputs": [
        {
          "output_type": "stream",
          "name": "stdout",
          "text": [
            "+-----+--------------------+--------------------+--------------------+----------+\n",
            "|label|            features|       rawPrediction|         probability|prediction|\n",
            "+-----+--------------------+--------------------+--------------------+----------+\n",
            "|  0.0|(692,[127,128,129...|[19.8534775947478...|[0.99999999761359...|       0.0|\n",
            "|  1.0|(692,[158,159,160...|[-20.377398194908...|[1.41321555111048...|       1.0|\n",
            "|  1.0|(692,[124,125,126...|[-27.401459284891...|[1.25804865126974...|       1.0|\n",
            "|  1.0|(692,[152,153,154...|[-18.862741612668...|[6.42710509170280...|       1.0|\n",
            "|  1.0|(692,[151,152,153...|[-20.483011833009...|[1.27157209200599...|       1.0|\n",
            "|  0.0|(692,[129,130,131...|[19.8506078990277...|[0.99999999760673...|       0.0|\n",
            "|  1.0|(692,[158,159,160...|[-20.337256674833...|[1.47109814695573...|       1.0|\n",
            "|  1.0|(692,[99,100,101,...|[-19.595579753418...|[3.08850168102630...|       1.0|\n",
            "|  0.0|(692,[154,155,156...|[19.2708803215613...|[0.99999999572670...|       0.0|\n",
            "|  0.0|(692,[127,128,129...|[23.6202328360423...|[0.99999999994480...|       0.0|\n",
            "|  1.0|(692,[154,155,156...|[-24.385235147661...|[2.56818872776492...|       1.0|\n",
            "|  0.0|(692,[153,154,155...|[26.3082522490179...|[0.99999999999624...|       0.0|\n",
            "|  0.0|(692,[151,152,153...|[25.8329060318703...|[0.99999999999396...|       0.0|\n",
            "|  1.0|(692,[129,130,131...|[-19.794609139086...|[2.53110684529565...|       1.0|\n",
            "|  0.0|(692,[154,155,156...|[21.0260440948067...|[0.99999999926123...|       0.0|\n",
            "|  1.0|(692,[150,151,152...|[-22.764979942873...|[1.29806018790933...|       1.0|\n",
            "|  0.0|(692,[124,125,126...|[21.5049307193955...|[0.99999999954235...|       0.0|\n",
            "|  0.0|(692,[152,153,154...|[31.9927184226421...|[0.99999999999998...|       0.0|\n",
            "|  1.0|(692,[97,98,99,12...|[-20.521067180414...|[1.22409115616499...|       1.0|\n",
            "|  1.0|(692,[124,125,126...|[-22.245377742755...|[2.18250475400319...|       1.0|\n",
            "+-----+--------------------+--------------------+--------------------+----------+\n",
            "only showing top 20 rows\n",
            "\n"
          ]
        }
      ]
    },
    {
      "cell_type": "code",
      "metadata": {
        "id": "bMevNByVA5VM"
      },
      "source": [
        "predictionAndLabels = predictionAndLabels.predictions.select('label', 'prediction')"
      ],
      "execution_count": null,
      "outputs": []
    },
    {
      "cell_type": "code",
      "metadata": {
        "id": "x6Ap1LX4jrls"
      },
      "source": [
        "from pyspark.ml.evaluation import BinaryClassificationEvaluator\n",
        "evaluator = BinaryClassificationEvaluator(rawPredictionCol='prediction', labelCol='label')\n",
        "acc = evaluator.evaluate(predictionAndLabels)\n"
      ],
      "execution_count": null,
      "outputs": []
    },
    {
      "cell_type": "code",
      "metadata": {
        "colab": {
          "base_uri": "https://localhost:8080/"
        },
        "id": "bxaOrhHY-Rlp",
        "outputId": "1074c3c0-f1bd-4284-c533-7025eb9e23c3"
      },
      "source": [
        "acc"
      ],
      "execution_count": null,
      "outputs": [
        {
          "output_type": "execute_result",
          "data": {
            "text/plain": [
              "1.0"
            ]
          },
          "metadata": {},
          "execution_count": 16
        }
      ]
    }
  ]
}
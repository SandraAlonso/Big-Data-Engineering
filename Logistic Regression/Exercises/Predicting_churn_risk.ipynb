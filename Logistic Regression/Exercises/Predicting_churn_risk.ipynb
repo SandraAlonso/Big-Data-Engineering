{
  "nbformat": 4,
  "nbformat_minor": 0,
  "metadata": {
    "colab": {
      "name": "Logistic_regression_Sandra_Alonso_Paz.ipynb",
      "provenance": []
    },
    "kernelspec": {
      "name": "python3",
      "display_name": "Python 3"
    },
    "language_info": {
      "name": "python"
    }
  },
  "cells": [
    {
      "cell_type": "code",
      "metadata": {
        "id": "hY-VH2jFAuZC"
      },
      "source": [
        "!apt-get install openjdk-8-jdk-headless -qq > /dev/null\n",
        "!wget -q https://mirrors.sonic.net/apache/spark/spark-3.1.2/spark-3.1.2-bin-hadoop3.2.tgz\n",
        "!tar xzf spark-3.1.2-bin-hadoop3.2.tgz\n",
        "!pip install -q findspark\n",
        "\n",
        "\n",
        "import os\n",
        "os.environ[\"JAVA_HOME\"] = \"/usr/lib/jvm/java-8-openjdk-amd64\"\n",
        "os.environ[\"SPARK_HOME\"] = \"/content/spark-3.1.2-bin-hadoop3.2\"\n",
        "\n",
        "\n",
        "import findspark\n",
        "findspark.init() #instanciar spark session. Es conveniente tener una unica sesion iniciada y actualizada (si existe la utiliza y si no la crea).\n",
        "from pyspark.sql import SparkSession\n",
        "spark = SparkSession.builder.master(\"local[*]\").getOrCreate() #usamos todos los procesadores locales: local[*]"
      ],
      "execution_count": 126,
      "outputs": []
    },
    {
      "cell_type": "code",
      "metadata": {
        "colab": {
          "base_uri": "https://localhost:8080/",
          "height": 216
        },
        "id": "mz39MTqBAwKc",
        "outputId": "5b8d442f-39ba-485e-e4f3-bdbe5240a4e8"
      },
      "source": [
        "spark"
      ],
      "execution_count": 127,
      "outputs": [
        {
          "output_type": "execute_result",
          "data": {
            "text/html": [
              "\n",
              "            <div>\n",
              "                <p><b>SparkSession - in-memory</b></p>\n",
              "                \n",
              "        <div>\n",
              "            <p><b>SparkContext</b></p>\n",
              "\n",
              "            <p><a href=\"http://d3c6bc6f8855:4040\">Spark UI</a></p>\n",
              "\n",
              "            <dl>\n",
              "              <dt>Version</dt>\n",
              "                <dd><code>v3.1.2</code></dd>\n",
              "              <dt>Master</dt>\n",
              "                <dd><code>local[*]</code></dd>\n",
              "              <dt>AppName</dt>\n",
              "                <dd><code>pyspark-shell</code></dd>\n",
              "            </dl>\n",
              "        </div>\n",
              "        \n",
              "            </div>\n",
              "        "
            ],
            "text/plain": [
              "<pyspark.sql.session.SparkSession at 0x7f96affa5190>"
            ]
          },
          "metadata": {},
          "execution_count": 127
        }
      ]
    },
    {
      "cell_type": "code",
      "metadata": {
        "id": "3Qm5vf0_Az-6"
      },
      "source": [
        "#Cargar el archivo\n",
        "data = spark.read.format(\"csv\").load(\"customer_churn.csv\", inferSchema=True, header=True)"
      ],
      "execution_count": 128,
      "outputs": []
    },
    {
      "cell_type": "code",
      "metadata": {
        "colab": {
          "base_uri": "https://localhost:8080/"
        },
        "id": "SSCyMdXZBoPg",
        "outputId": "882fa067-77ba-466b-a7b6-0aa0659c76cf"
      },
      "source": [
        "#Visualizar info\n",
        "data.show()\n",
        "data.columns"
      ],
      "execution_count": 129,
      "outputs": [
        {
          "output_type": "stream",
          "name": "stdout",
          "text": [
            "+-------------------+----+--------------+---------------+-----+---------+-------------------+--------------------+--------------------+-----+\n",
            "|              Names| Age|Total_Purchase|Account_Manager|Years|Num_Sites|       Onboard_date|            Location|             Company|Churn|\n",
            "+-------------------+----+--------------+---------------+-----+---------+-------------------+--------------------+--------------------+-----+\n",
            "|   Cameron Williams|42.0|       11066.8|              0| 7.22|      8.0|2013-08-30 07:00:40|10265 Elizabeth M...|          Harvey LLC|    1|\n",
            "|      Kevin Mueller|41.0|      11916.22|              0|  6.5|     11.0|2013-08-13 00:38:46|6157 Frank Garden...|          Wilson PLC|    1|\n",
            "|        Eric Lozano|38.0|      12884.75|              0| 6.67|     12.0|2016-06-29 06:20:07|1331 Keith Court ...|Miller, Johnson a...|    1|\n",
            "|      Phillip White|42.0|       8010.76|              0| 6.71|     10.0|2014-04-22 12:43:12|13120 Daniel Moun...|           Smith Inc|    1|\n",
            "|     Cynthia Norton|37.0|       9191.58|              0| 5.56|      9.0|2016-01-19 15:31:15|765 Tricia Row Ka...|          Love-Jones|    1|\n",
            "|   Jessica Williams|48.0|      10356.02|              0| 5.12|      8.0|2009-03-03 23:13:37|6187 Olson Mounta...|        Kelly-Warren|    1|\n",
            "|        Eric Butler|44.0|      11331.58|              1| 5.23|     11.0|2016-12-05 03:35:43|4846 Savannah Roa...|   Reynolds-Sheppard|    1|\n",
            "|      Zachary Walsh|32.0|       9885.12|              1| 6.92|      9.0|2006-03-09 14:50:20|25271 Roy Express...|          Singh-Cole|    1|\n",
            "|        Ashlee Carr|43.0|       14062.6|              1| 5.46|     11.0|2011-09-29 05:47:23|3725 Caroline Str...|           Lopez PLC|    1|\n",
            "|     Jennifer Lynch|40.0|       8066.94|              1| 7.11|     11.0|2006-03-28 15:42:45|363 Sandra Lodge ...|       Reed-Martinez|    1|\n",
            "|       Paula Harris|30.0|      11575.37|              1| 5.22|      8.0|2016-11-13 13:13:01|Unit 8120 Box 916...|Briggs, Lamb and ...|    1|\n",
            "|     Bruce Phillips|45.0|       8771.02|              1| 6.64|     11.0|2015-05-28 12:14:03|Unit 1895 Box 094...|    Figueroa-Maynard|    1|\n",
            "|       Craig Garner|45.0|       8988.67|              1| 4.84|     11.0|2011-02-16 08:10:47|897 Kelley Overpa...|     Abbott-Thompson|    1|\n",
            "|       Nicole Olson|40.0|       8283.32|              1|  5.1|     13.0|2012-11-22 05:35:03|11488 Weaver Cape...|Smith, Kim and Ma...|    1|\n",
            "|     Harold Griffin|41.0|       6569.87|              1|  4.3|     11.0|2015-03-28 02:13:44|1774 Peter Row Ap...|Snyder, Lee and M...|    1|\n",
            "|       James Wright|38.0|      10494.82|              1| 6.81|     12.0|2015-07-22 08:38:40|45408 David Path ...|      Sanders-Pierce|    1|\n",
            "|      Doris Wilkins|45.0|       8213.41|              1| 7.35|     11.0|2006-09-03 06:13:55|28216 Wright Moun...|Andrews, Adams an...|    1|\n",
            "|Katherine Carpenter|43.0|      11226.88|              0| 8.08|     12.0|2006-10-22 04:42:38|Unit 4948 Box 481...|Morgan, Phillips ...|    1|\n",
            "|     Lindsay Martin|53.0|       5515.09|              0| 6.85|      8.0|2015-10-07 00:27:10|69203 Crosby Divi...|      Villanueva LLC|    1|\n",
            "|        Kathy Curry|46.0|        8046.4|              1| 5.69|      8.0|2014-11-06 23:47:14|9569 Caldwell Cre...|Berry, Orr and Ca...|    1|\n",
            "+-------------------+----+--------------+---------------+-----+---------+-------------------+--------------------+--------------------+-----+\n",
            "only showing top 20 rows\n",
            "\n"
          ]
        },
        {
          "output_type": "execute_result",
          "data": {
            "text/plain": [
              "['Names',\n",
              " 'Age',\n",
              " 'Total_Purchase',\n",
              " 'Account_Manager',\n",
              " 'Years',\n",
              " 'Num_Sites',\n",
              " 'Onboard_date',\n",
              " 'Location',\n",
              " 'Company',\n",
              " 'Churn']"
            ]
          },
          "metadata": {},
          "execution_count": 129
        }
      ]
    },
    {
      "cell_type": "code",
      "metadata": {
        "id": "i0Qh9Gv7BuWc"
      },
      "source": [
        "#Seleccionamos las columnas que nos interesan. Yo he cogido las más representativas (menos valores repetidos tienen y más relacion tienen con Churn)\n",
        "mycols = data.select(['Age', 'Total_Purchase', 'Account_Manager', 'Years', 'Num_Sites', 'Churn'])"
      ],
      "execution_count": 132,
      "outputs": []
    },
    {
      "cell_type": "code",
      "metadata": {
        "id": "EYVrFgWQTRbm"
      },
      "source": [
        "#Eliminamos los null de las columnas y creamos el set de datos final\n",
        "final_data = mycols.na.drop()"
      ],
      "execution_count": 133,
      "outputs": []
    },
    {
      "cell_type": "code",
      "metadata": {
        "colab": {
          "base_uri": "https://localhost:8080/"
        },
        "id": "S7MS_DxWCVIf",
        "outputId": "d689c7d4-b4ac-4990-d37a-d794a64f4db7"
      },
      "source": [
        "final_data.show()"
      ],
      "execution_count": 134,
      "outputs": [
        {
          "output_type": "stream",
          "name": "stdout",
          "text": [
            "+----+--------------+---------------+-----+---------+-----+\n",
            "| Age|Total_Purchase|Account_Manager|Years|Num_Sites|Churn|\n",
            "+----+--------------+---------------+-----+---------+-----+\n",
            "|42.0|       11066.8|              0| 7.22|      8.0|    1|\n",
            "|41.0|      11916.22|              0|  6.5|     11.0|    1|\n",
            "|38.0|      12884.75|              0| 6.67|     12.0|    1|\n",
            "|42.0|       8010.76|              0| 6.71|     10.0|    1|\n",
            "|37.0|       9191.58|              0| 5.56|      9.0|    1|\n",
            "|48.0|      10356.02|              0| 5.12|      8.0|    1|\n",
            "|44.0|      11331.58|              1| 5.23|     11.0|    1|\n",
            "|32.0|       9885.12|              1| 6.92|      9.0|    1|\n",
            "|43.0|       14062.6|              1| 5.46|     11.0|    1|\n",
            "|40.0|       8066.94|              1| 7.11|     11.0|    1|\n",
            "|30.0|      11575.37|              1| 5.22|      8.0|    1|\n",
            "|45.0|       8771.02|              1| 6.64|     11.0|    1|\n",
            "|45.0|       8988.67|              1| 4.84|     11.0|    1|\n",
            "|40.0|       8283.32|              1|  5.1|     13.0|    1|\n",
            "|41.0|       6569.87|              1|  4.3|     11.0|    1|\n",
            "|38.0|      10494.82|              1| 6.81|     12.0|    1|\n",
            "|45.0|       8213.41|              1| 7.35|     11.0|    1|\n",
            "|43.0|      11226.88|              0| 8.08|     12.0|    1|\n",
            "|53.0|       5515.09|              0| 6.85|      8.0|    1|\n",
            "|46.0|        8046.4|              1| 5.69|      8.0|    1|\n",
            "+----+--------------+---------------+-----+---------+-----+\n",
            "only showing top 20 rows\n",
            "\n"
          ]
        }
      ]
    },
    {
      "cell_type": "code",
      "metadata": {
        "id": "PgFTuEKhCnHi"
      },
      "source": [
        "#Creamos el vectorAsembler con las columnas input (ya sin null) y la columna output que hemos llamado features\n",
        "assembler = VectorAssembler(inputCols=['Age', 'Total_Purchase', 'Account_Manager', 'Years', 'Num_Sites'], outputCol='features')"
      ],
      "execution_count": 135,
      "outputs": []
    },
    {
      "cell_type": "code",
      "metadata": {
        "id": "VZXNVdz5HC3C"
      },
      "source": [
        "#Dividimos el conjunto de datos en dos, el primero para entrenar (70%) y el segundo para test (30%)\n",
        "train_data, test_data = final_data.randomSplit([0.7, 0.3])"
      ],
      "execution_count": 136,
      "outputs": []
    },
    {
      "cell_type": "code",
      "metadata": {
        "colab": {
          "base_uri": "https://localhost:8080/"
        },
        "id": "IXNsFBcmHn7p",
        "outputId": "f1fdf7b6-2b50-4aee-a9c4-1bd38c2dc3e5"
      },
      "source": [
        "#Mostrar los conjuntos de datos\n",
        "train_data.describe().show()\n",
        "test_data.describe().show()"
      ],
      "execution_count": 137,
      "outputs": [
        {
          "output_type": "stream",
          "name": "stdout",
          "text": [
            "+-------+------------------+------------------+-------------------+------------------+-----------------+-------------------+\n",
            "|summary|               Age|    Total_Purchase|    Account_Manager|             Years|        Num_Sites|              Churn|\n",
            "+-------+------------------+------------------+-------------------+------------------+-----------------+-------------------+\n",
            "|  count|               630|               630|                630|               630|              630|                630|\n",
            "|   mean|41.768253968253966|10155.915571428563|0.46825396825396826| 5.272158730158733| 8.56031746031746|0.16031746031746033|\n",
            "| stddev| 6.227045616141639| 2442.134139545334|0.49938766855589345|1.2697427002523671|1.805841051210868| 0.3671917588549127|\n",
            "|    min|              22.0|             100.0|                  0|              1.62|              3.0|                  0|\n",
            "|    max|              65.0|          18026.01|                  1|              8.97|             14.0|                  1|\n",
            "+-------+------------------+------------------+-------------------+------------------+-----------------+-------------------+\n",
            "\n",
            "+-------+-----------------+-----------------+------------------+------------------+------------------+-------------------+\n",
            "|summary|              Age|   Total_Purchase|   Account_Manager|             Years|         Num_Sites|              Churn|\n",
            "+-------+-----------------+-----------------+------------------+------------------+------------------+-------------------+\n",
            "|  count|              270|              270|               270|               270|               270|                270|\n",
            "|   mean|41.92962962962963|9845.610444444445|0.5111111111111111| 5.275481481481481| 8.651851851851852| 0.1814814814814815|\n",
            "| stddev|5.898668163888258|  2318.5395857516|0.5008048045820258|1.2877300385065753|1.6667244930075733|0.38613232032655737|\n",
            "|    min|             29.0|          4523.91|                 0|               1.0|               4.0|                  0|\n",
            "|    max|             58.0|         16838.94|                 1|              9.15|              13.0|                  1|\n",
            "+-------+-----------------+-----------------+------------------+------------------+------------------+-------------------+\n",
            "\n"
          ]
        }
      ]
    },
    {
      "cell_type": "code",
      "metadata": {
        "id": "5Rhy6jCjHFlx"
      },
      "source": [
        "#Creamos la LogisticRegresion con la columna features (conjunto de todas las columnas representativas) y la columna Churn (variable dependiente)\n",
        "from pyspark.ml.classification import LogisticRegression\n",
        "lr = LogisticRegression(featuresCol='features', labelCol='Churn')"
      ],
      "execution_count": 138,
      "outputs": []
    },
    {
      "cell_type": "code",
      "metadata": {
        "id": "aEUasqR4JMij"
      },
      "source": [
        "from pyspark.ml import Pipeline\n",
        "pipeline = Pipeline(stages=[assembler, lr])"
      ],
      "execution_count": 139,
      "outputs": []
    },
    {
      "cell_type": "code",
      "metadata": {
        "id": "XwPvDFY_H9_W"
      },
      "source": [
        "#Mediante la función fit se crea el model a partir del dataFrame de entrenamiento\n",
        "model = pipeline.fit(train_data)"
      ],
      "execution_count": 140,
      "outputs": []
    },
    {
      "cell_type": "code",
      "metadata": {
        "colab": {
          "base_uri": "https://localhost:8080/"
        },
        "id": "igD3v_eOMOfj",
        "outputId": "ba8e79a0-13a6-474f-ab13-b361d198ae4c"
      },
      "source": [
        "#Hacemos la prediccion y la mostramos\n",
        "predictions = model.transform(test_data)\n",
        "predictions.select('Churn', 'prediction').show()"
      ],
      "execution_count": 141,
      "outputs": [
        {
          "output_type": "stream",
          "name": "stdout",
          "text": [
            "+-----+----------+\n",
            "|Churn|prediction|\n",
            "+-----+----------+\n",
            "|    0|       0.0|\n",
            "|    0|       0.0|\n",
            "|    0|       0.0|\n",
            "|    1|       0.0|\n",
            "|    1|       0.0|\n",
            "|    0|       0.0|\n",
            "|    0|       0.0|\n",
            "|    0|       0.0|\n",
            "|    1|       0.0|\n",
            "|    0|       0.0|\n",
            "|    0|       0.0|\n",
            "|    1|       0.0|\n",
            "|    0|       1.0|\n",
            "|    0|       0.0|\n",
            "|    1|       0.0|\n",
            "|    0|       0.0|\n",
            "|    0|       0.0|\n",
            "|    0|       0.0|\n",
            "|    0|       0.0|\n",
            "|    0|       0.0|\n",
            "+-----+----------+\n",
            "only showing top 20 rows\n",
            "\n"
          ]
        }
      ]
    },
    {
      "cell_type": "code",
      "metadata": {
        "id": "ukt6aqNMMWkE"
      },
      "source": [
        "#Evaluacion mediante BinaryClassificationEvaluator\n",
        "evaluator = BinaryClassificationEvaluator(rawPredictionCol='prediction', labelCol='Churn')"
      ],
      "execution_count": 142,
      "outputs": []
    },
    {
      "cell_type": "code",
      "metadata": {
        "id": "v5X7bqAgM6aN"
      },
      "source": [
        "#acc es el porcentaje de elementos que estarán por debajo de la curva\n",
        "acc = evaluator.evaluate(predictions)"
      ],
      "execution_count": 143,
      "outputs": []
    },
    {
      "cell_type": "code",
      "metadata": {
        "colab": {
          "base_uri": "https://localhost:8080/"
        },
        "id": "d91s12zOUfYA",
        "outputId": "8c7e494d-f07e-40e0-b8b5-6dfc8ae4338f"
      },
      "source": [
        "#Resultado de la logistic regression\n",
        "acc"
      ],
      "execution_count": 144,
      "outputs": [
        {
          "output_type": "execute_result",
          "data": {
            "text/plain": [
              "0.7267984116723614"
            ]
          },
          "metadata": {},
          "execution_count": 144
        }
      ]
    }
  ]
}
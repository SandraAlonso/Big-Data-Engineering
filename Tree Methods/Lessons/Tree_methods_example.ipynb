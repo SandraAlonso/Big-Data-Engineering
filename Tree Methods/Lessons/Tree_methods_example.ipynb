{
  "nbformat": 4,
  "nbformat_minor": 0,
  "metadata": {
    "colab": {
      "name": "BDE2021 - 10. Tree methods - example.ipynb",
      "provenance": [],
      "collapsed_sections": []
    },
    "kernelspec": {
      "name": "python3",
      "display_name": "Python 3"
    },
    "language_info": {
      "name": "python"
    }
  },
  "cells": [
    {
      "cell_type": "code",
      "metadata": {
        "id": "qyWjqitA2ie8"
      },
      "source": [
        "!apt-get install openjdk-8-jdk-headless -qq > /dev/null\n",
        "!wget -q https://mirrors.sonic.net/apache/spark/spark-3.1.2/spark-3.1.2-bin-hadoop3.2.tgz\n",
        "!tar xzf spark-3.1.2-bin-hadoop3.2.tgz\n",
        "!pip install -q findspark\n",
        "\n",
        "\n",
        "import os\n",
        "os.environ[\"JAVA_HOME\"] = \"/usr/lib/jvm/java-8-openjdk-amd64\"\n",
        "os.environ[\"SPARK_HOME\"] = \"/content/spark-3.1.2-bin-hadoop3.2\"\n",
        "\n",
        "\n",
        "import findspark\n",
        "findspark.init()\n",
        "from pyspark.sql import SparkSession\n",
        "spark = SparkSession.builder.master(\"local[*]\").getOrCreate()"
      ],
      "execution_count": null,
      "outputs": []
    },
    {
      "cell_type": "code",
      "metadata": {
        "id": "XDEJB5mP2jkD"
      },
      "source": [
        "from pyspark.ml.classification import (RandomForestClassifier, GBTClassifier,\n",
        "                                       DecisionTreeClassifier)"
      ],
      "execution_count": null,
      "outputs": []
    },
    {
      "cell_type": "code",
      "metadata": {
        "id": "FdCdt1XO3D3b"
      },
      "source": [
        "df = spark.read.format('libsvm').load('/content/drive/MyDrive/Colab Notebooks/Trees/sample_libsvm_data.txt')"
      ],
      "execution_count": null,
      "outputs": []
    },
    {
      "cell_type": "code",
      "metadata": {
        "id": "G8kjF0QJEVd_",
        "colab": {
          "base_uri": "https://localhost:8080/"
        },
        "outputId": "7017d06a-4068-4cf3-dd5d-d2ccdf4573b3"
      },
      "source": [
        "df.printSchema()"
      ],
      "execution_count": null,
      "outputs": [
        {
          "output_type": "stream",
          "name": "stdout",
          "text": [
            "root\n",
            " |-- label: double (nullable = true)\n",
            " |-- features: vector (nullable = true)\n",
            "\n"
          ]
        }
      ]
    },
    {
      "cell_type": "code",
      "metadata": {
        "colab": {
          "base_uri": "https://localhost:8080/"
        },
        "id": "Syd8X5lcE5r6",
        "outputId": "910c437c-e7ef-4014-d7b0-8da66c79e11e"
      },
      "source": [
        "df.show()"
      ],
      "execution_count": null,
      "outputs": [
        {
          "output_type": "stream",
          "name": "stdout",
          "text": [
            "+-----+--------------------+\n",
            "|label|            features|\n",
            "+-----+--------------------+\n",
            "|  0.0|(692,[127,128,129...|\n",
            "|  1.0|(692,[158,159,160...|\n",
            "|  1.0|(692,[124,125,126...|\n",
            "|  1.0|(692,[152,153,154...|\n",
            "|  1.0|(692,[151,152,153...|\n",
            "|  0.0|(692,[129,130,131...|\n",
            "|  1.0|(692,[158,159,160...|\n",
            "|  1.0|(692,[99,100,101,...|\n",
            "|  0.0|(692,[154,155,156...|\n",
            "|  0.0|(692,[127,128,129...|\n",
            "|  1.0|(692,[154,155,156...|\n",
            "|  0.0|(692,[153,154,155...|\n",
            "|  0.0|(692,[151,152,153...|\n",
            "|  1.0|(692,[129,130,131...|\n",
            "|  0.0|(692,[154,155,156...|\n",
            "|  1.0|(692,[150,151,152...|\n",
            "|  0.0|(692,[124,125,126...|\n",
            "|  0.0|(692,[152,153,154...|\n",
            "|  1.0|(692,[97,98,99,12...|\n",
            "|  1.0|(692,[124,125,126...|\n",
            "+-----+--------------------+\n",
            "only showing top 20 rows\n",
            "\n"
          ]
        }
      ]
    },
    {
      "cell_type": "code",
      "metadata": {
        "id": "vDi4OnMxvXxu"
      },
      "source": [
        "train, test = df.randomSplit([0.7, 0.3])"
      ],
      "execution_count": null,
      "outputs": []
    },
    {
      "cell_type": "code",
      "metadata": {
        "id": "GJLoelnE25cU"
      },
      "source": [
        "dtc = DecisionTreeClassifier()\n",
        "rfc = RandomForestClassifier(numTrees = 100)\n",
        "gbt = GBTClassifier()"
      ],
      "execution_count": null,
      "outputs": []
    },
    {
      "cell_type": "code",
      "metadata": {
        "id": "Mfz_9BEKFLEc"
      },
      "source": [
        "dtc_model = dtc.fit(train)\n",
        "rfc_model = rfc.fit(train)\n",
        "gbt_model = gbt.fit(train)"
      ],
      "execution_count": null,
      "outputs": []
    },
    {
      "cell_type": "code",
      "metadata": {
        "id": "ziIax-VcGNDV"
      },
      "source": [
        "dtc_preds = dtc_model.transform(test)\n",
        "rfc_preds = rfc_model.transform(test)\n",
        "gbt_preds = gbt_model.transform(test)"
      ],
      "execution_count": null,
      "outputs": []
    },
    {
      "cell_type": "code",
      "metadata": {
        "id": "Nqo513T6vGEy",
        "colab": {
          "base_uri": "https://localhost:8080/"
        },
        "outputId": "2e3e2c48-89f4-4040-90f7-f6514dce619b"
      },
      "source": [
        "dtc_preds.show()"
      ],
      "execution_count": null,
      "outputs": [
        {
          "output_type": "stream",
          "name": "stdout",
          "text": [
            "+-----+--------------------+-------------+-----------+----------+\n",
            "|label|            features|rawPrediction|probability|prediction|\n",
            "+-----+--------------------+-------------+-----------+----------+\n",
            "|  0.0|(692,[95,96,97,12...|   [30.0,0.0]|  [1.0,0.0]|       0.0|\n",
            "|  0.0|(692,[121,122,123...|   [30.0,0.0]|  [1.0,0.0]|       0.0|\n",
            "|  0.0|(692,[123,124,125...|   [30.0,0.0]|  [1.0,0.0]|       0.0|\n",
            "|  0.0|(692,[124,125,126...|   [30.0,0.0]|  [1.0,0.0]|       0.0|\n",
            "|  0.0|(692,[124,125,126...|   [30.0,0.0]|  [1.0,0.0]|       0.0|\n",
            "|  0.0|(692,[124,125,126...|   [30.0,0.0]|  [1.0,0.0]|       0.0|\n",
            "|  0.0|(692,[126,127,128...|   [30.0,0.0]|  [1.0,0.0]|       0.0|\n",
            "|  0.0|(692,[126,127,128...|   [30.0,0.0]|  [1.0,0.0]|       0.0|\n",
            "|  0.0|(692,[153,154,155...|   [30.0,0.0]|  [1.0,0.0]|       0.0|\n",
            "|  0.0|(692,[154,155,156...|   [30.0,0.0]|  [1.0,0.0]|       0.0|\n",
            "|  0.0|(692,[154,155,156...|   [30.0,0.0]|  [1.0,0.0]|       0.0|\n",
            "|  0.0|(692,[155,156,180...|   [30.0,0.0]|  [1.0,0.0]|       0.0|\n",
            "|  0.0|(692,[234,235,237...|   [30.0,0.0]|  [1.0,0.0]|       0.0|\n",
            "|  1.0|(692,[99,100,101,...|   [30.0,0.0]|  [1.0,0.0]|       0.0|\n",
            "|  1.0|(692,[100,101,102...|   [0.0,35.0]|  [0.0,1.0]|       1.0|\n",
            "|  1.0|(692,[119,120,121...|   [0.0,35.0]|  [0.0,1.0]|       1.0|\n",
            "|  1.0|(692,[123,124,125...|   [0.0,35.0]|  [0.0,1.0]|       1.0|\n",
            "|  1.0|(692,[126,127,128...|   [0.0,35.0]|  [0.0,1.0]|       1.0|\n",
            "|  1.0|(692,[126,127,128...|   [0.0,35.0]|  [0.0,1.0]|       1.0|\n",
            "|  1.0|(692,[126,127,128...|   [0.0,35.0]|  [0.0,1.0]|       1.0|\n",
            "+-----+--------------------+-------------+-----------+----------+\n",
            "only showing top 20 rows\n",
            "\n"
          ]
        }
      ]
    },
    {
      "cell_type": "code",
      "metadata": {
        "id": "tFggKy04GtD6"
      },
      "source": [
        "from pyspark.ml.evaluation import MulticlassClassificationEvaluator\n",
        "evaluator = MulticlassClassificationEvaluator(metricName='accuracy')"
      ],
      "execution_count": null,
      "outputs": []
    },
    {
      "cell_type": "code",
      "metadata": {
        "id": "tF_-TDmmG8Ls",
        "colab": {
          "base_uri": "https://localhost:8080/"
        },
        "outputId": "ebf0542c-51b7-4d10-ab21-b3c42da408f0"
      },
      "source": [
        "print(f'DTC: {evaluator.evaluate(dtc_preds)}') \n",
        "print(f'RFC: {evaluator.evaluate(rfc_preds)}')\n",
        "print(f'GBT: {evaluator.evaluate(gbt_preds)}')"
      ],
      "execution_count": null,
      "outputs": [
        {
          "output_type": "stream",
          "name": "stdout",
          "text": [
            "DTC: 0.9714285714285714\n",
            "RFC: 0.9714285714285714\n",
            "GBT: 0.9714285714285714\n"
          ]
        }
      ]
    }
  ]
}
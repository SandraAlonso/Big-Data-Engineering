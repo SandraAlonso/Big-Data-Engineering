{
  "nbformat": 4,
  "nbformat_minor": 0,
  "metadata": {
    "colab": {
      "name": "BDE2021 - 2. Dataframes.ipynb",
      "provenance": []
    },
    "kernelspec": {
      "name": "python3",
      "display_name": "Python 3"
    },
    "language_info": {
      "name": "python"
    }
  },
  "cells": [
    {
      "cell_type": "code",
      "metadata": {
        "id": "8wnyf3Dk0oQq"
      },
      "source": [
        "!apt-get install openjdk-8-jdk-headless -qq > /dev/null\n",
        "!wget -q https://mirrors.sonic.net/apache/spark/spark-3.1.2/spark-3.1.2-bin-hadoop3.2.tgz\n",
        "!tar xzf spark-3.1.2-bin-hadoop3.2.tgz\n",
        "!pip install -q findspark\n",
        "\n",
        "\n",
        "import os\n",
        "os.environ[\"JAVA_HOME\"] = \"/usr/lib/jvm/java-8-openjdk-amd64\"\n",
        "os.environ[\"SPARK_HOME\"] = \"/content/spark-3.1.2-bin-hadoop3.2\"\n",
        "\n",
        "\n",
        "import findspark\n",
        "findspark.init()\n",
        "from pyspark.sql import SparkSession\n",
        "spark = SparkSession.builder.master(\"local[*]\").getOrCreate()"
      ],
      "execution_count": null,
      "outputs": []
    },
    {
      "cell_type": "code",
      "metadata": {
        "colab": {
          "base_uri": "https://localhost:8080/",
          "height": 222
        },
        "id": "61jQDqzk13b6",
        "outputId": "dc4b7c55-dd9d-4415-dfff-8cea3c5077c5"
      },
      "source": [
        "spark"
      ],
      "execution_count": null,
      "outputs": [
        {
          "output_type": "execute_result",
          "data": {
            "text/html": [
              "\n",
              "            <div>\n",
              "                <p><b>SparkSession - in-memory</b></p>\n",
              "                \n",
              "        <div>\n",
              "            <p><b>SparkContext</b></p>\n",
              "\n",
              "            <p><a href=\"http://3506d50fc0a6:4040\">Spark UI</a></p>\n",
              "\n",
              "            <dl>\n",
              "              <dt>Version</dt>\n",
              "                <dd><code>v3.1.2</code></dd>\n",
              "              <dt>Master</dt>\n",
              "                <dd><code>local[*]</code></dd>\n",
              "              <dt>AppName</dt>\n",
              "                <dd><code>pyspark-shell</code></dd>\n",
              "            </dl>\n",
              "        </div>\n",
              "        \n",
              "            </div>\n",
              "        "
            ],
            "text/plain": [
              "<pyspark.sql.session.SparkSession at 0x7fc91764bd90>"
            ]
          },
          "metadata": {},
          "execution_count": 2
        }
      ]
    },
    {
      "cell_type": "code",
      "metadata": {
        "id": "LMud_YNC2I-4"
      },
      "source": [
        "df = spark.read.parquet(\"drive/MyDrive/Colab Notebooks/ejemplo.parquet\")"
      ],
      "execution_count": null,
      "outputs": []
    },
    {
      "cell_type": "code",
      "metadata": {
        "colab": {
          "base_uri": "https://localhost:8080/",
          "height": 226
        },
        "id": "SIwB8I9g5Ory",
        "outputId": "4d17de05-d921-4c1b-c8dc-0317187b45be"
      },
      "source": [
        "df.describe().toPandas()"
      ],
      "execution_count": null,
      "outputs": [
        {
          "output_type": "execute_result",
          "data": {
            "text/html": [
              "<div>\n",
              "<style scoped>\n",
              "    .dataframe tbody tr th:only-of-type {\n",
              "        vertical-align: middle;\n",
              "    }\n",
              "\n",
              "    .dataframe tbody tr th {\n",
              "        vertical-align: top;\n",
              "    }\n",
              "\n",
              "    .dataframe thead th {\n",
              "        text-align: right;\n",
              "    }\n",
              "</style>\n",
              "<table border=\"1\" class=\"dataframe\">\n",
              "  <thead>\n",
              "    <tr style=\"text-align: right;\">\n",
              "      <th></th>\n",
              "      <th>summary</th>\n",
              "      <th>timeID</th>\n",
              "      <th>deviceID</th>\n",
              "      <th>ClientID</th>\n",
              "      <th>date</th>\n",
              "      <th>sensors</th>\n",
              "      <th>macaddress</th>\n",
              "      <th>timestamp</th>\n",
              "      <th>lostPackages</th>\n",
              "      <th>transferid</th>\n",
              "      <th>temperature</th>\n",
              "      <th>humidity</th>\n",
              "      <th>pressure</th>\n",
              "      <th>rssi</th>\n",
              "      <th>battery</th>\n",
              "      <th>battid</th>\n",
              "      <th>battime</th>\n",
              "    </tr>\n",
              "  </thead>\n",
              "  <tbody>\n",
              "    <tr>\n",
              "      <th>0</th>\n",
              "      <td>count</td>\n",
              "      <td>12960</td>\n",
              "      <td>12960</td>\n",
              "      <td>12960</td>\n",
              "      <td>12960</td>\n",
              "      <td>12960</td>\n",
              "      <td>12960</td>\n",
              "      <td>12960</td>\n",
              "      <td>12960</td>\n",
              "      <td>12960</td>\n",
              "      <td>12960</td>\n",
              "      <td>12960</td>\n",
              "      <td>12960</td>\n",
              "      <td>12960</td>\n",
              "      <td>12960</td>\n",
              "      <td>12960</td>\n",
              "      <td>12960</td>\n",
              "    </tr>\n",
              "    <tr>\n",
              "      <th>1</th>\n",
              "      <td>mean</td>\n",
              "      <td>None</td>\n",
              "      <td>None</td>\n",
              "      <td>None</td>\n",
              "      <td>None</td>\n",
              "      <td>92.0</td>\n",
              "      <td>None</td>\n",
              "      <td>1.6015538709233737E9</td>\n",
              "      <td>0.0</td>\n",
              "      <td>125.54969135802469</td>\n",
              "      <td>2173.533024691358</td>\n",
              "      <td>44.47091049382716</td>\n",
              "      <td>9509425.711111112</td>\n",
              "      <td>-54.885802469135804</td>\n",
              "      <td>2905.1457561728394</td>\n",
              "      <td>110.22445987654321</td>\n",
              "      <td>1.601481914506713E9</td>\n",
              "    </tr>\n",
              "    <tr>\n",
              "      <th>2</th>\n",
              "      <td>stddev</td>\n",
              "      <td>None</td>\n",
              "      <td>None</td>\n",
              "      <td>None</td>\n",
              "      <td>None</td>\n",
              "      <td>0.0</td>\n",
              "      <td>None</td>\n",
              "      <td>24941.957520820277</td>\n",
              "      <td>0.0</td>\n",
              "      <td>78.42305843142776</td>\n",
              "      <td>335.75949012408205</td>\n",
              "      <td>6.586593288428373</td>\n",
              "      <td>21137.794483612848</td>\n",
              "      <td>6.8812364478812365</td>\n",
              "      <td>88.72955972292038</td>\n",
              "      <td>3.1467937402000943</td>\n",
              "      <td>271386.6559376322</td>\n",
              "    </tr>\n",
              "    <tr>\n",
              "      <th>3</th>\n",
              "      <td>min</td>\n",
              "      <td>00:00</td>\n",
              "      <td>FB62FD5FCF937CE4</td>\n",
              "      <td>adamnavalcarnero</td>\n",
              "      <td>01/10/2020</td>\n",
              "      <td>92</td>\n",
              "      <td>c0636bd36671</td>\n",
              "      <td>1.60151097080094E9</td>\n",
              "      <td>0</td>\n",
              "      <td>0</td>\n",
              "      <td>1446</td>\n",
              "      <td>22</td>\n",
              "      <td>9442797</td>\n",
              "      <td>-76</td>\n",
              "      <td>2283</td>\n",
              "      <td>81</td>\n",
              "      <td>1598953146</td>\n",
              "    </tr>\n",
              "    <tr>\n",
              "      <th>4</th>\n",
              "      <td>max</td>\n",
              "      <td>23:50</td>\n",
              "      <td>FB62FD5FCF937CE4</td>\n",
              "      <td>adamnavalcarnero</td>\n",
              "      <td>02/10/2020</td>\n",
              "      <td>92</td>\n",
              "      <td>fee19f125bd3</td>\n",
              "      <td>1.60159677103228E9</td>\n",
              "      <td>0</td>\n",
              "      <td>255</td>\n",
              "      <td>3534</td>\n",
              "      <td>69</td>\n",
              "      <td>9557038</td>\n",
              "      <td>-34</td>\n",
              "      <td>2984</td>\n",
              "      <td>111</td>\n",
              "      <td>1601549966</td>\n",
              "    </tr>\n",
              "  </tbody>\n",
              "</table>\n",
              "</div>"
            ],
            "text/plain": [
              "  summary timeID  ...              battid              battime\n",
              "0   count  12960  ...               12960                12960\n",
              "1    mean   None  ...  110.22445987654321  1.601481914506713E9\n",
              "2  stddev   None  ...  3.1467937402000943    271386.6559376322\n",
              "3     min  00:00  ...                  81           1598953146\n",
              "4     max  23:50  ...                 111           1601549966\n",
              "\n",
              "[5 rows x 17 columns]"
            ]
          },
          "metadata": {},
          "execution_count": 9
        }
      ]
    },
    {
      "cell_type": "code",
      "metadata": {
        "colab": {
          "base_uri": "https://localhost:8080/"
        },
        "id": "uYWLNJvo5yzq",
        "outputId": "e7f5e8d7-1d84-4b0f-c196-4c1803632a8c"
      },
      "source": [
        "df.printSchema()"
      ],
      "execution_count": null,
      "outputs": [
        {
          "output_type": "stream",
          "name": "stdout",
          "text": [
            "root\n",
            " |-- timeID: string (nullable = true)\n",
            " |-- deviceID: string (nullable = true)\n",
            " |-- ClientID: string (nullable = true)\n",
            " |-- date: string (nullable = true)\n",
            " |-- sensors: long (nullable = true)\n",
            " |-- macaddress: string (nullable = true)\n",
            " |-- timestamp: double (nullable = true)\n",
            " |-- lostPackages: long (nullable = true)\n",
            " |-- transferid: long (nullable = true)\n",
            " |-- temperature: long (nullable = true)\n",
            " |-- humidity: long (nullable = true)\n",
            " |-- pressure: long (nullable = true)\n",
            " |-- rssi: long (nullable = true)\n",
            " |-- battery: long (nullable = true)\n",
            " |-- battid: long (nullable = true)\n",
            " |-- battime: long (nullable = true)\n",
            "\n"
          ]
        }
      ]
    },
    {
      "cell_type": "code",
      "metadata": {
        "colab": {
          "base_uri": "https://localhost:8080/"
        },
        "id": "DQKdXDAO7JJh",
        "outputId": "349fc2fe-a33c-4181-ac7a-1eafc9dbb573"
      },
      "source": [
        "df.groupBy(\"macaddress\").agg({\"temperature\":\"min\", \"humidity\": \"mean\"}).show()"
      ],
      "execution_count": null,
      "outputs": [
        {
          "output_type": "stream",
          "name": "stdout",
          "text": [
            "+------------+----------------+-----------------+\n",
            "|  macaddress|min(temperature)|    avg(humidity)|\n",
            "+------------+----------------+-----------------+\n",
            "|ce8fbc221d4f|            1683|49.05555555555556|\n",
            "|da0e4a7275a5|            2350|36.69444444444444|\n",
            "|ce57c6f3536a|            1821|46.84027777777778|\n",
            "|d610970128dd|            2254|38.72222222222222|\n",
            "|ce9ce9665b9b|            2116|          40.9375|\n",
            "|cd4a1eb4b77b|            1446|54.27777777777778|\n",
            "|fc45bd10fea1|            2207|39.80555555555556|\n",
            "|c60bcd36bdde|            1700|          48.3125|\n",
            "|d8a4615b5ac3|            2272|37.96527777777778|\n",
            "|f578e67b1bed|            1838|          48.1875|\n",
            "|d5a8c0f09911|            2332|36.27777777777778|\n",
            "|db66e53d550c|            2158|41.88194444444444|\n",
            "|f12ecbc4bb38|            2416|           36.875|\n",
            "|e7186ed3bd76|            2172|40.99305555555556|\n",
            "|c0c5b4353a4a|            1685|             51.0|\n",
            "|c69105d8406c|            2218|41.40972222222222|\n",
            "|ce084d0de0b2|            1877|46.56944444444444|\n",
            "|c71fc208d39c|            2045|          43.5625|\n",
            "|c8fbf22cc044|            1823|45.94444444444444|\n",
            "|e17e519790db|            1876|47.63194444444444|\n",
            "+------------+----------------+-----------------+\n",
            "only showing top 20 rows\n",
            "\n"
          ]
        }
      ]
    },
    {
      "cell_type": "code",
      "metadata": {
        "colab": {
          "base_uri": "https://localhost:8080/"
        },
        "id": "COQxmaWc8avK",
        "outputId": "762a6254-a792-4336-c7f1-1f6b6ebd2d6b"
      },
      "source": [
        "type (df.select([\"macaddress\", \"temperature\"]))"
      ],
      "execution_count": null,
      "outputs": [
        {
          "output_type": "execute_result",
          "data": {
            "text/plain": [
              "pyspark.sql.dataframe.DataFrame"
            ]
          },
          "metadata": {},
          "execution_count": 23
        }
      ]
    },
    {
      "cell_type": "code",
      "metadata": {
        "colab": {
          "base_uri": "https://localhost:8080/"
        },
        "id": "Dr09x8uJ9USX",
        "outputId": "f029e31c-e4f0-4218-cdce-ebadeb2beb92"
      },
      "source": [
        "type (df[\"macaddress\"])"
      ],
      "execution_count": null,
      "outputs": [
        {
          "output_type": "execute_result",
          "data": {
            "text/plain": [
              "pyspark.sql.column.Column"
            ]
          },
          "metadata": {},
          "execution_count": 26
        }
      ]
    },
    {
      "cell_type": "code",
      "metadata": {
        "colab": {
          "base_uri": "https://localhost:8080/"
        },
        "id": "xrNiwwDp9n2y",
        "outputId": "8e93ac56-ea85-47dc-9e81-774f20fdd2d4"
      },
      "source": [
        "df.head(2)"
      ],
      "execution_count": null,
      "outputs": [
        {
          "output_type": "execute_result",
          "data": {
            "text/plain": [
              "[Row(timeID='02:00', deviceID='FB62FD5FCF937CE4', ClientID='adamnavalcarnero', date='01/10/2020', sensors=92, macaddress='c0c5b4353a4a', timestamp=1601510970.80094, lostPackages=0, transferid=9, temperature=1685, humidity=51, pressure=9535634, rssi=-69, battery=2283, battid=81, battime=1598953146),\n",
              " Row(timeID='02:00', deviceID='FB62FD5FCF937CE4', ClientID='adamnavalcarnero', date='01/10/2020', sensors=92, macaddress='c57a8f9365b6', timestamp=1601510970.80094, lostPackages=0, transferid=113, temperature=1811, humidity=51, pressure=9530229, rssi=-66, battery=2913, battid=110, battime=1601456004)]"
            ]
          },
          "metadata": {},
          "execution_count": 27
        }
      ]
    },
    {
      "cell_type": "code",
      "metadata": {
        "id": "gfRyuA2B94s5"
      },
      "source": [
        "df2 = df.withColumn(\"realT\", df[\"temperature\"] / 100)"
      ],
      "execution_count": null,
      "outputs": []
    },
    {
      "cell_type": "code",
      "metadata": {
        "colab": {
          "base_uri": "https://localhost:8080/"
        },
        "id": "OPCmxnpP-zHs",
        "outputId": "6e7eb677-6832-44e7-a8b1-010f508dc436"
      },
      "source": [
        "df.groupBy(\"macaddress\").agg({\"temperature\":\"min\", \"humidity\": \"mean\"}).withColumnRenamed(\"min(temperature)\", \"temp\").show()"
      ],
      "execution_count": null,
      "outputs": [
        {
          "output_type": "stream",
          "name": "stdout",
          "text": [
            "+------------+----+-----------------+\n",
            "|  macaddress|temp|    avg(humidity)|\n",
            "+------------+----+-----------------+\n",
            "|ce8fbc221d4f|1683|49.05555555555556|\n",
            "|da0e4a7275a5|2350|36.69444444444444|\n",
            "|ce57c6f3536a|1821|46.84027777777778|\n",
            "|d610970128dd|2254|38.72222222222222|\n",
            "|ce9ce9665b9b|2116|          40.9375|\n",
            "|cd4a1eb4b77b|1446|54.27777777777778|\n",
            "|fc45bd10fea1|2207|39.80555555555556|\n",
            "|c60bcd36bdde|1700|          48.3125|\n",
            "|d8a4615b5ac3|2272|37.96527777777778|\n",
            "|f578e67b1bed|1838|          48.1875|\n",
            "|d5a8c0f09911|2332|36.27777777777778|\n",
            "|db66e53d550c|2158|41.88194444444444|\n",
            "|f12ecbc4bb38|2416|           36.875|\n",
            "|e7186ed3bd76|2172|40.99305555555556|\n",
            "|c0c5b4353a4a|1685|             51.0|\n",
            "|c69105d8406c|2218|41.40972222222222|\n",
            "|ce084d0de0b2|1877|46.56944444444444|\n",
            "|c71fc208d39c|2045|          43.5625|\n",
            "|c8fbf22cc044|1823|45.94444444444444|\n",
            "|e17e519790db|1876|47.63194444444444|\n",
            "+------------+----+-----------------+\n",
            "only showing top 20 rows\n",
            "\n"
          ]
        }
      ]
    },
    {
      "cell_type": "code",
      "metadata": {
        "id": "frXUbiw1_fAn"
      },
      "source": [
        "df.registerTempTable(\"datos\")"
      ],
      "execution_count": null,
      "outputs": []
    },
    {
      "cell_type": "code",
      "metadata": {
        "colab": {
          "base_uri": "https://localhost:8080/"
        },
        "id": "Hs4ezUGQ_oKs",
        "outputId": "e5f5a347-102f-4e9a-f8b3-c784d710c9b3"
      },
      "source": [
        "spark.sql(\"select temperature from datos where macaddress = 'ce8fbc221d4f'\").show()"
      ],
      "execution_count": null,
      "outputs": [
        {
          "output_type": "stream",
          "name": "stdout",
          "text": [
            "+-----------+\n",
            "|temperature|\n",
            "+-----------+\n",
            "|       1918|\n",
            "|       1903|\n",
            "|       1890|\n",
            "|       1881|\n",
            "|       1881|\n",
            "|       1876|\n",
            "|       1876|\n",
            "|       1876|\n",
            "|       1876|\n",
            "|       1843|\n",
            "|       1823|\n",
            "|       1823|\n",
            "|       1829|\n",
            "|       1829|\n",
            "|       1829|\n",
            "|       1829|\n",
            "|       1840|\n",
            "|       1840|\n",
            "|       1825|\n",
            "|       1820|\n",
            "+-----------+\n",
            "only showing top 20 rows\n",
            "\n"
          ]
        }
      ]
    },
    {
      "cell_type": "code",
      "metadata": {
        "colab": {
          "base_uri": "https://localhost:8080/"
        },
        "id": "TCfdafRPAv28",
        "outputId": "b81dce2d-e36c-4f13-cc36-c9ef1d8b2af2"
      },
      "source": [
        "df.filter(df[\"temperature\"] > 3000).show()"
      ],
      "execution_count": null,
      "outputs": [
        {
          "output_type": "stream",
          "name": "stdout",
          "text": [
            "+------+----------------+----------------+----------+-------+------------+-------------------+------------+----------+-----------+--------+--------+----+-------+------+----------+\n",
            "|timeID|        deviceID|        ClientID|      date|sensors|  macaddress|          timestamp|lostPackages|transferid|temperature|humidity|pressure|rssi|battery|battid|   battime|\n",
            "+------+----------------+----------------+----------+-------+------------+-------------------+------------+----------+-----------+--------+--------+----+-------+------+----------+\n",
            "| 02:00|FB62FD5FCF937CE4|adamnavalcarnero|01/10/2020|     92|dbf2efd3de50| 1.60151097080094E9|           0|        38|       3354|      24| 9545278| -45|   2950|   110|1601456385|\n",
            "| 02:00|FB62FD5FCF937CE4|adamnavalcarnero|01/10/2020|     92|ddac67f1b37f| 1.60151097080094E9|           0|       103|       3415|      22| 9536742| -66|   2984|   110|1601456471|\n",
            "| 02:10|FB62FD5FCF937CE4|adamnavalcarnero|01/10/2020|     92|dbf2efd3de50|1.601511570801781E9|           0|        39|       3361|      23| 9544667| -45|   2950|   110|1601456385|\n",
            "| 02:10|FB62FD5FCF937CE4|adamnavalcarnero|01/10/2020|     92|ddac67f1b37f|1.601511570801781E9|           0|       104|       3404|      22| 9536510| -66|   2984|   110|1601456471|\n",
            "| 02:20|FB62FD5FCF937CE4|adamnavalcarnero|01/10/2020|     92|dbf2efd3de50|1.601512170826107E9|           0|        40|       3350|      24| 9544108| -46|   2950|   110|1601456385|\n",
            "| 02:20|FB62FD5FCF937CE4|adamnavalcarnero|01/10/2020|     92|ddac67f1b37f|1.601512170826107E9|           0|       105|       3395|      22| 9535781| -67|   2984|   110|1601456471|\n",
            "| 02:30|FB62FD5FCF937CE4|adamnavalcarnero|01/10/2020|     92|dbf2efd3de50|1.601512770824192E9|           0|        41|       3336|      24| 9543610| -45|   2950|   110|1601456385|\n",
            "| 02:30|FB62FD5FCF937CE4|adamnavalcarnero|01/10/2020|     92|ddac67f1b37f|1.601512770824192E9|           0|       106|       3387|      22| 9535503| -66|   2984|   110|1601456471|\n",
            "| 02:40|FB62FD5FCF937CE4|adamnavalcarnero|01/10/2020|     92|ddac67f1b37f|1.601513370825027E9|           0|       106|       3387|      22| 9535503| -66|   2984|   110|1601456471|\n",
            "| 02:40|FB62FD5FCF937CE4|adamnavalcarnero|01/10/2020|     92|dbf2efd3de50|1.601513370825027E9|           0|        42|       3321|      24| 9543244| -46|   2950|   110|1601456385|\n",
            "| 02:50|FB62FD5FCF937CE4|adamnavalcarnero|01/10/2020|     92|dbf2efd3de50|1.601513970825863E9|           0|        43|       3326|      24| 9541728| -45|   2950|   110|1601456385|\n",
            "| 02:50|FB62FD5FCF937CE4|adamnavalcarnero|01/10/2020|     92|ddac67f1b37f|1.601513970825863E9|           0|       107|       3375|      23| 9533952| -66|   2984|   110|1601456471|\n",
            "| 03:00|FB62FD5FCF937CE4|adamnavalcarnero|01/10/2020|     92|ddac67f1b37f|1.601514570826743E9|           0|       107|       3375|      23| 9533952| -66|   2984|   110|1601456471|\n",
            "| 03:00|FB62FD5FCF937CE4|adamnavalcarnero|01/10/2020|     92|dbf2efd3de50|1.601514570826743E9|           0|        44|       3336|      24| 9541345| -45|   2950|   110|1601456385|\n",
            "| 03:10|FB62FD5FCF937CE4|adamnavalcarnero|01/10/2020|     92|dbf2efd3de50|1.601515170827569E9|           0|        44|       3336|      24| 9541345| -45|   2950|   110|1601456385|\n",
            "| 03:10|FB62FD5FCF937CE4|adamnavalcarnero|01/10/2020|     92|ddac67f1b37f|1.601515170827569E9|           0|       108|       3365|      23| 9531117| -66|   2984|   110|1601456471|\n",
            "| 03:20|FB62FD5FCF937CE4|adamnavalcarnero|01/10/2020|     92|dbf2efd3de50|1.601515770828427E9|           0|        44|       3336|      24| 9541345| -45|   2950|   110|1601456385|\n",
            "| 03:20|FB62FD5FCF937CE4|adamnavalcarnero|01/10/2020|     92|ddac67f1b37f|1.601515770828427E9|           0|       108|       3365|      23| 9531117| -66|   2984|   110|1601456471|\n",
            "| 03:30|FB62FD5FCF937CE4|adamnavalcarnero|01/10/2020|     92|dbf2efd3de50|1.601516370829257E9|           0|        45|       3313|      24| 9537968| -45|   2950|   110|1601456385|\n",
            "| 03:30|FB62FD5FCF937CE4|adamnavalcarnero|01/10/2020|     92|ddac67f1b37f|1.601516370829257E9|           0|       109|       3356|      23| 9529150| -66|   2984|   110|1601456471|\n",
            "+------+----------------+----------------+----------+-------+------------+-------------------+------------+----------+-----------+--------+--------+----+-------+------+----------+\n",
            "only showing top 20 rows\n",
            "\n"
          ]
        }
      ]
    },
    {
      "cell_type": "code",
      "metadata": {
        "colab": {
          "base_uri": "https://localhost:8080/"
        },
        "id": "RRc3ng-BBAXe",
        "outputId": "06ca7120-6e4a-405b-b896-1e599d27c323"
      },
      "source": [
        "spark.sql(\"select * from datos where temperature > 3000\").show()"
      ],
      "execution_count": null,
      "outputs": [
        {
          "output_type": "stream",
          "name": "stdout",
          "text": [
            "+------+----------------+----------------+----------+-------+------------+-------------------+------------+----------+-----------+--------+--------+----+-------+------+----------+\n",
            "|timeID|        deviceID|        ClientID|      date|sensors|  macaddress|          timestamp|lostPackages|transferid|temperature|humidity|pressure|rssi|battery|battid|   battime|\n",
            "+------+----------------+----------------+----------+-------+------------+-------------------+------------+----------+-----------+--------+--------+----+-------+------+----------+\n",
            "| 02:00|FB62FD5FCF937CE4|adamnavalcarnero|01/10/2020|     92|dbf2efd3de50| 1.60151097080094E9|           0|        38|       3354|      24| 9545278| -45|   2950|   110|1601456385|\n",
            "| 02:00|FB62FD5FCF937CE4|adamnavalcarnero|01/10/2020|     92|ddac67f1b37f| 1.60151097080094E9|           0|       103|       3415|      22| 9536742| -66|   2984|   110|1601456471|\n",
            "| 02:10|FB62FD5FCF937CE4|adamnavalcarnero|01/10/2020|     92|dbf2efd3de50|1.601511570801781E9|           0|        39|       3361|      23| 9544667| -45|   2950|   110|1601456385|\n",
            "| 02:10|FB62FD5FCF937CE4|adamnavalcarnero|01/10/2020|     92|ddac67f1b37f|1.601511570801781E9|           0|       104|       3404|      22| 9536510| -66|   2984|   110|1601456471|\n",
            "| 02:20|FB62FD5FCF937CE4|adamnavalcarnero|01/10/2020|     92|dbf2efd3de50|1.601512170826107E9|           0|        40|       3350|      24| 9544108| -46|   2950|   110|1601456385|\n",
            "| 02:20|FB62FD5FCF937CE4|adamnavalcarnero|01/10/2020|     92|ddac67f1b37f|1.601512170826107E9|           0|       105|       3395|      22| 9535781| -67|   2984|   110|1601456471|\n",
            "| 02:30|FB62FD5FCF937CE4|adamnavalcarnero|01/10/2020|     92|dbf2efd3de50|1.601512770824192E9|           0|        41|       3336|      24| 9543610| -45|   2950|   110|1601456385|\n",
            "| 02:30|FB62FD5FCF937CE4|adamnavalcarnero|01/10/2020|     92|ddac67f1b37f|1.601512770824192E9|           0|       106|       3387|      22| 9535503| -66|   2984|   110|1601456471|\n",
            "| 02:40|FB62FD5FCF937CE4|adamnavalcarnero|01/10/2020|     92|ddac67f1b37f|1.601513370825027E9|           0|       106|       3387|      22| 9535503| -66|   2984|   110|1601456471|\n",
            "| 02:40|FB62FD5FCF937CE4|adamnavalcarnero|01/10/2020|     92|dbf2efd3de50|1.601513370825027E9|           0|        42|       3321|      24| 9543244| -46|   2950|   110|1601456385|\n",
            "| 02:50|FB62FD5FCF937CE4|adamnavalcarnero|01/10/2020|     92|dbf2efd3de50|1.601513970825863E9|           0|        43|       3326|      24| 9541728| -45|   2950|   110|1601456385|\n",
            "| 02:50|FB62FD5FCF937CE4|adamnavalcarnero|01/10/2020|     92|ddac67f1b37f|1.601513970825863E9|           0|       107|       3375|      23| 9533952| -66|   2984|   110|1601456471|\n",
            "| 03:00|FB62FD5FCF937CE4|adamnavalcarnero|01/10/2020|     92|ddac67f1b37f|1.601514570826743E9|           0|       107|       3375|      23| 9533952| -66|   2984|   110|1601456471|\n",
            "| 03:00|FB62FD5FCF937CE4|adamnavalcarnero|01/10/2020|     92|dbf2efd3de50|1.601514570826743E9|           0|        44|       3336|      24| 9541345| -45|   2950|   110|1601456385|\n",
            "| 03:10|FB62FD5FCF937CE4|adamnavalcarnero|01/10/2020|     92|dbf2efd3de50|1.601515170827569E9|           0|        44|       3336|      24| 9541345| -45|   2950|   110|1601456385|\n",
            "| 03:10|FB62FD5FCF937CE4|adamnavalcarnero|01/10/2020|     92|ddac67f1b37f|1.601515170827569E9|           0|       108|       3365|      23| 9531117| -66|   2984|   110|1601456471|\n",
            "| 03:20|FB62FD5FCF937CE4|adamnavalcarnero|01/10/2020|     92|dbf2efd3de50|1.601515770828427E9|           0|        44|       3336|      24| 9541345| -45|   2950|   110|1601456385|\n",
            "| 03:20|FB62FD5FCF937CE4|adamnavalcarnero|01/10/2020|     92|ddac67f1b37f|1.601515770828427E9|           0|       108|       3365|      23| 9531117| -66|   2984|   110|1601456471|\n",
            "| 03:30|FB62FD5FCF937CE4|adamnavalcarnero|01/10/2020|     92|dbf2efd3de50|1.601516370829257E9|           0|        45|       3313|      24| 9537968| -45|   2950|   110|1601456385|\n",
            "| 03:30|FB62FD5FCF937CE4|adamnavalcarnero|01/10/2020|     92|ddac67f1b37f|1.601516370829257E9|           0|       109|       3356|      23| 9529150| -66|   2984|   110|1601456471|\n",
            "+------+----------------+----------------+----------+-------+------------+-------------------+------------+----------+-----------+--------+--------+----+-------+------+----------+\n",
            "only showing top 20 rows\n",
            "\n"
          ]
        }
      ]
    },
    {
      "cell_type": "code",
      "metadata": {
        "id": "hWzandVxCsJU"
      },
      "source": [
        "data = spark.read.options(header=True, inferSchema=True).csv(\"drive/MyDrive/Colab Notebooks/walmart_stock.csv\")"
      ],
      "execution_count": null,
      "outputs": []
    },
    {
      "cell_type": "code",
      "metadata": {
        "colab": {
          "base_uri": "https://localhost:8080/"
        },
        "id": "k67LcS54DAs4",
        "outputId": "60cd535a-2cdf-4dcb-c9ef-3222d0d1c9be"
      },
      "source": [
        "data.printSchema()"
      ],
      "execution_count": null,
      "outputs": [
        {
          "output_type": "stream",
          "name": "stdout",
          "text": [
            "root\n",
            " |-- Date: string (nullable = true)\n",
            " |-- Open: double (nullable = true)\n",
            " |-- High: double (nullable = true)\n",
            " |-- Low: double (nullable = true)\n",
            " |-- Close: double (nullable = true)\n",
            " |-- Volume: integer (nullable = true)\n",
            " |-- Adj Close: double (nullable = true)\n",
            "\n"
          ]
        }
      ]
    }
  ]
}
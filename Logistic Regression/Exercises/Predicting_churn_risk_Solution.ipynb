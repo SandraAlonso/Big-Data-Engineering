{
  "nbformat": 4,
  "nbformat_minor": 0,
  "metadata": {
    "colab": {
      "name": "BDE2021 - 9. Predicting churn risk.ipynb",
      "provenance": [],
      "collapsed_sections": []
    },
    "kernelspec": {
      "name": "python3",
      "display_name": "Python 3"
    },
    "language_info": {
      "name": "python"
    }
  },
  "cells": [
    {
      "cell_type": "code",
      "metadata": {
        "id": "qyWjqitA2ie8"
      },
      "source": [
        "!apt-get install openjdk-8-jdk-headless -qq > /dev/null\n",
        "!wget -q https://mirrors.sonic.net/apache/spark/spark-3.1.2/spark-3.1.2-bin-hadoop3.2.tgz\n",
        "!tar xzf spark-3.1.2-bin-hadoop3.2.tgz\n",
        "!pip install -q findspark\n",
        "\n",
        "\n",
        "import os\n",
        "os.environ[\"JAVA_HOME\"] = \"/usr/lib/jvm/java-8-openjdk-amd64\"\n",
        "os.environ[\"SPARK_HOME\"] = \"/content/spark-3.1.2-bin-hadoop3.2\"\n",
        "\n",
        "\n",
        "import findspark\n",
        "findspark.init()\n",
        "from pyspark.sql import SparkSession\n",
        "spark = SparkSession.builder.master(\"local[*]\").getOrCreate()"
      ],
      "execution_count": null,
      "outputs": []
    },
    {
      "cell_type": "code",
      "metadata": {
        "id": "FdCdt1XO3D3b"
      },
      "source": [
        "df = spark.read.format('csv').options(inferSchema='True',header='True').load('/content/drive/MyDrive/Colab Notebooks/Churn/customer_churn.csv')"
      ],
      "execution_count": null,
      "outputs": []
    },
    {
      "cell_type": "code",
      "metadata": {
        "id": "G8kjF0QJEVd_",
        "colab": {
          "base_uri": "https://localhost:8080/"
        },
        "outputId": "6453a3eb-0e66-4b25-e954-bfbd3636a649"
      },
      "source": [
        "df.printSchema()"
      ],
      "execution_count": null,
      "outputs": [
        {
          "output_type": "stream",
          "name": "stdout",
          "text": [
            "root\n",
            " |-- Names: string (nullable = true)\n",
            " |-- Age: double (nullable = true)\n",
            " |-- Total_Purchase: double (nullable = true)\n",
            " |-- Account_Manager: integer (nullable = true)\n",
            " |-- Years: double (nullable = true)\n",
            " |-- Num_Sites: double (nullable = true)\n",
            " |-- Onboard_date: string (nullable = true)\n",
            " |-- Location: string (nullable = true)\n",
            " |-- Company: string (nullable = true)\n",
            " |-- Churn: integer (nullable = true)\n",
            "\n"
          ]
        }
      ]
    },
    {
      "cell_type": "code",
      "metadata": {
        "colab": {
          "base_uri": "https://localhost:8080/"
        },
        "id": "2seOqtcHOuHy",
        "outputId": "b0fff0b1-fcfb-4821-fd79-003a124d915c"
      },
      "source": [
        "df.describe().show()"
      ],
      "execution_count": null,
      "outputs": [
        {
          "output_type": "stream",
          "name": "stdout",
          "text": [
            "+-------+-------------+-----------------+-----------------+------------------+-----------------+------------------+-------------------+--------------------+--------------------+-------------------+\n",
            "|summary|        Names|              Age|   Total_Purchase|   Account_Manager|            Years|         Num_Sites|       Onboard_date|            Location|             Company|              Churn|\n",
            "+-------+-------------+-----------------+-----------------+------------------+-----------------+------------------+-------------------+--------------------+--------------------+-------------------+\n",
            "|  count|          900|              900|              900|               900|              900|               900|                900|                 900|                 900|                900|\n",
            "|   mean|         null|41.81666666666667|10062.82403333334|0.4811111111111111| 5.27315555555555| 8.587777777777777|               null|                null|                null|0.16666666666666666|\n",
            "| stddev|         null|6.127560416916251|2408.644531858096|0.4999208935073339|1.274449013194616|1.7648355920350969|               null|                null|                null| 0.3728852122772358|\n",
            "|    min|   Aaron King|             22.0|            100.0|                 0|              1.0|               3.0|2006-01-02 04:16:13|00103 Jeffrey Cre...|     Abbott-Thompson|                  0|\n",
            "|    max|Zachary Walsh|             65.0|         18026.01|                 1|             9.15|              14.0|2016-12-28 04:07:38|Unit 9800 Box 287...|Zuniga, Clark and...|                  1|\n",
            "+-------+-------------+-----------------+-----------------+------------------+-----------------+------------------+-------------------+--------------------+--------------------+-------------------+\n",
            "\n"
          ]
        }
      ]
    },
    {
      "cell_type": "code",
      "metadata": {
        "colab": {
          "base_uri": "https://localhost:8080/"
        },
        "id": "Syd8X5lcE5r6",
        "outputId": "280d1270-1e32-47a3-a5db-55c826d7e39a"
      },
      "source": [
        "df.head(1)"
      ],
      "execution_count": null,
      "outputs": [
        {
          "output_type": "execute_result",
          "data": {
            "text/plain": [
              "[Row(Names='Cameron Williams', Age=42.0, Total_Purchase=11066.8, Account_Manager=0, Years=7.22, Num_Sites=8.0, Onboard_date='2013-08-30 07:00:40', Location='10265 Elizabeth Mission Barkerburgh, AK 89518', Company='Harvey LLC', Churn=1)]"
            ]
          },
          "metadata": {},
          "execution_count": 5
        }
      ]
    },
    {
      "cell_type": "code",
      "metadata": {
        "colab": {
          "base_uri": "https://localhost:8080/"
        },
        "id": "vDi4OnMxvXxu",
        "outputId": "a20c0210-7a9d-4eb9-f793-fe44395a5645"
      },
      "source": [
        "df.columns"
      ],
      "execution_count": null,
      "outputs": [
        {
          "output_type": "execute_result",
          "data": {
            "text/plain": [
              "['Names',\n",
              " 'Age',\n",
              " 'Total_Purchase',\n",
              " 'Account_Manager',\n",
              " 'Years',\n",
              " 'Num_Sites',\n",
              " 'Onboard_date',\n",
              " 'Location',\n",
              " 'Company',\n",
              " 'Churn']"
            ]
          },
          "metadata": {},
          "execution_count": 6
        }
      ]
    },
    {
      "cell_type": "code",
      "metadata": {
        "id": "Mfz_9BEKFLEc"
      },
      "source": [
        "from pyspark.ml.feature import VectorAssembler\n",
        "assembler = VectorAssembler(inputCols=['Age',\n",
        "                                       'Total_Purchase',\n",
        "                                       'Account_Manager',\n",
        "                                       'Years',\n",
        "                                       'Num_Sites'],\n",
        "                           outputCol='features')"
      ],
      "execution_count": null,
      "outputs": []
    },
    {
      "cell_type": "code",
      "metadata": {
        "id": "ziIax-VcGNDV"
      },
      "source": [
        "output = assembler.transform(df)"
      ],
      "execution_count": null,
      "outputs": []
    },
    {
      "cell_type": "code",
      "metadata": {
        "id": "Nqo513T6vGEy"
      },
      "source": [
        "final_data = output.select(['features','churn'])\n",
        "train,test = final_data.randomSplit([0.7, 0.3])"
      ],
      "execution_count": null,
      "outputs": []
    },
    {
      "cell_type": "code",
      "metadata": {
        "id": "tFggKy04GtD6",
        "colab": {
          "base_uri": "https://localhost:8080/"
        },
        "outputId": "f4e11311-446d-44c3-9f77-c254d399a9dc"
      },
      "source": [
        "train.describe().show()"
      ],
      "execution_count": null,
      "outputs": [
        {
          "output_type": "stream",
          "name": "stdout",
          "text": [
            "+-------+-------------------+\n",
            "|summary|              churn|\n",
            "+-------+-------------------+\n",
            "|  count|                618|\n",
            "|   mean|0.18608414239482202|\n",
            "| stddev| 0.3894898038886487|\n",
            "|    min|                  0|\n",
            "|    max|                  1|\n",
            "+-------+-------------------+\n",
            "\n"
          ]
        }
      ]
    },
    {
      "cell_type": "code",
      "metadata": {
        "id": "tF_-TDmmG8Ls"
      },
      "source": [
        "from pyspark.ml.classification import LogisticRegression\n",
        "lr = LogisticRegression(labelCol='churn')\n",
        "model = lr.fit(train)"
      ],
      "execution_count": null,
      "outputs": []
    },
    {
      "cell_type": "code",
      "metadata": {
        "id": "1bCCRrjkH0wA"
      },
      "source": [
        "result = model.evaluate(test)"
      ],
      "execution_count": null,
      "outputs": []
    },
    {
      "cell_type": "code",
      "metadata": {
        "colab": {
          "base_uri": "https://localhost:8080/"
        },
        "id": "MdGQFCsiP7F-",
        "outputId": "08b6b897-a4e2-4b8e-e48a-800ace504f4a"
      },
      "source": [
        "result.predictions.show()"
      ],
      "execution_count": null,
      "outputs": [
        {
          "output_type": "stream",
          "name": "stdout",
          "text": [
            "+--------------------+-----+--------------------+--------------------+----------+\n",
            "|            features|churn|       rawPrediction|         probability|prediction|\n",
            "+--------------------+-----+--------------------+--------------------+----------+\n",
            "|[25.0,9672.03,0.0...|    0|[4.68312517869852...|[0.99083471882980...|       0.0|\n",
            "|[26.0,8939.61,0.0...|    0|[6.54369505911062...|[0.99856290732991...|       0.0|\n",
            "|[27.0,8628.8,1.0,...|    0|[5.54032372839861...|[0.99609009147577...|       0.0|\n",
            "|[29.0,9378.24,0.0...|    0|[4.82315411783388...|[0.99202276438602...|       0.0|\n",
            "|[29.0,12711.15,0....|    0|[5.51355168789103...|[0.99598442747195...|       0.0|\n",
            "|[30.0,6744.87,0.0...|    0|[3.49207203615925...|[0.97046135098869...|       0.0|\n",
            "|[30.0,10183.98,1....|    0|[2.69672000680170...|[0.93683282138731...|       0.0|\n",
            "|[30.0,10744.14,1....|    1|[1.57176800510430...|[0.82803550532607...|       0.0|\n",
            "|[30.0,10960.52,1....|    0|[2.20394254803101...|[0.90060299473433...|       0.0|\n",
            "|[30.0,12788.37,0....|    0|[2.19582473123537...|[0.89987394328750...|       0.0|\n",
            "|[30.0,13473.35,0....|    0|[2.40395327836874...|[0.91712826441864...|       0.0|\n",
            "|[31.0,9574.89,0.0...|    0|[3.42155277103595...|[0.96837136490676...|       0.0|\n",
            "|[31.0,11743.24,0....|    0|[7.06964953033166...|[0.99915019164616...|       0.0|\n",
            "|[31.0,12264.68,1....|    0|[3.46193713492716...|[0.96958514443547...|       0.0|\n",
            "|[32.0,9036.27,0.0...|    0|[-0.5182390528239...|[0.37326409414168...|       1.0|\n",
            "|[32.0,10716.75,0....|    0|[4.49707172426534...|[0.98898119244589...|       0.0|\n",
            "|[32.0,12479.72,0....|    0|[4.62353474512032...|[0.99027742610778...|       0.0|\n",
            "|[33.0,4711.89,0.0...|    0|[6.27343810193718...|[0.99811781522074...|       0.0|\n",
            "|[33.0,5738.82,0.0...|    0|[4.75688067086985...|[0.99148082979469...|       0.0|\n",
            "|[33.0,10709.39,1....|    0|[6.52107397434649...|[0.99853007658642...|       0.0|\n",
            "+--------------------+-----+--------------------+--------------------+----------+\n",
            "only showing top 20 rows\n",
            "\n"
          ]
        }
      ]
    },
    {
      "cell_type": "code",
      "metadata": {
        "id": "Q4LUT_iNHRq4",
        "colab": {
          "base_uri": "https://localhost:8080/"
        },
        "outputId": "7a230c36-8ded-4f97-ba50-2fbaeb936d70"
      },
      "source": [
        "result.areaUnderROC"
      ],
      "execution_count": null,
      "outputs": [
        {
          "output_type": "execute_result",
          "data": {
            "text/plain": [
              "0.8581839213418176"
            ]
          },
          "metadata": {},
          "execution_count": 15
        }
      ]
    },
    {
      "cell_type": "code",
      "metadata": {
        "colab": {
          "base_uri": "https://localhost:8080/"
        },
        "id": "yLO5Nv40Hb-m",
        "outputId": "5d95282e-fbde-4454-b5e0-cd972b9674a5"
      },
      "source": [
        "result.predictions.describe().show()"
      ],
      "execution_count": null,
      "outputs": [
        {
          "output_type": "stream",
          "name": "stdout",
          "text": [
            "+-------+-------------------+-------------------+\n",
            "|summary|              churn|         prediction|\n",
            "+-------+-------------------+-------------------+\n",
            "|  count|                282|                282|\n",
            "|   mean|0.12411347517730496|0.10283687943262411|\n",
            "| stddev| 0.3302971183129155| 0.3042857016746074|\n",
            "|    min|                  0|                0.0|\n",
            "|    max|                  1|                1.0|\n",
            "+-------+-------------------+-------------------+\n",
            "\n"
          ]
        }
      ]
    },
    {
      "cell_type": "code",
      "metadata": {
        "id": "HNHdabt0IpMX",
        "colab": {
          "base_uri": "https://localhost:8080/"
        },
        "outputId": "8f772686-ba4d-4ff8-ae70-b472dd492d93"
      },
      "source": [
        "result.predictions.select('churn','prediction').show()"
      ],
      "execution_count": null,
      "outputs": [
        {
          "output_type": "stream",
          "name": "stdout",
          "text": [
            "+-----+----------+\n",
            "|churn|prediction|\n",
            "+-----+----------+\n",
            "|    0|       0.0|\n",
            "|    0|       0.0|\n",
            "|    0|       0.0|\n",
            "|    1|       0.0|\n",
            "|    0|       0.0|\n",
            "|    0|       0.0|\n",
            "|    0|       0.0|\n",
            "|    0|       0.0|\n",
            "|    1|       0.0|\n",
            "|    0|       0.0|\n",
            "|    0|       0.0|\n",
            "|    0|       0.0|\n",
            "|    0|       0.0|\n",
            "|    0|       0.0|\n",
            "|    0|       1.0|\n",
            "|    0|       0.0|\n",
            "|    0|       0.0|\n",
            "|    0|       0.0|\n",
            "|    0|       0.0|\n",
            "|    0|       0.0|\n",
            "+-----+----------+\n",
            "only showing top 20 rows\n",
            "\n"
          ]
        }
      ]
    },
    {
      "cell_type": "code",
      "metadata": {
        "id": "x6Ap1LX4jrls"
      },
      "source": [
        "new_customers = spark.read.format('csv').options(inferSchema='True',header='True').load('/content/drive/MyDrive/Colab Notebooks/Churn/new_customers.csv')"
      ],
      "execution_count": null,
      "outputs": []
    },
    {
      "cell_type": "code",
      "metadata": {
        "colab": {
          "base_uri": "https://localhost:8080/"
        },
        "id": "iB_QZsGHxLPK",
        "outputId": "60c9246f-c104-44ed-9eb0-2f8c33f7209a"
      },
      "source": [
        "new_customers.show()"
      ],
      "execution_count": null,
      "outputs": [
        {
          "output_type": "stream",
          "name": "stdout",
          "text": [
            "+--------------+----+--------------+---------------+-----+---------+-------------------+--------------------+----------------+\n",
            "|         Names| Age|Total_Purchase|Account_Manager|Years|Num_Sites|       Onboard_date|            Location|         Company|\n",
            "+--------------+----+--------------+---------------+-----+---------+-------------------+--------------------+----------------+\n",
            "| Andrew Mccall|37.0|       9935.53|              1| 7.71|      8.0|2011-08-29 18:37:54|38612 Johnny Stra...|        King Ltd|\n",
            "|Michele Wright|23.0|       7526.94|              1| 9.28|     15.0|2013-07-22 18:19:54|21083 Nicole Junc...|   Cannon-Benson|\n",
            "|  Jeremy Chang|65.0|         100.0|              1|  1.0|     15.0|2006-12-11 07:48:13|085 Austin Views ...|Barron-Robertson|\n",
            "|Megan Ferguson|32.0|        6487.5|              0|  9.4|     14.0|2016-10-28 05:32:13|922 Wright Branch...|   Sexton-Golden|\n",
            "|  Taylor Young|32.0|      13147.71|              1| 10.0|      8.0|2012-03-20 00:36:46|Unit 0789 Box 073...|        Wood LLC|\n",
            "| Jessica Drake|22.0|       8445.26|              1| 3.46|     14.0|2011-02-04 19:29:27|1148 Tina Straven...|   Parks-Robbins|\n",
            "+--------------+----+--------------+---------------+-----+---------+-------------------+--------------------+----------------+\n",
            "\n"
          ]
        }
      ]
    },
    {
      "cell_type": "code",
      "metadata": {
        "id": "bxaOrhHY-Rlp"
      },
      "source": [
        "results = model.transform(assembler.transform(new_customers))"
      ],
      "execution_count": null,
      "outputs": []
    },
    {
      "cell_type": "code",
      "metadata": {
        "colab": {
          "base_uri": "https://localhost:8080/"
        },
        "id": "J-xBwlq7w79i",
        "outputId": "5f280a5d-a184-499c-a4f3-448a17cbee9a"
      },
      "source": [
        "results.select('Names', 'Company', 'prediction').show()"
      ],
      "execution_count": null,
      "outputs": [
        {
          "output_type": "stream",
          "name": "stdout",
          "text": [
            "+--------------+----------------+----------+\n",
            "|         Names|         Company|prediction|\n",
            "+--------------+----------------+----------+\n",
            "| Andrew Mccall|        King Ltd|       0.0|\n",
            "|Michele Wright|   Cannon-Benson|       1.0|\n",
            "|  Jeremy Chang|Barron-Robertson|       1.0|\n",
            "|Megan Ferguson|   Sexton-Golden|       1.0|\n",
            "|  Taylor Young|        Wood LLC|       0.0|\n",
            "| Jessica Drake|   Parks-Robbins|       1.0|\n",
            "+--------------+----------------+----------+\n",
            "\n"
          ]
        }
      ]
    }
  ]
}
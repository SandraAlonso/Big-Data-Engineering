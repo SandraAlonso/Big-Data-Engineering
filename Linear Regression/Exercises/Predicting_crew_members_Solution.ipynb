{
  "nbformat": 4,
  "nbformat_minor": 0,
  "metadata": {
    "colab": {
      "name": "BDE2021 - 6. Predicting crew members.ipynb",
      "provenance": [],
      "collapsed_sections": []
    },
    "kernelspec": {
      "name": "python3",
      "display_name": "Python 3"
    },
    "language_info": {
      "name": "python"
    }
  },
  "cells": [
    {
      "cell_type": "code",
      "metadata": {
        "id": "qyWjqitA2ie8"
      },
      "source": [
        "!apt-get install openjdk-8-jdk-headless -qq > /dev/null\n",
        "!wget -q https://mirrors.sonic.net/apache/spark/spark-3.1.2/spark-3.1.2-bin-hadoop3.2.tgz\n",
        "!tar xzf spark-3.1.2-bin-hadoop3.2.tgz\n",
        "!pip install -q findspark\n",
        "\n",
        "\n",
        "import os\n",
        "os.environ[\"JAVA_HOME\"] = \"/usr/lib/jvm/java-8-openjdk-amd64\"\n",
        "os.environ[\"SPARK_HOME\"] = \"/content/spark-3.1.2-bin-hadoop3.2\"\n",
        "\n",
        "\n",
        "import findspark\n",
        "findspark.init()\n",
        "from pyspark.sql import SparkSession\n",
        "spark = SparkSession.builder.master(\"local[*]\").getOrCreate()"
      ],
      "execution_count": null,
      "outputs": []
    },
    {
      "cell_type": "code",
      "metadata": {
        "id": "FdCdt1XO3D3b"
      },
      "source": [
        "df = spark.read.format('csv').options(inferSchema=True,header=True).load('/content/drive/MyDrive/Colab Notebooks/Crew/cruise_ship_info.csv')"
      ],
      "execution_count": null,
      "outputs": []
    },
    {
      "cell_type": "code",
      "metadata": {
        "colab": {
          "base_uri": "https://localhost:8080/"
        },
        "id": "PQWxjSxNiW-y",
        "outputId": "139855f2-7c16-440d-8e48-2eb8d33b5323"
      },
      "source": [
        "df.printSchema()"
      ],
      "execution_count": null,
      "outputs": [
        {
          "output_type": "stream",
          "name": "stdout",
          "text": [
            "root\n",
            " |-- Ship_name: string (nullable = true)\n",
            " |-- Cruise_line: string (nullable = true)\n",
            " |-- Age: integer (nullable = true)\n",
            " |-- Tonnage: double (nullable = true)\n",
            " |-- passengers: double (nullable = true)\n",
            " |-- length: double (nullable = true)\n",
            " |-- cabins: double (nullable = true)\n",
            " |-- passenger_density: double (nullable = true)\n",
            " |-- crew: double (nullable = true)\n",
            "\n"
          ]
        }
      ]
    },
    {
      "cell_type": "code",
      "metadata": {
        "colab": {
          "base_uri": "https://localhost:8080/"
        },
        "id": "7Zq7tIn4M03R",
        "outputId": "d1e4f621-7b50-4752-d14c-82f939c92910"
      },
      "source": [
        "df.describe().show()"
      ],
      "execution_count": null,
      "outputs": [
        {
          "output_type": "stream",
          "name": "stdout",
          "text": [
            "+-------+---------+-----------+------------------+------------------+-----------------+-----------------+------------------+-----------------+-----------------+\n",
            "|summary|Ship_name|Cruise_line|               Age|           Tonnage|       passengers|           length|            cabins|passenger_density|             crew|\n",
            "+-------+---------+-----------+------------------+------------------+-----------------+-----------------+------------------+-----------------+-----------------+\n",
            "|  count|      158|        158|               158|               158|              158|              158|               158|              158|              158|\n",
            "|   mean| Infinity|       null|15.689873417721518| 71.28467088607599|18.45740506329114|8.130632911392404| 8.830000000000005|39.90094936708861|7.794177215189873|\n",
            "| stddev|     null|       null| 7.615691058751413|37.229540025907866|9.677094775143416|1.793473548054825|4.4714172221480615| 8.63921711391542|3.503486564627034|\n",
            "|    min|Adventure|    Azamara|                 4|             2.329|             0.66|             2.79|              0.33|             17.7|             0.59|\n",
            "|    max|Zuiderdam|   Windstar|                48|             220.0|             54.0|            11.82|              27.0|            71.43|             21.0|\n",
            "+-------+---------+-----------+------------------+------------------+-----------------+-----------------+------------------+-----------------+-----------------+\n",
            "\n"
          ]
        }
      ]
    },
    {
      "cell_type": "code",
      "metadata": {
        "colab": {
          "base_uri": "https://localhost:8080/"
        },
        "id": "HTQifOzD3TNt",
        "outputId": "5a14dfe0-6732-44f7-b412-ed78dc2555af"
      },
      "source": [
        "df.show(5)"
      ],
      "execution_count": null,
      "outputs": [
        {
          "output_type": "stream",
          "name": "stdout",
          "text": [
            "+-----------+-----------+---+------------------+----------+------+------+-----------------+----+\n",
            "|  Ship_name|Cruise_line|Age|           Tonnage|passengers|length|cabins|passenger_density|crew|\n",
            "+-----------+-----------+---+------------------+----------+------+------+-----------------+----+\n",
            "|    Journey|    Azamara|  6|30.276999999999997|      6.94|  5.94|  3.55|            42.64|3.55|\n",
            "|      Quest|    Azamara|  6|30.276999999999997|      6.94|  5.94|  3.55|            42.64|3.55|\n",
            "|Celebration|   Carnival| 26|            47.262|     14.86|  7.22|  7.43|             31.8| 6.7|\n",
            "|   Conquest|   Carnival| 11|             110.0|     29.74|  9.53| 14.88|            36.99|19.1|\n",
            "|    Destiny|   Carnival| 17|           101.353|     26.42|  8.92| 13.21|            38.36|10.0|\n",
            "+-----------+-----------+---+------------------+----------+------+------+-----------------+----+\n",
            "only showing top 5 rows\n",
            "\n"
          ]
        }
      ]
    },
    {
      "cell_type": "code",
      "metadata": {
        "id": "Nqo513T6vGEy",
        "colab": {
          "base_uri": "https://localhost:8080/"
        },
        "outputId": "c4b8eaaf-a045-46c9-b337-3b70a608ae98"
      },
      "source": [
        "df.groupBy('Cruise_line').count().show()"
      ],
      "execution_count": null,
      "outputs": [
        {
          "output_type": "stream",
          "name": "stdout",
          "text": [
            "+-----------------+-----+\n",
            "|      Cruise_line|count|\n",
            "+-----------------+-----+\n",
            "|            Costa|   11|\n",
            "|              P&O|    6|\n",
            "|           Cunard|    3|\n",
            "|Regent_Seven_Seas|    5|\n",
            "|              MSC|    8|\n",
            "|         Carnival|   22|\n",
            "|          Crystal|    2|\n",
            "|           Orient|    1|\n",
            "|         Princess|   17|\n",
            "|        Silversea|    4|\n",
            "|         Seabourn|    3|\n",
            "| Holland_American|   14|\n",
            "|         Windstar|    3|\n",
            "|           Disney|    2|\n",
            "|        Norwegian|   13|\n",
            "|          Oceania|    3|\n",
            "|          Azamara|    2|\n",
            "|        Celebrity|   10|\n",
            "|             Star|    6|\n",
            "|  Royal_Caribbean|   23|\n",
            "+-----------------+-----+\n",
            "\n"
          ]
        }
      ]
    },
    {
      "cell_type": "code",
      "metadata": {
        "id": "V1SlBrtrjBDf"
      },
      "source": [
        "from pyspark.ml.feature import StringIndexer\n",
        "indexer = StringIndexer(inputCol='Cruise_line', outputCol='Cruise_lineIndex')\n",
        "indexed = indexer.fit(df).transform(df)"
      ],
      "execution_count": null,
      "outputs": []
    },
    {
      "cell_type": "code",
      "metadata": {
        "colab": {
          "base_uri": "https://localhost:8080/"
        },
        "id": "RP7LK8dW4rPO",
        "outputId": "83c0f21b-4e87-40bb-ec37-12335c60e889"
      },
      "source": [
        "indexed.show(1)"
      ],
      "execution_count": null,
      "outputs": [
        {
          "output_type": "stream",
          "name": "stdout",
          "text": [
            "+---------+-----------+---+------------------+----------+------+------+-----------------+----+----------------+\n",
            "|Ship_name|Cruise_line|Age|           Tonnage|passengers|length|cabins|passenger_density|crew|Cruise_lineIndex|\n",
            "+---------+-----------+---+------------------+----------+------+------+-----------------+----+----------------+\n",
            "|  Journey|    Azamara|  6|30.276999999999997|      6.94|  5.94|  3.55|            42.64|3.55|            16.0|\n",
            "+---------+-----------+---+------------------+----------+------+------+-----------------+----+----------------+\n",
            "only showing top 1 row\n",
            "\n"
          ]
        }
      ]
    },
    {
      "cell_type": "code",
      "metadata": {
        "colab": {
          "base_uri": "https://localhost:8080/"
        },
        "id": "RO6uFCxxzzIR",
        "outputId": "894bb69b-7ec1-4f39-ca53-d335815c0a33"
      },
      "source": [
        "indexed.columns"
      ],
      "execution_count": null,
      "outputs": [
        {
          "output_type": "execute_result",
          "data": {
            "text/plain": [
              "['Ship_name',\n",
              " 'Cruise_line',\n",
              " 'Age',\n",
              " 'Tonnage',\n",
              " 'passengers',\n",
              " 'length',\n",
              " 'cabins',\n",
              " 'passenger_density',\n",
              " 'crew',\n",
              " 'Cruise_lineIndex']"
            ]
          },
          "metadata": {},
          "execution_count": 10
        }
      ]
    },
    {
      "cell_type": "code",
      "metadata": {
        "id": "x6Ap1LX4jrls"
      },
      "source": [
        "from pyspark.ml.feature import VectorAssembler\n",
        "assembler = VectorAssembler(inputCols=['Age',\n",
        "                                       'Tonnage',\n",
        "                                       'passengers',\n",
        "                                       'length',\n",
        "                                       'cabins',\n",
        "                                       'passenger_density',\n",
        "                                       'Cruise_lineIndex'],\n",
        "                           outputCol='features')"
      ],
      "execution_count": null,
      "outputs": []
    },
    {
      "cell_type": "code",
      "metadata": {
        "id": "bxaOrhHY-Rlp"
      },
      "source": [
        "output = assembler.transform(indexed)"
      ],
      "execution_count": null,
      "outputs": []
    },
    {
      "cell_type": "code",
      "metadata": {
        "id": "3_85SCejjDwA"
      },
      "source": [
        "final_data = output.select(['features','crew'])\n",
        "train,test = final_data.randomSplit([0.7, 0.3])"
      ],
      "execution_count": null,
      "outputs": []
    },
    {
      "cell_type": "code",
      "metadata": {
        "id": "JvXTY0HsCzfg",
        "colab": {
          "base_uri": "https://localhost:8080/"
        },
        "outputId": "ee715360-ef1c-4b2e-a8be-780184e4da37"
      },
      "source": [
        "train.describe().show()"
      ],
      "execution_count": null,
      "outputs": [
        {
          "output_type": "stream",
          "name": "stdout",
          "text": [
            "+-------+------------------+\n",
            "|summary|              crew|\n",
            "+-------+------------------+\n",
            "|  count|               112|\n",
            "|   mean| 7.594285714285723|\n",
            "| stddev|3.6942099118196925|\n",
            "|    min|              0.59|\n",
            "|    max|              21.0|\n",
            "+-------+------------------+\n",
            "\n"
          ]
        }
      ]
    },
    {
      "cell_type": "code",
      "metadata": {
        "id": "icrOJsVl-ZN_"
      },
      "source": [
        "from pyspark.ml.regression import LinearRegression\n",
        "lr = LinearRegression(labelCol='crew')\n",
        "model = lr.fit(train)"
      ],
      "execution_count": null,
      "outputs": []
    },
    {
      "cell_type": "code",
      "metadata": {
        "id": "nxYW1W-Gx8hj"
      },
      "source": [
        "result = model.evaluate(test)"
      ],
      "execution_count": null,
      "outputs": []
    },
    {
      "cell_type": "code",
      "metadata": {
        "colab": {
          "base_uri": "https://localhost:8080/"
        },
        "id": "fkz9I1oiOVCe",
        "outputId": "b9aa03b9-0829-4798-ecc7-e58b997a301b"
      },
      "source": [
        "result.predictions.show()"
      ],
      "execution_count": null,
      "outputs": [
        {
          "output_type": "stream",
          "name": "stdout",
          "text": [
            "+--------------------+-----+------------------+\n",
            "|            features| crew|        prediction|\n",
            "+--------------------+-----+------------------+\n",
            "|[5.0,115.0,35.74,...| 12.2|12.201331015897093|\n",
            "|[6.0,90.0,20.0,9....|  9.0|10.281607025554854|\n",
            "|[6.0,112.0,38.0,9...| 10.9|11.622999669733208|\n",
            "|[7.0,89.6,25.5,9....| 9.87|11.384326270595423|\n",
            "|[7.0,116.0,31.0,9...| 12.0|12.774416775842035|\n",
            "|[8.0,110.0,29.74,...| 11.6|  12.2258460250553|\n",
            "|[9.0,81.0,21.44,9...| 10.0| 9.684645433315179|\n",
            "|[9.0,85.0,19.68,9...| 8.69| 9.456044903335886|\n",
            "|[10.0,86.0,21.14,...|  9.2|  9.78779979818717|\n",
            "|[10.0,91.62700000...|  9.0| 9.156591836732177|\n",
            "|[10.0,110.0,29.74...| 11.6|12.173979571980174|\n",
            "|[11.0,86.0,21.24,...|  9.3| 9.541853963414377|\n",
            "|[11.0,108.977,26....| 12.0| 11.05281578352847|\n",
            "|[12.0,42.0,14.8,7...|  6.8| 7.010633747354531|\n",
            "|[12.0,50.0,7.0,7....| 4.45| 4.422851657320788|\n",
            "|[12.0,58.6,15.66,...|  7.0|7.5886929239827285|\n",
            "|[12.0,77.104,20.0...| 9.59| 8.867174096992981|\n",
            "|[12.0,88.5,21.24,...|10.29| 9.461241913765877|\n",
            "|[12.0,91.0,20.32,...| 9.99| 9.211546272588777|\n",
            "|[13.0,25.0,3.82,5...| 2.95|2.9898947764383887|\n",
            "+--------------------+-----+------------------+\n",
            "only showing top 20 rows\n",
            "\n"
          ]
        }
      ]
    },
    {
      "cell_type": "code",
      "metadata": {
        "id": "ZJFkRmqfyADG",
        "colab": {
          "base_uri": "https://localhost:8080/"
        },
        "outputId": "6d73ee13-398b-4987-b2a9-14656acecd56"
      },
      "source": [
        "result.rootMeanSquaredError"
      ],
      "execution_count": null,
      "outputs": [
        {
          "output_type": "execute_result",
          "data": {
            "text/plain": [
              "0.7892726321215242"
            ]
          },
          "metadata": {},
          "execution_count": 17
        }
      ]
    },
    {
      "cell_type": "code",
      "metadata": {
        "colab": {
          "base_uri": "https://localhost:8080/"
        },
        "id": "yCP6nvQy0Wd_",
        "outputId": "a2ed3dfa-2d06-40e9-aeb6-addcdde6287f"
      },
      "source": [
        "result.r2"
      ],
      "execution_count": null,
      "outputs": [
        {
          "output_type": "execute_result",
          "data": {
            "text/plain": [
              "0.9277964694383092"
            ]
          },
          "metadata": {},
          "execution_count": 19
        }
      ]
    },
    {
      "cell_type": "code",
      "metadata": {
        "id": "nGc2fMc5yC9w",
        "colab": {
          "base_uri": "https://localhost:8080/"
        },
        "outputId": "91b138f4-e01b-4879-ffb3-16de97d402fb"
      },
      "source": [
        "test.describe().show()"
      ],
      "execution_count": null,
      "outputs": [
        {
          "output_type": "stream",
          "name": "stdout",
          "text": [
            "+-------+-----------------+\n",
            "|summary|             crew|\n",
            "+-------+-----------------+\n",
            "|  count|               46|\n",
            "|   mean|8.280869565217392|\n",
            "| stddev|2.969754068446264|\n",
            "|    min|              1.6|\n",
            "|    max|            13.13|\n",
            "+-------+-----------------+\n",
            "\n"
          ]
        }
      ]
    },
    {
      "cell_type": "code",
      "metadata": {
        "colab": {
          "base_uri": "https://localhost:8080/"
        },
        "id": "J116lhHOyGDa",
        "outputId": "a3b54514-31ff-46a2-9510-618380ec848c"
      },
      "source": [
        "from pyspark.sql.functions import corr\n",
        "df.select(corr('crew', 'passengers'), corr('crew', 'cabins')).show()"
      ],
      "execution_count": null,
      "outputs": [
        {
          "output_type": "stream",
          "name": "stdout",
          "text": [
            "+----------------------+------------------+\n",
            "|corr(crew, passengers)|corr(crew, cabins)|\n",
            "+----------------------+------------------+\n",
            "|    0.9152341306065384|0.9508226063578497|\n",
            "+----------------------+------------------+\n",
            "\n"
          ]
        }
      ]
    },
    {
      "cell_type": "code",
      "metadata": {
        "colab": {
          "base_uri": "https://localhost:8080/"
        },
        "id": "a6FoUgCKE9KC",
        "outputId": "33571191-219a-4f16-b201-a24b407bb37f"
      },
      "source": [
        "model.transform(test).show()"
      ],
      "execution_count": null,
      "outputs": [
        {
          "output_type": "stream",
          "name": "stdout",
          "text": [
            "+--------------------+-----+------------------+\n",
            "|            features| crew|        prediction|\n",
            "+--------------------+-----+------------------+\n",
            "|[5.0,86.0,21.04,9...|  8.0| 9.293595502226285|\n",
            "|[5.0,133.5,39.59,...|13.13|13.210292404474307|\n",
            "|[6.0,112.0,38.0,9...| 10.9|11.535156467269488|\n",
            "|[9.0,59.058,17.0,...|  7.4| 7.583910638924453|\n",
            "|[9.0,81.0,21.44,9...| 10.0| 9.563525641013848|\n",
            "|[9.0,90.09,25.01,...| 8.69| 9.403498608364483|\n",
            "|[9.0,113.0,26.74,...|12.38|11.300512568834295|\n",
            "|[9.0,113.0,26.74,...|12.38|11.300512568834295|\n",
            "|[10.0,81.76899999...| 8.42| 8.803536478146047|\n",
            "|[10.0,105.0,27.2,...|10.68|11.211376781826578|\n",
            "|[10.0,151.4,26.2,...|12.53|10.826016272371906|\n",
            "|[11.0,58.6,15.66,...|  7.6| 7.414907169813991|\n",
            "|[11.0,90.09,25.01...| 8.48| 9.009265666743765|\n",
            "|[11.0,91.0,20.32,...| 9.99| 9.142237596344817|\n",
            "|[11.0,108.977,26....| 12.0|11.048323468936674|\n",
            "|[12.0,25.0,3.88,5...| 2.87|3.1347598206120235|\n",
            "|[12.0,77.104,20.0...| 9.59| 8.796912502102877|\n",
            "|[12.0,90.09,25.01...| 8.68| 8.995948757875789|\n",
            "|[12.0,91.0,20.32,...| 9.99| 9.128920687476839|\n",
            "|[12.0,91.0,20.32,...| 9.99| 9.128920687476839|\n",
            "+--------------------+-----+------------------+\n",
            "only showing top 20 rows\n",
            "\n"
          ]
        }
      ]
    }
  ]
}